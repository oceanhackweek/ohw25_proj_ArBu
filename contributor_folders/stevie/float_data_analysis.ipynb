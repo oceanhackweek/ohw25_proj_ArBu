{
 "cells": [
  {
   "cell_type": "code",
   "execution_count": 8,
   "id": "1dc911cc-7ff1-4967-9e85-54790a42c87b",
   "metadata": {
    "collapsed": true,
    "jupyter": {
     "outputs_hidden": true
    },
    "scrolled": true
   },
   "outputs": [
    {
     "name": "stdout",
     "output_type": "stream",
     "text": [
      "Channels:\n",
      " - conda-forge\n",
      "Platform: linux-64\n",
      "Collecting package metadata (repodata.json): done\n",
      "Solving environment: done\n",
      "\n",
      "\n",
      "==> WARNING: A newer version of conda exists. <==\n",
      "    current version: 24.11.3\n",
      "    latest version: 25.7.0\n",
      "\n",
      "Please update conda by running\n",
      "\n",
      "    $ conda update -n base -c conda-forge conda\n",
      "\n",
      "\n",
      "\n",
      "## Package Plan ##\n",
      "\n",
      "  environment location: /srv/conda/envs/notebook\n",
      "\n",
      "  added / updated specs:\n",
      "    - gsw\n",
      "\n",
      "\n",
      "The following packages will be downloaded:\n",
      "\n",
      "    package                    |            build\n",
      "    ---------------------------|-----------------\n",
      "    gsw-3.6.20                 |  py312h4f23490_0         2.0 MB  conda-forge\n",
      "    ------------------------------------------------------------\n",
      "                                           Total:         2.0 MB\n",
      "\n",
      "The following NEW packages will be INSTALLED:\n",
      "\n",
      "  gsw                conda-forge/linux-64::gsw-3.6.20-py312h4f23490_0 \n",
      "\n",
      "\n",
      "\n",
      "Downloading and Extracting Packages:\n",
      "                                                                                \n",
      "Preparing transaction: done\n",
      "Verifying transaction: done\n",
      "Executing transaction: done\n",
      "\n",
      "Note: you may need to restart the kernel to use updated packages.\n"
     ]
    }
   ],
   "source": [
    "conda install gsw"
   ]
  },
  {
   "cell_type": "code",
   "execution_count": 7,
   "id": "560e9ecf-e23d-4f40-80ca-236d98a6ca95",
   "metadata": {},
   "outputs": [
    {
     "ename": "SyntaxError",
     "evalue": "invalid syntax (2438863892.py, line 2)",
     "output_type": "error",
     "traceback": [
      "\u001b[0;36m  Cell \u001b[0;32mIn[7], line 2\u001b[0;36m\u001b[0m\n\u001b[0;31m    conda install gsw\u001b[0m\n\u001b[0m          ^\u001b[0m\n\u001b[0;31mSyntaxError\u001b[0m\u001b[0;31m:\u001b[0m invalid syntax\n"
     ]
    }
   ],
   "source": [
    "# conda install -c conda-forge argopy"
   ]
  },
  {
   "cell_type": "code",
   "execution_count": 1,
   "id": "5206e613-32a5-4889-b05b-43d8035cbbc7",
   "metadata": {},
   "outputs": [
    {
     "data": {
      "text/plain": [
       "<xarray.core.options.set_options at 0x7eff79b44c50>"
      ]
     },
     "execution_count": 1,
     "metadata": {},
     "output_type": "execute_result"
    }
   ],
   "source": [
    "from argopy import DataFetcher  # This is the class to work with Argo data\n",
    "from argopy import ArgoIndex  #  This is the class to work with Argo index\n",
    "from argopy import ArgoNVSReferenceTables  # This is the class to retrieve data from Argo reference tables\n",
    "from argopy import ArgoColors  # This is a class with useful pre-defined colors\n",
    "from argopy.plot import scatter_map, scatter_plot  # This is a function to easily make maps\n",
    "\n",
    "# Make a fresh start\n",
    "import argopy\n",
    "# argopy.reset_options()\n",
    "argopy.clear_cache()\n",
    "argopy.set_options(cachedir='cache_bgc')\n",
    "\n",
    "import gsw\n",
    "\n",
    "\n",
    "import numpy as np\n",
    "import matplotlib as mpl\n",
    "from matplotlib import pyplot as plt\n",
    "import cmocean as cmo\n",
    "import xarray as xr\n",
    "import cartopy.crs as ccrs\n",
    "import warnings\n",
    "import cmocean\n",
    "\n",
    "xr.set_options(display_expand_attrs = False)"
   ]
  },
  {
   "cell_type": "markdown",
   "id": "0ddd7e04-615b-410c-9c6d-dbc42b33951d",
   "metadata": {},
   "source": [
    "# Subset Hurricane Track Data"
   ]
  },
  {
   "cell_type": "code",
   "execution_count": 7,
   "id": "5078b8c6-a369-4564-87ce-8ba7ae256ee6",
   "metadata": {},
   "outputs": [
    {
     "data": {
      "text/plain": [
       "Index(['SID', 'SEASON', 'NUMBER', 'BASIN', 'SUBBASIN', 'NAME', 'ISO_TIME',\n",
       "       'NATURE', 'LAT', 'LON',\n",
       "       ...\n",
       "       'BOM_GUST_PER', 'REUNION_GUST', 'REUNION_GUST_PER', 'USA_SEAHGT',\n",
       "       'USA_SEARAD_NE', 'USA_SEARAD_SE', 'USA_SEARAD_SW', 'USA_SEARAD_NW',\n",
       "       'STORM_SPEED', 'STORM_DIR'],\n",
       "      dtype='object', length=174)"
      ]
     },
     "execution_count": 7,
     "metadata": {},
     "output_type": "execute_result"
    }
   ],
   "source": [
    "hurricane_tracks.columns"
   ]
  },
  {
   "cell_type": "code",
   "execution_count": 5,
   "id": "5bdc5587-fc2e-4a0a-b05f-3e728f10c2af",
   "metadata": {
    "scrolled": true
   },
   "outputs": [
    {
     "name": "stderr",
     "output_type": "stream",
     "text": [
      "/tmp/ipykernel_284/278968951.py:1: DtypeWarning: Columns (1,2,8,9,14,172,173) have mixed types. Specify dtype option on import or set low_memory=False.\n",
      "  hurricane_tracks = pd.read_csv(\"/home/jovyan/shared-public/OHW25/ArBu_proj_shared/ibtracs/ibtracs.ALL.list.v04r01.csv\")\n"
     ]
    }
   ],
   "source": [
    "hurricane_tracks = pd.read_csv(\"/home/jovyan/shared-public/OHW25/ArBu_proj_shared/ibtracs/ibtracs.ALL.list.v04r01.csv\")"
   ]
  },
  {
   "cell_type": "code",
   "execution_count": 19,
   "id": "a8d5e6cd-10c6-4ab0-a95f-b70680b88bab",
   "metadata": {},
   "outputs": [],
   "source": [
    "# time = hurricane_tracks['ISO_TIME']\n",
    "# time\n",
    "# # construct Boolean mask\n",
    "mask = hurricane_tracks['ISO_TIME'].between('2015-01-01 00:00:00', '2025-08-18 18:00:00')\n",
    "# apply Boolean mask\n",
    "new_df = hurricane_tracks[mask]\n",
    "new_df.to_csv(\"/home/jovyan/shared-public/OHW25/ArBu_proj_shared/ibtracs/ibtracs_2015-2025.csv\",index=False)\n"
   ]
  },
  {
   "cell_type": "markdown",
   "id": "305ab16e-3c94-4677-a02c-f0736a30b24d",
   "metadata": {},
   "source": [
    "# Joohyeun's code"
   ]
  },
  {
   "cell_type": "code",
   "execution_count": 3,
   "id": "ec06f975-c32e-469b-8303-52fc3296f3ee",
   "metadata": {},
   "outputs": [
    {
     "name": "stdout",
     "output_type": "stream",
     "text": [
      "Loading IBTrACS CSV file...\n",
      "Total storms found for 2023: 75\n"
     ]
    }
   ],
   "source": [
    "import pandas as pd\n",
    "import matplotlib.pyplot as plt\n",
    "import cartopy.crs as ccrs\n",
    "import cartopy.feature as cfeature\n",
    "from argopy import DataFetcher\n",
    "from datetime import timedelta\n",
    "\n",
    "# Load and clean IBTrACS CSV\n",
    "print(\"Loading IBTrACS CSV file...\")\n",
    "ibtracs_path = \"/home/jovyan/shared-public/OHW25/ArBu_proj_shared/ibtracs/ibtracs.ALL.list.v04r01.csv\"\n",
    "ibtracs = pd.read_csv(ibtracs_path, header=0, low_memory=False)\n",
    "\n",
    "# Standardize and parse columns\n",
    "ibtracs.columns = ibtracs.columns.str.strip().str.upper()\n",
    "ibtracs['SEASON'] = pd.to_numeric(ibtracs['SEASON'], errors='coerce')\n",
    "ibtracs['LAT'] = pd.to_numeric(ibtracs['LAT'], errors='coerce')\n",
    "ibtracs['LON'] = pd.to_numeric(ibtracs['LON'], errors='coerce')\n",
    "ibtracs['ISO_TIME'] = pd.to_datetime(ibtracs['ISO_TIME'], format='%Y-%m-%d %H:%M:%S', errors='coerce')\n",
    "\n",
    "# Filter for 2023 season\n",
    "ibtracs_2023 = ibtracs[ibtracs['SEASON'] == 2023].dropna(subset=['LAT', 'LON', 'ISO_TIME'])\n",
    "storm_count = ibtracs_2023['NAME'].nunique()\n",
    "print(f\"Total storms found for 2023: {storm_count}\")\n",
    "\n",
    "# Group by storm name\n",
    "storms = ibtracs_2023.groupby('NAME')\n"
   ]
  },
  {
   "cell_type": "code",
   "execution_count": 4,
   "id": "a0e5a597-eebc-4f36-ad89-7e00ec57ddf7",
   "metadata": {
    "collapsed": true,
    "jupyter": {
     "outputs_hidden": true
    }
   },
   "outputs": [
    {
     "name": "stdout",
     "output_type": "stream",
     "text": [
      "\n",
      "[1/75] Processing storm: ADRIAN\n"
     ]
    },
    {
     "name": "stderr",
     "output_type": "stream",
     "text": [
      "/srv/conda/envs/notebook/lib/python3.12/site-packages/argopy/xarray.py:70: FutureWarning: The return type of `Dataset.dims` will be changed to return a set of dimension names in future, in order to be more consistent with `DataArray.dims`. To access a mapping from dimension names to lengths, please use `Dataset.sizes`.\n",
      "  self._dims = list(xarray_obj.dims.keys())\n",
      "/srv/conda/envs/notebook/lib/python3.12/site-packages/argopy/xarray.py:70: FutureWarning: The return type of `Dataset.dims` will be changed to return a set of dimension names in future, in order to be more consistent with `DataArray.dims`. To access a mapping from dimension names to lengths, please use `Dataset.sizes`.\n",
      "  self._dims = list(xarray_obj.dims.keys())\n"
     ]
    },
    {
     "name": "stdout",
     "output_type": "stream",
     "text": [
      "   Skipping point due to error: 'ScipyArrayWrapper' object has no attribute 'oindex'\n"
     ]
    },
    {
     "name": "stderr",
     "output_type": "stream",
     "text": [
      "/srv/conda/envs/notebook/lib/python3.12/site-packages/argopy/xarray.py:70: FutureWarning: The return type of `Dataset.dims` will be changed to return a set of dimension names in future, in order to be more consistent with `DataArray.dims`. To access a mapping from dimension names to lengths, please use `Dataset.sizes`.\n",
      "  self._dims = list(xarray_obj.dims.keys())\n",
      "/srv/conda/envs/notebook/lib/python3.12/site-packages/argopy/xarray.py:70: FutureWarning: The return type of `Dataset.dims` will be changed to return a set of dimension names in future, in order to be more consistent with `DataArray.dims`. To access a mapping from dimension names to lengths, please use `Dataset.sizes`.\n",
      "  self._dims = list(xarray_obj.dims.keys())\n"
     ]
    },
    {
     "name": "stdout",
     "output_type": "stream",
     "text": [
      "   Skipping point due to error: 'ScipyArrayWrapper' object has no attribute 'oindex'\n"
     ]
    },
    {
     "name": "stderr",
     "output_type": "stream",
     "text": [
      "/srv/conda/envs/notebook/lib/python3.12/site-packages/argopy/xarray.py:70: FutureWarning: The return type of `Dataset.dims` will be changed to return a set of dimension names in future, in order to be more consistent with `DataArray.dims`. To access a mapping from dimension names to lengths, please use `Dataset.sizes`.\n",
      "  self._dims = list(xarray_obj.dims.keys())\n",
      "/srv/conda/envs/notebook/lib/python3.12/site-packages/argopy/xarray.py:70: FutureWarning: The return type of `Dataset.dims` will be changed to return a set of dimension names in future, in order to be more consistent with `DataArray.dims`. To access a mapping from dimension names to lengths, please use `Dataset.sizes`.\n",
      "  self._dims = list(xarray_obj.dims.keys())\n"
     ]
    },
    {
     "name": "stdout",
     "output_type": "stream",
     "text": [
      "   Skipping point due to error: 'ScipyArrayWrapper' object has no attribute 'oindex'\n"
     ]
    },
    {
     "name": "stderr",
     "output_type": "stream",
     "text": [
      "/srv/conda/envs/notebook/lib/python3.12/site-packages/argopy/xarray.py:70: FutureWarning: The return type of `Dataset.dims` will be changed to return a set of dimension names in future, in order to be more consistent with `DataArray.dims`. To access a mapping from dimension names to lengths, please use `Dataset.sizes`.\n",
      "  self._dims = list(xarray_obj.dims.keys())\n",
      "/srv/conda/envs/notebook/lib/python3.12/site-packages/argopy/xarray.py:70: FutureWarning: The return type of `Dataset.dims` will be changed to return a set of dimension names in future, in order to be more consistent with `DataArray.dims`. To access a mapping from dimension names to lengths, please use `Dataset.sizes`.\n",
      "  self._dims = list(xarray_obj.dims.keys())\n"
     ]
    },
    {
     "name": "stdout",
     "output_type": "stream",
     "text": [
      "   Skipping point due to error: 'ScipyArrayWrapper' object has no attribute 'oindex'\n"
     ]
    },
    {
     "name": "stderr",
     "output_type": "stream",
     "text": [
      "/srv/conda/envs/notebook/lib/python3.12/site-packages/argopy/xarray.py:70: FutureWarning: The return type of `Dataset.dims` will be changed to return a set of dimension names in future, in order to be more consistent with `DataArray.dims`. To access a mapping from dimension names to lengths, please use `Dataset.sizes`.\n",
      "  self._dims = list(xarray_obj.dims.keys())\n",
      "/srv/conda/envs/notebook/lib/python3.12/site-packages/argopy/xarray.py:70: FutureWarning: The return type of `Dataset.dims` will be changed to return a set of dimension names in future, in order to be more consistent with `DataArray.dims`. To access a mapping from dimension names to lengths, please use `Dataset.sizes`.\n",
      "  self._dims = list(xarray_obj.dims.keys())\n"
     ]
    },
    {
     "name": "stdout",
     "output_type": "stream",
     "text": [
      "   Skipping point due to error: 'ScipyArrayWrapper' object has no attribute 'oindex'\n"
     ]
    },
    {
     "name": "stderr",
     "output_type": "stream",
     "text": [
      "/srv/conda/envs/notebook/lib/python3.12/site-packages/argopy/xarray.py:70: FutureWarning: The return type of `Dataset.dims` will be changed to return a set of dimension names in future, in order to be more consistent with `DataArray.dims`. To access a mapping from dimension names to lengths, please use `Dataset.sizes`.\n",
      "  self._dims = list(xarray_obj.dims.keys())\n",
      "/srv/conda/envs/notebook/lib/python3.12/site-packages/argopy/xarray.py:70: FutureWarning: The return type of `Dataset.dims` will be changed to return a set of dimension names in future, in order to be more consistent with `DataArray.dims`. To access a mapping from dimension names to lengths, please use `Dataset.sizes`.\n",
      "  self._dims = list(xarray_obj.dims.keys())\n"
     ]
    },
    {
     "name": "stdout",
     "output_type": "stream",
     "text": [
      "   Skipping point due to error: 'ScipyArrayWrapper' object has no attribute 'oindex'\n"
     ]
    },
    {
     "name": "stderr",
     "output_type": "stream",
     "text": [
      "/srv/conda/envs/notebook/lib/python3.12/site-packages/argopy/xarray.py:70: FutureWarning: The return type of `Dataset.dims` will be changed to return a set of dimension names in future, in order to be more consistent with `DataArray.dims`. To access a mapping from dimension names to lengths, please use `Dataset.sizes`.\n",
      "  self._dims = list(xarray_obj.dims.keys())\n",
      "/srv/conda/envs/notebook/lib/python3.12/site-packages/argopy/xarray.py:70: FutureWarning: The return type of `Dataset.dims` will be changed to return a set of dimension names in future, in order to be more consistent with `DataArray.dims`. To access a mapping from dimension names to lengths, please use `Dataset.sizes`.\n",
      "  self._dims = list(xarray_obj.dims.keys())\n"
     ]
    },
    {
     "name": "stdout",
     "output_type": "stream",
     "text": [
      "   Skipping point due to error: 'ScipyArrayWrapper' object has no attribute 'oindex'\n"
     ]
    },
    {
     "name": "stderr",
     "output_type": "stream",
     "text": [
      "/srv/conda/envs/notebook/lib/python3.12/site-packages/argopy/xarray.py:70: FutureWarning: The return type of `Dataset.dims` will be changed to return a set of dimension names in future, in order to be more consistent with `DataArray.dims`. To access a mapping from dimension names to lengths, please use `Dataset.sizes`.\n",
      "  self._dims = list(xarray_obj.dims.keys())\n",
      "/srv/conda/envs/notebook/lib/python3.12/site-packages/argopy/xarray.py:70: FutureWarning: The return type of `Dataset.dims` will be changed to return a set of dimension names in future, in order to be more consistent with `DataArray.dims`. To access a mapping from dimension names to lengths, please use `Dataset.sizes`.\n",
      "  self._dims = list(xarray_obj.dims.keys())\n"
     ]
    },
    {
     "name": "stdout",
     "output_type": "stream",
     "text": [
      "   Skipping point due to error: 'ScipyArrayWrapper' object has no attribute 'oindex'\n"
     ]
    },
    {
     "name": "stderr",
     "output_type": "stream",
     "text": [
      "/srv/conda/envs/notebook/lib/python3.12/site-packages/argopy/xarray.py:70: FutureWarning: The return type of `Dataset.dims` will be changed to return a set of dimension names in future, in order to be more consistent with `DataArray.dims`. To access a mapping from dimension names to lengths, please use `Dataset.sizes`.\n",
      "  self._dims = list(xarray_obj.dims.keys())\n",
      "/srv/conda/envs/notebook/lib/python3.12/site-packages/argopy/xarray.py:70: FutureWarning: The return type of `Dataset.dims` will be changed to return a set of dimension names in future, in order to be more consistent with `DataArray.dims`. To access a mapping from dimension names to lengths, please use `Dataset.sizes`.\n",
      "  self._dims = list(xarray_obj.dims.keys())\n"
     ]
    },
    {
     "name": "stdout",
     "output_type": "stream",
     "text": [
      "   Skipping point due to error: 'ScipyArrayWrapper' object has no attribute 'oindex'\n"
     ]
    },
    {
     "name": "stderr",
     "output_type": "stream",
     "text": [
      "/srv/conda/envs/notebook/lib/python3.12/site-packages/argopy/xarray.py:70: FutureWarning: The return type of `Dataset.dims` will be changed to return a set of dimension names in future, in order to be more consistent with `DataArray.dims`. To access a mapping from dimension names to lengths, please use `Dataset.sizes`.\n",
      "  self._dims = list(xarray_obj.dims.keys())\n",
      "/srv/conda/envs/notebook/lib/python3.12/site-packages/argopy/xarray.py:70: FutureWarning: The return type of `Dataset.dims` will be changed to return a set of dimension names in future, in order to be more consistent with `DataArray.dims`. To access a mapping from dimension names to lengths, please use `Dataset.sizes`.\n",
      "  self._dims = list(xarray_obj.dims.keys())\n"
     ]
    },
    {
     "name": "stdout",
     "output_type": "stream",
     "text": [
      "   Skipping point due to error: 'ScipyArrayWrapper' object has no attribute 'oindex'\n"
     ]
    },
    {
     "name": "stderr",
     "output_type": "stream",
     "text": [
      "/srv/conda/envs/notebook/lib/python3.12/site-packages/argopy/xarray.py:70: FutureWarning: The return type of `Dataset.dims` will be changed to return a set of dimension names in future, in order to be more consistent with `DataArray.dims`. To access a mapping from dimension names to lengths, please use `Dataset.sizes`.\n",
      "  self._dims = list(xarray_obj.dims.keys())\n",
      "/srv/conda/envs/notebook/lib/python3.12/site-packages/argopy/xarray.py:70: FutureWarning: The return type of `Dataset.dims` will be changed to return a set of dimension names in future, in order to be more consistent with `DataArray.dims`. To access a mapping from dimension names to lengths, please use `Dataset.sizes`.\n",
      "  self._dims = list(xarray_obj.dims.keys())\n"
     ]
    },
    {
     "name": "stdout",
     "output_type": "stream",
     "text": [
      "   Skipping point due to error: 'ScipyArrayWrapper' object has no attribute 'oindex'\n"
     ]
    },
    {
     "name": "stderr",
     "output_type": "stream",
     "text": [
      "/srv/conda/envs/notebook/lib/python3.12/site-packages/argopy/xarray.py:70: FutureWarning: The return type of `Dataset.dims` will be changed to return a set of dimension names in future, in order to be more consistent with `DataArray.dims`. To access a mapping from dimension names to lengths, please use `Dataset.sizes`.\n",
      "  self._dims = list(xarray_obj.dims.keys())\n",
      "/srv/conda/envs/notebook/lib/python3.12/site-packages/argopy/xarray.py:70: FutureWarning: The return type of `Dataset.dims` will be changed to return a set of dimension names in future, in order to be more consistent with `DataArray.dims`. To access a mapping from dimension names to lengths, please use `Dataset.sizes`.\n",
      "  self._dims = list(xarray_obj.dims.keys())\n"
     ]
    },
    {
     "name": "stdout",
     "output_type": "stream",
     "text": [
      "   Skipping point due to error: 'ScipyArrayWrapper' object has no attribute 'oindex'\n"
     ]
    },
    {
     "name": "stderr",
     "output_type": "stream",
     "text": [
      "/srv/conda/envs/notebook/lib/python3.12/site-packages/argopy/xarray.py:70: FutureWarning: The return type of `Dataset.dims` will be changed to return a set of dimension names in future, in order to be more consistent with `DataArray.dims`. To access a mapping from dimension names to lengths, please use `Dataset.sizes`.\n",
      "  self._dims = list(xarray_obj.dims.keys())\n",
      "/srv/conda/envs/notebook/lib/python3.12/site-packages/argopy/xarray.py:70: FutureWarning: The return type of `Dataset.dims` will be changed to return a set of dimension names in future, in order to be more consistent with `DataArray.dims`. To access a mapping from dimension names to lengths, please use `Dataset.sizes`.\n",
      "  self._dims = list(xarray_obj.dims.keys())\n"
     ]
    },
    {
     "name": "stdout",
     "output_type": "stream",
     "text": [
      "   Skipping point due to error: 'ScipyArrayWrapper' object has no attribute 'oindex'\n"
     ]
    },
    {
     "name": "stderr",
     "output_type": "stream",
     "text": [
      "/srv/conda/envs/notebook/lib/python3.12/site-packages/argopy/xarray.py:70: FutureWarning: The return type of `Dataset.dims` will be changed to return a set of dimension names in future, in order to be more consistent with `DataArray.dims`. To access a mapping from dimension names to lengths, please use `Dataset.sizes`.\n",
      "  self._dims = list(xarray_obj.dims.keys())\n",
      "/srv/conda/envs/notebook/lib/python3.12/site-packages/argopy/xarray.py:70: FutureWarning: The return type of `Dataset.dims` will be changed to return a set of dimension names in future, in order to be more consistent with `DataArray.dims`. To access a mapping from dimension names to lengths, please use `Dataset.sizes`.\n",
      "  self._dims = list(xarray_obj.dims.keys())\n"
     ]
    },
    {
     "name": "stdout",
     "output_type": "stream",
     "text": [
      "   Skipping point due to error: 'ScipyArrayWrapper' object has no attribute 'oindex'\n"
     ]
    },
    {
     "name": "stderr",
     "output_type": "stream",
     "text": [
      "/srv/conda/envs/notebook/lib/python3.12/site-packages/argopy/xarray.py:70: FutureWarning: The return type of `Dataset.dims` will be changed to return a set of dimension names in future, in order to be more consistent with `DataArray.dims`. To access a mapping from dimension names to lengths, please use `Dataset.sizes`.\n",
      "  self._dims = list(xarray_obj.dims.keys())\n",
      "/srv/conda/envs/notebook/lib/python3.12/site-packages/argopy/xarray.py:70: FutureWarning: The return type of `Dataset.dims` will be changed to return a set of dimension names in future, in order to be more consistent with `DataArray.dims`. To access a mapping from dimension names to lengths, please use `Dataset.sizes`.\n",
      "  self._dims = list(xarray_obj.dims.keys())\n"
     ]
    },
    {
     "name": "stdout",
     "output_type": "stream",
     "text": [
      "   Skipping point due to error: 'ScipyArrayWrapper' object has no attribute 'oindex'\n"
     ]
    },
    {
     "name": "stderr",
     "output_type": "stream",
     "text": [
      "/srv/conda/envs/notebook/lib/python3.12/site-packages/argopy/xarray.py:70: FutureWarning: The return type of `Dataset.dims` will be changed to return a set of dimension names in future, in order to be more consistent with `DataArray.dims`. To access a mapping from dimension names to lengths, please use `Dataset.sizes`.\n",
      "  self._dims = list(xarray_obj.dims.keys())\n",
      "/srv/conda/envs/notebook/lib/python3.12/site-packages/argopy/xarray.py:70: FutureWarning: The return type of `Dataset.dims` will be changed to return a set of dimension names in future, in order to be more consistent with `DataArray.dims`. To access a mapping from dimension names to lengths, please use `Dataset.sizes`.\n",
      "  self._dims = list(xarray_obj.dims.keys())\n"
     ]
    },
    {
     "name": "stdout",
     "output_type": "stream",
     "text": [
      "   Skipping point due to error: 'ScipyArrayWrapper' object has no attribute 'oindex'\n"
     ]
    },
    {
     "name": "stderr",
     "output_type": "stream",
     "text": [
      "/srv/conda/envs/notebook/lib/python3.12/site-packages/argopy/xarray.py:70: FutureWarning: The return type of `Dataset.dims` will be changed to return a set of dimension names in future, in order to be more consistent with `DataArray.dims`. To access a mapping from dimension names to lengths, please use `Dataset.sizes`.\n",
      "  self._dims = list(xarray_obj.dims.keys())\n",
      "/srv/conda/envs/notebook/lib/python3.12/site-packages/argopy/xarray.py:70: FutureWarning: The return type of `Dataset.dims` will be changed to return a set of dimension names in future, in order to be more consistent with `DataArray.dims`. To access a mapping from dimension names to lengths, please use `Dataset.sizes`.\n",
      "  self._dims = list(xarray_obj.dims.keys())\n"
     ]
    },
    {
     "name": "stdout",
     "output_type": "stream",
     "text": [
      "   Skipping point due to error: 'ScipyArrayWrapper' object has no attribute 'oindex'\n"
     ]
    },
    {
     "name": "stderr",
     "output_type": "stream",
     "text": [
      "/srv/conda/envs/notebook/lib/python3.12/site-packages/argopy/xarray.py:70: FutureWarning: The return type of `Dataset.dims` will be changed to return a set of dimension names in future, in order to be more consistent with `DataArray.dims`. To access a mapping from dimension names to lengths, please use `Dataset.sizes`.\n",
      "  self._dims = list(xarray_obj.dims.keys())\n",
      "/srv/conda/envs/notebook/lib/python3.12/site-packages/argopy/xarray.py:70: FutureWarning: The return type of `Dataset.dims` will be changed to return a set of dimension names in future, in order to be more consistent with `DataArray.dims`. To access a mapping from dimension names to lengths, please use `Dataset.sizes`.\n",
      "  self._dims = list(xarray_obj.dims.keys())\n"
     ]
    },
    {
     "name": "stdout",
     "output_type": "stream",
     "text": [
      "   Skipping point due to error: 'ScipyArrayWrapper' object has no attribute 'oindex'\n"
     ]
    },
    {
     "name": "stderr",
     "output_type": "stream",
     "text": [
      "/srv/conda/envs/notebook/lib/python3.12/site-packages/argopy/xarray.py:70: FutureWarning: The return type of `Dataset.dims` will be changed to return a set of dimension names in future, in order to be more consistent with `DataArray.dims`. To access a mapping from dimension names to lengths, please use `Dataset.sizes`.\n",
      "  self._dims = list(xarray_obj.dims.keys())\n",
      "/srv/conda/envs/notebook/lib/python3.12/site-packages/argopy/xarray.py:70: FutureWarning: The return type of `Dataset.dims` will be changed to return a set of dimension names in future, in order to be more consistent with `DataArray.dims`. To access a mapping from dimension names to lengths, please use `Dataset.sizes`.\n",
      "  self._dims = list(xarray_obj.dims.keys())\n"
     ]
    },
    {
     "name": "stdout",
     "output_type": "stream",
     "text": [
      "   Skipping point due to error: 'ScipyArrayWrapper' object has no attribute 'oindex'\n"
     ]
    },
    {
     "name": "stderr",
     "output_type": "stream",
     "text": [
      "/srv/conda/envs/notebook/lib/python3.12/site-packages/argopy/xarray.py:70: FutureWarning: The return type of `Dataset.dims` will be changed to return a set of dimension names in future, in order to be more consistent with `DataArray.dims`. To access a mapping from dimension names to lengths, please use `Dataset.sizes`.\n",
      "  self._dims = list(xarray_obj.dims.keys())\n",
      "/srv/conda/envs/notebook/lib/python3.12/site-packages/argopy/xarray.py:70: FutureWarning: The return type of `Dataset.dims` will be changed to return a set of dimension names in future, in order to be more consistent with `DataArray.dims`. To access a mapping from dimension names to lengths, please use `Dataset.sizes`.\n",
      "  self._dims = list(xarray_obj.dims.keys())\n"
     ]
    },
    {
     "name": "stdout",
     "output_type": "stream",
     "text": [
      "   Skipping point due to error: 'ScipyArrayWrapper' object has no attribute 'oindex'\n"
     ]
    },
    {
     "name": "stderr",
     "output_type": "stream",
     "text": [
      "/srv/conda/envs/notebook/lib/python3.12/site-packages/argopy/xarray.py:70: FutureWarning: The return type of `Dataset.dims` will be changed to return a set of dimension names in future, in order to be more consistent with `DataArray.dims`. To access a mapping from dimension names to lengths, please use `Dataset.sizes`.\n",
      "  self._dims = list(xarray_obj.dims.keys())\n",
      "/srv/conda/envs/notebook/lib/python3.12/site-packages/argopy/xarray.py:70: FutureWarning: The return type of `Dataset.dims` will be changed to return a set of dimension names in future, in order to be more consistent with `DataArray.dims`. To access a mapping from dimension names to lengths, please use `Dataset.sizes`.\n",
      "  self._dims = list(xarray_obj.dims.keys())\n"
     ]
    },
    {
     "name": "stdout",
     "output_type": "stream",
     "text": [
      "   Skipping point due to error: 'ScipyArrayWrapper' object has no attribute 'oindex'\n"
     ]
    },
    {
     "name": "stderr",
     "output_type": "stream",
     "text": [
      "/srv/conda/envs/notebook/lib/python3.12/site-packages/argopy/xarray.py:70: FutureWarning: The return type of `Dataset.dims` will be changed to return a set of dimension names in future, in order to be more consistent with `DataArray.dims`. To access a mapping from dimension names to lengths, please use `Dataset.sizes`.\n",
      "  self._dims = list(xarray_obj.dims.keys())\n",
      "/srv/conda/envs/notebook/lib/python3.12/site-packages/argopy/xarray.py:70: FutureWarning: The return type of `Dataset.dims` will be changed to return a set of dimension names in future, in order to be more consistent with `DataArray.dims`. To access a mapping from dimension names to lengths, please use `Dataset.sizes`.\n",
      "  self._dims = list(xarray_obj.dims.keys())\n"
     ]
    },
    {
     "name": "stdout",
     "output_type": "stream",
     "text": [
      "   Skipping point due to error: 'ScipyArrayWrapper' object has no attribute 'oindex'\n"
     ]
    },
    {
     "name": "stderr",
     "output_type": "stream",
     "text": [
      "/srv/conda/envs/notebook/lib/python3.12/site-packages/argopy/xarray.py:70: FutureWarning: The return type of `Dataset.dims` will be changed to return a set of dimension names in future, in order to be more consistent with `DataArray.dims`. To access a mapping from dimension names to lengths, please use `Dataset.sizes`.\n",
      "  self._dims = list(xarray_obj.dims.keys())\n",
      "/srv/conda/envs/notebook/lib/python3.12/site-packages/argopy/xarray.py:70: FutureWarning: The return type of `Dataset.dims` will be changed to return a set of dimension names in future, in order to be more consistent with `DataArray.dims`. To access a mapping from dimension names to lengths, please use `Dataset.sizes`.\n",
      "  self._dims = list(xarray_obj.dims.keys())\n"
     ]
    },
    {
     "name": "stdout",
     "output_type": "stream",
     "text": [
      "   Skipping point due to error: 'ScipyArrayWrapper' object has no attribute 'oindex'\n"
     ]
    },
    {
     "name": "stderr",
     "output_type": "stream",
     "text": [
      "/srv/conda/envs/notebook/lib/python3.12/site-packages/argopy/xarray.py:70: FutureWarning: The return type of `Dataset.dims` will be changed to return a set of dimension names in future, in order to be more consistent with `DataArray.dims`. To access a mapping from dimension names to lengths, please use `Dataset.sizes`.\n",
      "  self._dims = list(xarray_obj.dims.keys())\n",
      "/srv/conda/envs/notebook/lib/python3.12/site-packages/argopy/xarray.py:70: FutureWarning: The return type of `Dataset.dims` will be changed to return a set of dimension names in future, in order to be more consistent with `DataArray.dims`. To access a mapping from dimension names to lengths, please use `Dataset.sizes`.\n",
      "  self._dims = list(xarray_obj.dims.keys())\n"
     ]
    },
    {
     "name": "stdout",
     "output_type": "stream",
     "text": [
      "   Skipping point due to error: 'ScipyArrayWrapper' object has no attribute 'oindex'\n"
     ]
    },
    {
     "name": "stderr",
     "output_type": "stream",
     "text": [
      "/srv/conda/envs/notebook/lib/python3.12/site-packages/argopy/xarray.py:70: FutureWarning: The return type of `Dataset.dims` will be changed to return a set of dimension names in future, in order to be more consistent with `DataArray.dims`. To access a mapping from dimension names to lengths, please use `Dataset.sizes`.\n",
      "  self._dims = list(xarray_obj.dims.keys())\n",
      "/srv/conda/envs/notebook/lib/python3.12/site-packages/argopy/xarray.py:70: FutureWarning: The return type of `Dataset.dims` will be changed to return a set of dimension names in future, in order to be more consistent with `DataArray.dims`. To access a mapping from dimension names to lengths, please use `Dataset.sizes`.\n",
      "  self._dims = list(xarray_obj.dims.keys())\n"
     ]
    },
    {
     "name": "stdout",
     "output_type": "stream",
     "text": [
      "   Skipping point due to error: 'ScipyArrayWrapper' object has no attribute 'oindex'\n"
     ]
    },
    {
     "name": "stderr",
     "output_type": "stream",
     "text": [
      "/srv/conda/envs/notebook/lib/python3.12/site-packages/argopy/xarray.py:70: FutureWarning: The return type of `Dataset.dims` will be changed to return a set of dimension names in future, in order to be more consistent with `DataArray.dims`. To access a mapping from dimension names to lengths, please use `Dataset.sizes`.\n",
      "  self._dims = list(xarray_obj.dims.keys())\n",
      "/srv/conda/envs/notebook/lib/python3.12/site-packages/argopy/xarray.py:70: FutureWarning: The return type of `Dataset.dims` will be changed to return a set of dimension names in future, in order to be more consistent with `DataArray.dims`. To access a mapping from dimension names to lengths, please use `Dataset.sizes`.\n",
      "  self._dims = list(xarray_obj.dims.keys())\n"
     ]
    },
    {
     "name": "stdout",
     "output_type": "stream",
     "text": [
      "   Skipping point due to error: 'ScipyArrayWrapper' object has no attribute 'oindex'\n"
     ]
    },
    {
     "name": "stderr",
     "output_type": "stream",
     "text": [
      "/srv/conda/envs/notebook/lib/python3.12/site-packages/argopy/xarray.py:70: FutureWarning: The return type of `Dataset.dims` will be changed to return a set of dimension names in future, in order to be more consistent with `DataArray.dims`. To access a mapping from dimension names to lengths, please use `Dataset.sizes`.\n",
      "  self._dims = list(xarray_obj.dims.keys())\n",
      "/srv/conda/envs/notebook/lib/python3.12/site-packages/argopy/xarray.py:70: FutureWarning: The return type of `Dataset.dims` will be changed to return a set of dimension names in future, in order to be more consistent with `DataArray.dims`. To access a mapping from dimension names to lengths, please use `Dataset.sizes`.\n",
      "  self._dims = list(xarray_obj.dims.keys())\n"
     ]
    },
    {
     "name": "stdout",
     "output_type": "stream",
     "text": [
      "   Skipping point due to error: 'ScipyArrayWrapper' object has no attribute 'oindex'\n"
     ]
    },
    {
     "name": "stderr",
     "output_type": "stream",
     "text": [
      "/srv/conda/envs/notebook/lib/python3.12/site-packages/argopy/xarray.py:70: FutureWarning: The return type of `Dataset.dims` will be changed to return a set of dimension names in future, in order to be more consistent with `DataArray.dims`. To access a mapping from dimension names to lengths, please use `Dataset.sizes`.\n",
      "  self._dims = list(xarray_obj.dims.keys())\n",
      "/srv/conda/envs/notebook/lib/python3.12/site-packages/argopy/xarray.py:70: FutureWarning: The return type of `Dataset.dims` will be changed to return a set of dimension names in future, in order to be more consistent with `DataArray.dims`. To access a mapping from dimension names to lengths, please use `Dataset.sizes`.\n",
      "  self._dims = list(xarray_obj.dims.keys())\n"
     ]
    },
    {
     "name": "stdout",
     "output_type": "stream",
     "text": [
      "   Skipping point due to error: 'ScipyArrayWrapper' object has no attribute 'oindex'\n"
     ]
    },
    {
     "name": "stderr",
     "output_type": "stream",
     "text": [
      "/srv/conda/envs/notebook/lib/python3.12/site-packages/argopy/xarray.py:70: FutureWarning: The return type of `Dataset.dims` will be changed to return a set of dimension names in future, in order to be more consistent with `DataArray.dims`. To access a mapping from dimension names to lengths, please use `Dataset.sizes`.\n",
      "  self._dims = list(xarray_obj.dims.keys())\n",
      "/srv/conda/envs/notebook/lib/python3.12/site-packages/argopy/xarray.py:70: FutureWarning: The return type of `Dataset.dims` will be changed to return a set of dimension names in future, in order to be more consistent with `DataArray.dims`. To access a mapping from dimension names to lengths, please use `Dataset.sizes`.\n",
      "  self._dims = list(xarray_obj.dims.keys())\n"
     ]
    },
    {
     "name": "stdout",
     "output_type": "stream",
     "text": [
      "   Skipping point due to error: 'ScipyArrayWrapper' object has no attribute 'oindex'\n"
     ]
    },
    {
     "name": "stderr",
     "output_type": "stream",
     "text": [
      "/srv/conda/envs/notebook/lib/python3.12/site-packages/argopy/xarray.py:70: FutureWarning: The return type of `Dataset.dims` will be changed to return a set of dimension names in future, in order to be more consistent with `DataArray.dims`. To access a mapping from dimension names to lengths, please use `Dataset.sizes`.\n",
      "  self._dims = list(xarray_obj.dims.keys())\n",
      "/srv/conda/envs/notebook/lib/python3.12/site-packages/argopy/xarray.py:70: FutureWarning: The return type of `Dataset.dims` will be changed to return a set of dimension names in future, in order to be more consistent with `DataArray.dims`. To access a mapping from dimension names to lengths, please use `Dataset.sizes`.\n",
      "  self._dims = list(xarray_obj.dims.keys())\n"
     ]
    },
    {
     "name": "stdout",
     "output_type": "stream",
     "text": [
      "   Skipping point due to error: 'ScipyArrayWrapper' object has no attribute 'oindex'\n"
     ]
    },
    {
     "name": "stderr",
     "output_type": "stream",
     "text": [
      "/srv/conda/envs/notebook/lib/python3.12/site-packages/argopy/xarray.py:70: FutureWarning: The return type of `Dataset.dims` will be changed to return a set of dimension names in future, in order to be more consistent with `DataArray.dims`. To access a mapping from dimension names to lengths, please use `Dataset.sizes`.\n",
      "  self._dims = list(xarray_obj.dims.keys())\n",
      "/srv/conda/envs/notebook/lib/python3.12/site-packages/argopy/xarray.py:70: FutureWarning: The return type of `Dataset.dims` will be changed to return a set of dimension names in future, in order to be more consistent with `DataArray.dims`. To access a mapping from dimension names to lengths, please use `Dataset.sizes`.\n",
      "  self._dims = list(xarray_obj.dims.keys())\n"
     ]
    },
    {
     "name": "stdout",
     "output_type": "stream",
     "text": [
      "   Skipping point due to error: 'ScipyArrayWrapper' object has no attribute 'oindex'\n"
     ]
    },
    {
     "name": "stderr",
     "output_type": "stream",
     "text": [
      "/srv/conda/envs/notebook/lib/python3.12/site-packages/argopy/xarray.py:70: FutureWarning: The return type of `Dataset.dims` will be changed to return a set of dimension names in future, in order to be more consistent with `DataArray.dims`. To access a mapping from dimension names to lengths, please use `Dataset.sizes`.\n",
      "  self._dims = list(xarray_obj.dims.keys())\n",
      "/srv/conda/envs/notebook/lib/python3.12/site-packages/argopy/xarray.py:70: FutureWarning: The return type of `Dataset.dims` will be changed to return a set of dimension names in future, in order to be more consistent with `DataArray.dims`. To access a mapping from dimension names to lengths, please use `Dataset.sizes`.\n",
      "  self._dims = list(xarray_obj.dims.keys())\n"
     ]
    },
    {
     "name": "stdout",
     "output_type": "stream",
     "text": [
      "   Skipping point due to error: 'ScipyArrayWrapper' object has no attribute 'oindex'\n"
     ]
    },
    {
     "name": "stderr",
     "output_type": "stream",
     "text": [
      "/srv/conda/envs/notebook/lib/python3.12/site-packages/argopy/xarray.py:70: FutureWarning: The return type of `Dataset.dims` will be changed to return a set of dimension names in future, in order to be more consistent with `DataArray.dims`. To access a mapping from dimension names to lengths, please use `Dataset.sizes`.\n",
      "  self._dims = list(xarray_obj.dims.keys())\n",
      "/srv/conda/envs/notebook/lib/python3.12/site-packages/argopy/xarray.py:70: FutureWarning: The return type of `Dataset.dims` will be changed to return a set of dimension names in future, in order to be more consistent with `DataArray.dims`. To access a mapping from dimension names to lengths, please use `Dataset.sizes`.\n",
      "  self._dims = list(xarray_obj.dims.keys())\n"
     ]
    },
    {
     "name": "stdout",
     "output_type": "stream",
     "text": [
      "   Skipping point due to error: 'ScipyArrayWrapper' object has no attribute 'oindex'\n"
     ]
    },
    {
     "name": "stderr",
     "output_type": "stream",
     "text": [
      "/srv/conda/envs/notebook/lib/python3.12/site-packages/argopy/xarray.py:70: FutureWarning: The return type of `Dataset.dims` will be changed to return a set of dimension names in future, in order to be more consistent with `DataArray.dims`. To access a mapping from dimension names to lengths, please use `Dataset.sizes`.\n",
      "  self._dims = list(xarray_obj.dims.keys())\n",
      "/srv/conda/envs/notebook/lib/python3.12/site-packages/argopy/xarray.py:70: FutureWarning: The return type of `Dataset.dims` will be changed to return a set of dimension names in future, in order to be more consistent with `DataArray.dims`. To access a mapping from dimension names to lengths, please use `Dataset.sizes`.\n",
      "  self._dims = list(xarray_obj.dims.keys())\n"
     ]
    },
    {
     "name": "stdout",
     "output_type": "stream",
     "text": [
      "   Skipping point due to error: 'ScipyArrayWrapper' object has no attribute 'oindex'\n"
     ]
    },
    {
     "name": "stderr",
     "output_type": "stream",
     "text": [
      "/srv/conda/envs/notebook/lib/python3.12/site-packages/argopy/xarray.py:70: FutureWarning: The return type of `Dataset.dims` will be changed to return a set of dimension names in future, in order to be more consistent with `DataArray.dims`. To access a mapping from dimension names to lengths, please use `Dataset.sizes`.\n",
      "  self._dims = list(xarray_obj.dims.keys())\n",
      "/srv/conda/envs/notebook/lib/python3.12/site-packages/argopy/xarray.py:70: FutureWarning: The return type of `Dataset.dims` will be changed to return a set of dimension names in future, in order to be more consistent with `DataArray.dims`. To access a mapping from dimension names to lengths, please use `Dataset.sizes`.\n",
      "  self._dims = list(xarray_obj.dims.keys())\n"
     ]
    },
    {
     "name": "stdout",
     "output_type": "stream",
     "text": [
      "   Skipping point due to error: 'ScipyArrayWrapper' object has no attribute 'oindex'\n"
     ]
    },
    {
     "name": "stderr",
     "output_type": "stream",
     "text": [
      "/srv/conda/envs/notebook/lib/python3.12/site-packages/argopy/xarray.py:70: FutureWarning: The return type of `Dataset.dims` will be changed to return a set of dimension names in future, in order to be more consistent with `DataArray.dims`. To access a mapping from dimension names to lengths, please use `Dataset.sizes`.\n",
      "  self._dims = list(xarray_obj.dims.keys())\n",
      "/srv/conda/envs/notebook/lib/python3.12/site-packages/argopy/xarray.py:70: FutureWarning: The return type of `Dataset.dims` will be changed to return a set of dimension names in future, in order to be more consistent with `DataArray.dims`. To access a mapping from dimension names to lengths, please use `Dataset.sizes`.\n",
      "  self._dims = list(xarray_obj.dims.keys())\n"
     ]
    },
    {
     "name": "stdout",
     "output_type": "stream",
     "text": [
      "   Skipping point due to error: 'ScipyArrayWrapper' object has no attribute 'oindex'\n"
     ]
    },
    {
     "name": "stderr",
     "output_type": "stream",
     "text": [
      "/srv/conda/envs/notebook/lib/python3.12/site-packages/argopy/xarray.py:70: FutureWarning: The return type of `Dataset.dims` will be changed to return a set of dimension names in future, in order to be more consistent with `DataArray.dims`. To access a mapping from dimension names to lengths, please use `Dataset.sizes`.\n",
      "  self._dims = list(xarray_obj.dims.keys())\n",
      "/srv/conda/envs/notebook/lib/python3.12/site-packages/argopy/xarray.py:70: FutureWarning: The return type of `Dataset.dims` will be changed to return a set of dimension names in future, in order to be more consistent with `DataArray.dims`. To access a mapping from dimension names to lengths, please use `Dataset.sizes`.\n",
      "  self._dims = list(xarray_obj.dims.keys())\n"
     ]
    },
    {
     "name": "stdout",
     "output_type": "stream",
     "text": [
      "   Skipping point due to error: 'ScipyArrayWrapper' object has no attribute 'oindex'\n"
     ]
    },
    {
     "name": "stderr",
     "output_type": "stream",
     "text": [
      "/srv/conda/envs/notebook/lib/python3.12/site-packages/argopy/xarray.py:70: FutureWarning: The return type of `Dataset.dims` will be changed to return a set of dimension names in future, in order to be more consistent with `DataArray.dims`. To access a mapping from dimension names to lengths, please use `Dataset.sizes`.\n",
      "  self._dims = list(xarray_obj.dims.keys())\n",
      "/srv/conda/envs/notebook/lib/python3.12/site-packages/argopy/xarray.py:70: FutureWarning: The return type of `Dataset.dims` will be changed to return a set of dimension names in future, in order to be more consistent with `DataArray.dims`. To access a mapping from dimension names to lengths, please use `Dataset.sizes`.\n",
      "  self._dims = list(xarray_obj.dims.keys())\n"
     ]
    },
    {
     "name": "stdout",
     "output_type": "stream",
     "text": [
      "   Skipping point due to error: 'ScipyArrayWrapper' object has no attribute 'oindex'\n"
     ]
    },
    {
     "name": "stderr",
     "output_type": "stream",
     "text": [
      "/srv/conda/envs/notebook/lib/python3.12/site-packages/argopy/xarray.py:70: FutureWarning: The return type of `Dataset.dims` will be changed to return a set of dimension names in future, in order to be more consistent with `DataArray.dims`. To access a mapping from dimension names to lengths, please use `Dataset.sizes`.\n",
      "  self._dims = list(xarray_obj.dims.keys())\n",
      "/srv/conda/envs/notebook/lib/python3.12/site-packages/argopy/xarray.py:70: FutureWarning: The return type of `Dataset.dims` will be changed to return a set of dimension names in future, in order to be more consistent with `DataArray.dims`. To access a mapping from dimension names to lengths, please use `Dataset.sizes`.\n",
      "  self._dims = list(xarray_obj.dims.keys())\n"
     ]
    },
    {
     "name": "stdout",
     "output_type": "stream",
     "text": [
      "   Skipping point due to error: 'ScipyArrayWrapper' object has no attribute 'oindex'\n"
     ]
    },
    {
     "name": "stderr",
     "output_type": "stream",
     "text": [
      "/srv/conda/envs/notebook/lib/python3.12/site-packages/argopy/xarray.py:70: FutureWarning: The return type of `Dataset.dims` will be changed to return a set of dimension names in future, in order to be more consistent with `DataArray.dims`. To access a mapping from dimension names to lengths, please use `Dataset.sizes`.\n",
      "  self._dims = list(xarray_obj.dims.keys())\n",
      "/srv/conda/envs/notebook/lib/python3.12/site-packages/argopy/xarray.py:70: FutureWarning: The return type of `Dataset.dims` will be changed to return a set of dimension names in future, in order to be more consistent with `DataArray.dims`. To access a mapping from dimension names to lengths, please use `Dataset.sizes`.\n",
      "  self._dims = list(xarray_obj.dims.keys())\n"
     ]
    },
    {
     "name": "stdout",
     "output_type": "stream",
     "text": [
      "   Skipping point due to error: 'ScipyArrayWrapper' object has no attribute 'oindex'\n"
     ]
    },
    {
     "name": "stderr",
     "output_type": "stream",
     "text": [
      "/srv/conda/envs/notebook/lib/python3.12/site-packages/argopy/xarray.py:70: FutureWarning: The return type of `Dataset.dims` will be changed to return a set of dimension names in future, in order to be more consistent with `DataArray.dims`. To access a mapping from dimension names to lengths, please use `Dataset.sizes`.\n",
      "  self._dims = list(xarray_obj.dims.keys())\n",
      "/srv/conda/envs/notebook/lib/python3.12/site-packages/argopy/xarray.py:70: FutureWarning: The return type of `Dataset.dims` will be changed to return a set of dimension names in future, in order to be more consistent with `DataArray.dims`. To access a mapping from dimension names to lengths, please use `Dataset.sizes`.\n",
      "  self._dims = list(xarray_obj.dims.keys())\n"
     ]
    },
    {
     "name": "stdout",
     "output_type": "stream",
     "text": [
      "   Skipping point due to error: 'ScipyArrayWrapper' object has no attribute 'oindex'\n"
     ]
    },
    {
     "name": "stderr",
     "output_type": "stream",
     "text": [
      "/srv/conda/envs/notebook/lib/python3.12/site-packages/argopy/xarray.py:70: FutureWarning: The return type of `Dataset.dims` will be changed to return a set of dimension names in future, in order to be more consistent with `DataArray.dims`. To access a mapping from dimension names to lengths, please use `Dataset.sizes`.\n",
      "  self._dims = list(xarray_obj.dims.keys())\n",
      "/srv/conda/envs/notebook/lib/python3.12/site-packages/argopy/xarray.py:70: FutureWarning: The return type of `Dataset.dims` will be changed to return a set of dimension names in future, in order to be more consistent with `DataArray.dims`. To access a mapping from dimension names to lengths, please use `Dataset.sizes`.\n",
      "  self._dims = list(xarray_obj.dims.keys())\n"
     ]
    },
    {
     "name": "stdout",
     "output_type": "stream",
     "text": [
      "   Skipping point due to error: 'ScipyArrayWrapper' object has no attribute 'oindex'\n"
     ]
    },
    {
     "name": "stderr",
     "output_type": "stream",
     "text": [
      "/srv/conda/envs/notebook/lib/python3.12/site-packages/argopy/xarray.py:70: FutureWarning: The return type of `Dataset.dims` will be changed to return a set of dimension names in future, in order to be more consistent with `DataArray.dims`. To access a mapping from dimension names to lengths, please use `Dataset.sizes`.\n",
      "  self._dims = list(xarray_obj.dims.keys())\n",
      "/srv/conda/envs/notebook/lib/python3.12/site-packages/argopy/xarray.py:70: FutureWarning: The return type of `Dataset.dims` will be changed to return a set of dimension names in future, in order to be more consistent with `DataArray.dims`. To access a mapping from dimension names to lengths, please use `Dataset.sizes`.\n",
      "  self._dims = list(xarray_obj.dims.keys())\n"
     ]
    },
    {
     "name": "stdout",
     "output_type": "stream",
     "text": [
      "   Skipping point due to error: 'ScipyArrayWrapper' object has no attribute 'oindex'\n"
     ]
    },
    {
     "name": "stderr",
     "output_type": "stream",
     "text": [
      "/srv/conda/envs/notebook/lib/python3.12/site-packages/argopy/xarray.py:70: FutureWarning: The return type of `Dataset.dims` will be changed to return a set of dimension names in future, in order to be more consistent with `DataArray.dims`. To access a mapping from dimension names to lengths, please use `Dataset.sizes`.\n",
      "  self._dims = list(xarray_obj.dims.keys())\n",
      "/srv/conda/envs/notebook/lib/python3.12/site-packages/argopy/xarray.py:70: FutureWarning: The return type of `Dataset.dims` will be changed to return a set of dimension names in future, in order to be more consistent with `DataArray.dims`. To access a mapping from dimension names to lengths, please use `Dataset.sizes`.\n",
      "  self._dims = list(xarray_obj.dims.keys())\n"
     ]
    },
    {
     "name": "stdout",
     "output_type": "stream",
     "text": [
      "   Skipping point due to error: 'ScipyArrayWrapper' object has no attribute 'oindex'\n"
     ]
    },
    {
     "name": "stderr",
     "output_type": "stream",
     "text": [
      "/srv/conda/envs/notebook/lib/python3.12/site-packages/argopy/xarray.py:70: FutureWarning: The return type of `Dataset.dims` will be changed to return a set of dimension names in future, in order to be more consistent with `DataArray.dims`. To access a mapping from dimension names to lengths, please use `Dataset.sizes`.\n",
      "  self._dims = list(xarray_obj.dims.keys())\n",
      "/srv/conda/envs/notebook/lib/python3.12/site-packages/argopy/xarray.py:70: FutureWarning: The return type of `Dataset.dims` will be changed to return a set of dimension names in future, in order to be more consistent with `DataArray.dims`. To access a mapping from dimension names to lengths, please use `Dataset.sizes`.\n",
      "  self._dims = list(xarray_obj.dims.keys())\n"
     ]
    },
    {
     "name": "stdout",
     "output_type": "stream",
     "text": [
      "   Skipping point due to error: 'ScipyArrayWrapper' object has no attribute 'oindex'\n"
     ]
    },
    {
     "name": "stderr",
     "output_type": "stream",
     "text": [
      "/srv/conda/envs/notebook/lib/python3.12/site-packages/argopy/xarray.py:70: FutureWarning: The return type of `Dataset.dims` will be changed to return a set of dimension names in future, in order to be more consistent with `DataArray.dims`. To access a mapping from dimension names to lengths, please use `Dataset.sizes`.\n",
      "  self._dims = list(xarray_obj.dims.keys())\n",
      "/srv/conda/envs/notebook/lib/python3.12/site-packages/argopy/xarray.py:70: FutureWarning: The return type of `Dataset.dims` will be changed to return a set of dimension names in future, in order to be more consistent with `DataArray.dims`. To access a mapping from dimension names to lengths, please use `Dataset.sizes`.\n",
      "  self._dims = list(xarray_obj.dims.keys())\n"
     ]
    },
    {
     "name": "stdout",
     "output_type": "stream",
     "text": [
      "   Skipping point due to error: 'ScipyArrayWrapper' object has no attribute 'oindex'\n"
     ]
    },
    {
     "name": "stderr",
     "output_type": "stream",
     "text": [
      "/srv/conda/envs/notebook/lib/python3.12/site-packages/argopy/xarray.py:70: FutureWarning: The return type of `Dataset.dims` will be changed to return a set of dimension names in future, in order to be more consistent with `DataArray.dims`. To access a mapping from dimension names to lengths, please use `Dataset.sizes`.\n",
      "  self._dims = list(xarray_obj.dims.keys())\n",
      "/srv/conda/envs/notebook/lib/python3.12/site-packages/argopy/xarray.py:70: FutureWarning: The return type of `Dataset.dims` will be changed to return a set of dimension names in future, in order to be more consistent with `DataArray.dims`. To access a mapping from dimension names to lengths, please use `Dataset.sizes`.\n",
      "  self._dims = list(xarray_obj.dims.keys())\n"
     ]
    },
    {
     "name": "stdout",
     "output_type": "stream",
     "text": [
      "   Skipping point due to error: 'ScipyArrayWrapper' object has no attribute 'oindex'\n"
     ]
    },
    {
     "name": "stderr",
     "output_type": "stream",
     "text": [
      "/srv/conda/envs/notebook/lib/python3.12/site-packages/argopy/xarray.py:70: FutureWarning: The return type of `Dataset.dims` will be changed to return a set of dimension names in future, in order to be more consistent with `DataArray.dims`. To access a mapping from dimension names to lengths, please use `Dataset.sizes`.\n",
      "  self._dims = list(xarray_obj.dims.keys())\n",
      "/srv/conda/envs/notebook/lib/python3.12/site-packages/argopy/xarray.py:70: FutureWarning: The return type of `Dataset.dims` will be changed to return a set of dimension names in future, in order to be more consistent with `DataArray.dims`. To access a mapping from dimension names to lengths, please use `Dataset.sizes`.\n",
      "  self._dims = list(xarray_obj.dims.keys())\n"
     ]
    },
    {
     "name": "stdout",
     "output_type": "stream",
     "text": [
      "   Skipping point due to error: 'ScipyArrayWrapper' object has no attribute 'oindex'\n"
     ]
    },
    {
     "name": "stderr",
     "output_type": "stream",
     "text": [
      "/srv/conda/envs/notebook/lib/python3.12/site-packages/argopy/xarray.py:70: FutureWarning: The return type of `Dataset.dims` will be changed to return a set of dimension names in future, in order to be more consistent with `DataArray.dims`. To access a mapping from dimension names to lengths, please use `Dataset.sizes`.\n",
      "  self._dims = list(xarray_obj.dims.keys())\n",
      "/srv/conda/envs/notebook/lib/python3.12/site-packages/argopy/xarray.py:70: FutureWarning: The return type of `Dataset.dims` will be changed to return a set of dimension names in future, in order to be more consistent with `DataArray.dims`. To access a mapping from dimension names to lengths, please use `Dataset.sizes`.\n",
      "  self._dims = list(xarray_obj.dims.keys())\n"
     ]
    },
    {
     "name": "stdout",
     "output_type": "stream",
     "text": [
      "   Skipping point due to error: 'ScipyArrayWrapper' object has no attribute 'oindex'\n"
     ]
    },
    {
     "name": "stderr",
     "output_type": "stream",
     "text": [
      "/srv/conda/envs/notebook/lib/python3.12/site-packages/argopy/xarray.py:70: FutureWarning: The return type of `Dataset.dims` will be changed to return a set of dimension names in future, in order to be more consistent with `DataArray.dims`. To access a mapping from dimension names to lengths, please use `Dataset.sizes`.\n",
      "  self._dims = list(xarray_obj.dims.keys())\n",
      "/srv/conda/envs/notebook/lib/python3.12/site-packages/argopy/xarray.py:70: FutureWarning: The return type of `Dataset.dims` will be changed to return a set of dimension names in future, in order to be more consistent with `DataArray.dims`. To access a mapping from dimension names to lengths, please use `Dataset.sizes`.\n",
      "  self._dims = list(xarray_obj.dims.keys())\n"
     ]
    },
    {
     "name": "stdout",
     "output_type": "stream",
     "text": [
      "   Skipping point due to error: 'ScipyArrayWrapper' object has no attribute 'oindex'\n"
     ]
    },
    {
     "name": "stderr",
     "output_type": "stream",
     "text": [
      "/srv/conda/envs/notebook/lib/python3.12/site-packages/argopy/xarray.py:70: FutureWarning: The return type of `Dataset.dims` will be changed to return a set of dimension names in future, in order to be more consistent with `DataArray.dims`. To access a mapping from dimension names to lengths, please use `Dataset.sizes`.\n",
      "  self._dims = list(xarray_obj.dims.keys())\n",
      "/srv/conda/envs/notebook/lib/python3.12/site-packages/argopy/xarray.py:70: FutureWarning: The return type of `Dataset.dims` will be changed to return a set of dimension names in future, in order to be more consistent with `DataArray.dims`. To access a mapping from dimension names to lengths, please use `Dataset.sizes`.\n",
      "  self._dims = list(xarray_obj.dims.keys())\n"
     ]
    },
    {
     "name": "stdout",
     "output_type": "stream",
     "text": [
      "   Skipping point due to error: 'ScipyArrayWrapper' object has no attribute 'oindex'\n"
     ]
    },
    {
     "name": "stderr",
     "output_type": "stream",
     "text": [
      "/srv/conda/envs/notebook/lib/python3.12/site-packages/argopy/xarray.py:70: FutureWarning: The return type of `Dataset.dims` will be changed to return a set of dimension names in future, in order to be more consistent with `DataArray.dims`. To access a mapping from dimension names to lengths, please use `Dataset.sizes`.\n",
      "  self._dims = list(xarray_obj.dims.keys())\n",
      "/srv/conda/envs/notebook/lib/python3.12/site-packages/argopy/xarray.py:70: FutureWarning: The return type of `Dataset.dims` will be changed to return a set of dimension names in future, in order to be more consistent with `DataArray.dims`. To access a mapping from dimension names to lengths, please use `Dataset.sizes`.\n",
      "  self._dims = list(xarray_obj.dims.keys())\n"
     ]
    },
    {
     "name": "stdout",
     "output_type": "stream",
     "text": [
      "   Skipping point due to error: 'ScipyArrayWrapper' object has no attribute 'oindex'\n"
     ]
    },
    {
     "name": "stderr",
     "output_type": "stream",
     "text": [
      "/srv/conda/envs/notebook/lib/python3.12/site-packages/argopy/xarray.py:70: FutureWarning: The return type of `Dataset.dims` will be changed to return a set of dimension names in future, in order to be more consistent with `DataArray.dims`. To access a mapping from dimension names to lengths, please use `Dataset.sizes`.\n",
      "  self._dims = list(xarray_obj.dims.keys())\n",
      "/srv/conda/envs/notebook/lib/python3.12/site-packages/argopy/xarray.py:70: FutureWarning: The return type of `Dataset.dims` will be changed to return a set of dimension names in future, in order to be more consistent with `DataArray.dims`. To access a mapping from dimension names to lengths, please use `Dataset.sizes`.\n",
      "  self._dims = list(xarray_obj.dims.keys())\n"
     ]
    },
    {
     "name": "stdout",
     "output_type": "stream",
     "text": [
      "   Skipping point due to error: 'ScipyArrayWrapper' object has no attribute 'oindex'\n"
     ]
    },
    {
     "name": "stderr",
     "output_type": "stream",
     "text": [
      "/srv/conda/envs/notebook/lib/python3.12/site-packages/argopy/xarray.py:70: FutureWarning: The return type of `Dataset.dims` will be changed to return a set of dimension names in future, in order to be more consistent with `DataArray.dims`. To access a mapping from dimension names to lengths, please use `Dataset.sizes`.\n",
      "  self._dims = list(xarray_obj.dims.keys())\n",
      "/srv/conda/envs/notebook/lib/python3.12/site-packages/argopy/xarray.py:70: FutureWarning: The return type of `Dataset.dims` will be changed to return a set of dimension names in future, in order to be more consistent with `DataArray.dims`. To access a mapping from dimension names to lengths, please use `Dataset.sizes`.\n",
      "  self._dims = list(xarray_obj.dims.keys())\n"
     ]
    },
    {
     "name": "stdout",
     "output_type": "stream",
     "text": [
      "   Skipping point due to error: 'ScipyArrayWrapper' object has no attribute 'oindex'\n"
     ]
    },
    {
     "name": "stderr",
     "output_type": "stream",
     "text": [
      "/srv/conda/envs/notebook/lib/python3.12/site-packages/argopy/xarray.py:70: FutureWarning: The return type of `Dataset.dims` will be changed to return a set of dimension names in future, in order to be more consistent with `DataArray.dims`. To access a mapping from dimension names to lengths, please use `Dataset.sizes`.\n",
      "  self._dims = list(xarray_obj.dims.keys())\n",
      "/srv/conda/envs/notebook/lib/python3.12/site-packages/argopy/xarray.py:70: FutureWarning: The return type of `Dataset.dims` will be changed to return a set of dimension names in future, in order to be more consistent with `DataArray.dims`. To access a mapping from dimension names to lengths, please use `Dataset.sizes`.\n",
      "  self._dims = list(xarray_obj.dims.keys())\n"
     ]
    },
    {
     "name": "stdout",
     "output_type": "stream",
     "text": [
      "   Skipping point due to error: 'ScipyArrayWrapper' object has no attribute 'oindex'\n"
     ]
    },
    {
     "name": "stderr",
     "output_type": "stream",
     "text": [
      "/srv/conda/envs/notebook/lib/python3.12/site-packages/argopy/xarray.py:70: FutureWarning: The return type of `Dataset.dims` will be changed to return a set of dimension names in future, in order to be more consistent with `DataArray.dims`. To access a mapping from dimension names to lengths, please use `Dataset.sizes`.\n",
      "  self._dims = list(xarray_obj.dims.keys())\n",
      "/srv/conda/envs/notebook/lib/python3.12/site-packages/argopy/xarray.py:70: FutureWarning: The return type of `Dataset.dims` will be changed to return a set of dimension names in future, in order to be more consistent with `DataArray.dims`. To access a mapping from dimension names to lengths, please use `Dataset.sizes`.\n",
      "  self._dims = list(xarray_obj.dims.keys())\n"
     ]
    },
    {
     "name": "stdout",
     "output_type": "stream",
     "text": [
      "   Skipping point due to error: 'ScipyArrayWrapper' object has no attribute 'oindex'\n"
     ]
    },
    {
     "name": "stderr",
     "output_type": "stream",
     "text": [
      "/srv/conda/envs/notebook/lib/python3.12/site-packages/argopy/xarray.py:70: FutureWarning: The return type of `Dataset.dims` will be changed to return a set of dimension names in future, in order to be more consistent with `DataArray.dims`. To access a mapping from dimension names to lengths, please use `Dataset.sizes`.\n",
      "  self._dims = list(xarray_obj.dims.keys())\n",
      "/srv/conda/envs/notebook/lib/python3.12/site-packages/argopy/xarray.py:70: FutureWarning: The return type of `Dataset.dims` will be changed to return a set of dimension names in future, in order to be more consistent with `DataArray.dims`. To access a mapping from dimension names to lengths, please use `Dataset.sizes`.\n",
      "  self._dims = list(xarray_obj.dims.keys())\n"
     ]
    },
    {
     "name": "stdout",
     "output_type": "stream",
     "text": [
      "   Skipping point due to error: 'ScipyArrayWrapper' object has no attribute 'oindex'\n",
      "   Skipping point due to error: 'ScipyArrayWrapper' object has no attribute 'oindex'\n"
     ]
    },
    {
     "name": "stderr",
     "output_type": "stream",
     "text": [
      "/srv/conda/envs/notebook/lib/python3.12/site-packages/argopy/xarray.py:70: FutureWarning: The return type of `Dataset.dims` will be changed to return a set of dimension names in future, in order to be more consistent with `DataArray.dims`. To access a mapping from dimension names to lengths, please use `Dataset.sizes`.\n",
      "  self._dims = list(xarray_obj.dims.keys())\n",
      "/srv/conda/envs/notebook/lib/python3.12/site-packages/argopy/xarray.py:70: FutureWarning: The return type of `Dataset.dims` will be changed to return a set of dimension names in future, in order to be more consistent with `DataArray.dims`. To access a mapping from dimension names to lengths, please use `Dataset.sizes`.\n",
      "  self._dims = list(xarray_obj.dims.keys())\n"
     ]
    },
    {
     "ename": "ValueError",
     "evalue": "must supply at least one object to concatenate",
     "output_type": "error",
     "traceback": [
      "\u001b[0;31m---------------------------------------------------------------------------\u001b[0m",
      "\u001b[0;31mStopIteration\u001b[0m                             Traceback (most recent call last)",
      "File \u001b[0;32m/srv/conda/envs/notebook/lib/python3.12/site-packages/xarray/structure/concat.py:254\u001b[0m, in \u001b[0;36mconcat\u001b[0;34m(objs, dim, data_vars, coords, compat, positions, fill_value, join, combine_attrs, create_index_for_new_dim)\u001b[0m\n\u001b[1;32m    253\u001b[0m \u001b[38;5;28;01mtry\u001b[39;00m:\n\u001b[0;32m--> 254\u001b[0m     first_obj, objs \u001b[38;5;241m=\u001b[39m \u001b[43mutils\u001b[49m\u001b[38;5;241;43m.\u001b[39;49m\u001b[43mpeek_at\u001b[49m\u001b[43m(\u001b[49m\u001b[43mobjs\u001b[49m\u001b[43m)\u001b[49m\n\u001b[1;32m    255\u001b[0m \u001b[38;5;28;01mexcept\u001b[39;00m \u001b[38;5;167;01mStopIteration\u001b[39;00m \u001b[38;5;28;01mas\u001b[39;00m err:\n",
      "File \u001b[0;32m/srv/conda/envs/notebook/lib/python3.12/site-packages/xarray/core/utils.py:241\u001b[0m, in \u001b[0;36mpeek_at\u001b[0;34m(iterable)\u001b[0m\n\u001b[1;32m    240\u001b[0m gen \u001b[38;5;241m=\u001b[39m \u001b[38;5;28miter\u001b[39m(iterable)\n\u001b[0;32m--> 241\u001b[0m peek \u001b[38;5;241m=\u001b[39m \u001b[38;5;28;43mnext\u001b[39;49m\u001b[43m(\u001b[49m\u001b[43mgen\u001b[49m\u001b[43m)\u001b[49m\n\u001b[1;32m    242\u001b[0m \u001b[38;5;28;01mreturn\u001b[39;00m peek, itertools\u001b[38;5;241m.\u001b[39mchain([peek], gen)\n",
      "\u001b[0;31mStopIteration\u001b[0m: ",
      "\nThe above exception was the direct cause of the following exception:\n",
      "\u001b[0;31mValueError\u001b[0m                                Traceback (most recent call last)",
      "Cell \u001b[0;32mIn[4], line 78\u001b[0m\n\u001b[1;32m     75\u001b[0m         \u001b[38;5;28;01mcontinue\u001b[39;00m\n\u001b[1;32m     77\u001b[0m \u001b[38;5;28;01mif\u001b[39;00m name \u001b[38;5;241m==\u001b[39m \u001b[38;5;124m'\u001b[39m\u001b[38;5;124mADRIAN\u001b[39m\u001b[38;5;124m'\u001b[39m:\n\u001b[0;32m---> 78\u001b[0m     comb_ds \u001b[38;5;241m=\u001b[39m \u001b[43mxr\u001b[49m\u001b[38;5;241;43m.\u001b[39;49m\u001b[43mconcat\u001b[49m\u001b[43m(\u001b[49m\u001b[43margo_ds\u001b[49m\u001b[43m,\u001b[49m\u001b[43m \u001b[49m\u001b[43mdim\u001b[49m\u001b[38;5;241;43m=\u001b[39;49m\u001b[38;5;124;43m\"\u001b[39;49m\u001b[38;5;124;43mN_PROF\u001b[39;49m\u001b[38;5;124;43m\"\u001b[39;49m\u001b[43m)\u001b[49m\n\u001b[1;32m     79\u001b[0m     comb_ds\n\u001b[1;32m     81\u001b[0m     \u001b[38;5;28;01mfor\u001b[39;00m (i, ds) \u001b[38;5;129;01min\u001b[39;00m \u001b[38;5;28menumerate\u001b[39m(comb_ds):  \n",
      "File \u001b[0;32m/srv/conda/envs/notebook/lib/python3.12/site-packages/xarray/structure/concat.py:256\u001b[0m, in \u001b[0;36mconcat\u001b[0;34m(objs, dim, data_vars, coords, compat, positions, fill_value, join, combine_attrs, create_index_for_new_dim)\u001b[0m\n\u001b[1;32m    254\u001b[0m     first_obj, objs \u001b[38;5;241m=\u001b[39m utils\u001b[38;5;241m.\u001b[39mpeek_at(objs)\n\u001b[1;32m    255\u001b[0m \u001b[38;5;28;01mexcept\u001b[39;00m \u001b[38;5;167;01mStopIteration\u001b[39;00m \u001b[38;5;28;01mas\u001b[39;00m err:\n\u001b[0;32m--> 256\u001b[0m     \u001b[38;5;28;01mraise\u001b[39;00m \u001b[38;5;167;01mValueError\u001b[39;00m(\u001b[38;5;124m\"\u001b[39m\u001b[38;5;124mmust supply at least one object to concatenate\u001b[39m\u001b[38;5;124m\"\u001b[39m) \u001b[38;5;28;01mfrom\u001b[39;00m\u001b[38;5;250m \u001b[39m\u001b[38;5;21;01merr\u001b[39;00m\n\u001b[1;32m    258\u001b[0m \u001b[38;5;28;01mif\u001b[39;00m compat \u001b[38;5;129;01mnot\u001b[39;00m \u001b[38;5;129;01min\u001b[39;00m \u001b[38;5;28mset\u001b[39m(_VALID_COMPAT) \u001b[38;5;241m-\u001b[39m {\u001b[38;5;124m\"\u001b[39m\u001b[38;5;124mminimal\u001b[39m\u001b[38;5;124m\"\u001b[39m}:\n\u001b[1;32m    259\u001b[0m     \u001b[38;5;28;01mraise\u001b[39;00m \u001b[38;5;167;01mValueError\u001b[39;00m(\n\u001b[1;32m    260\u001b[0m         \u001b[38;5;124mf\u001b[39m\u001b[38;5;124m\"\u001b[39m\u001b[38;5;124mcompat=\u001b[39m\u001b[38;5;132;01m{\u001b[39;00mcompat\u001b[38;5;132;01m!r}\u001b[39;00m\u001b[38;5;124m invalid: must be \u001b[39m\u001b[38;5;124m'\u001b[39m\u001b[38;5;124mbroadcast_equals\u001b[39m\u001b[38;5;124m'\u001b[39m\u001b[38;5;124m, \u001b[39m\u001b[38;5;124m'\u001b[39m\u001b[38;5;124mequals\u001b[39m\u001b[38;5;124m'\u001b[39m\u001b[38;5;124m, \u001b[39m\u001b[38;5;124m'\u001b[39m\u001b[38;5;124midentical\u001b[39m\u001b[38;5;124m'\u001b[39m\u001b[38;5;124m, \u001b[39m\u001b[38;5;124m'\u001b[39m\u001b[38;5;124mno_conflicts\u001b[39m\u001b[38;5;124m'\u001b[39m\u001b[38;5;124m or \u001b[39m\u001b[38;5;124m'\u001b[39m\u001b[38;5;124moverride\u001b[39m\u001b[38;5;124m'\u001b[39m\u001b[38;5;124m\"\u001b[39m\n\u001b[1;32m    261\u001b[0m     )\n",
      "\u001b[0;31mValueError\u001b[0m: must supply at least one object to concatenate"
     ]
    }
   ],
   "source": [
    "# Process each storm\n",
    "for idx, (name, group) in enumerate(storms, start=1):\n",
    "    print(f\"\\n[{idx}/{storm_count}] Processing storm: {name}\")\n",
    "    group = group.sort_values('ISO_TIME')\n",
    "\n",
    "    # Hurricane path coordinates\n",
    "    lats = group['LAT'].values\n",
    "    lons = group['LON'].values\n",
    "    times = pd.to_datetime(group['ISO_TIME'].values)\n",
    "\n",
    "    # Define overall bounding box and time range\n",
    "    lat_min, lat_max = lats.min() - 2, lats.max() + 2\n",
    "    lon_min, lon_max = lons.min() - 2, lons.max() + 2\n",
    "    time_start = pd.Timestamp(times.min()) - timedelta(days=14)\n",
    "    time_end = pd.Timestamp(times.max()) + timedelta(days=14)\n",
    "\n",
    "    # Initialize containers for Argo profiles\n",
    "    argo_before = []\n",
    "    argo_during = []\n",
    "    argo_after = []\n",
    "\n",
    "    #for only adrian\n",
    "    if name == 'ADRIAN':\n",
    "        argo_ds = [] # Argo profile data\n",
    "    \n",
    "\n",
    "    # Loop through each hurricane point\n",
    "    for point_time, point_lat, point_lon in zip(times, lats, lons):\n",
    "        point_time = pd.Timestamp(point_time)\n",
    "\n",
    "        # Define time windows\n",
    "        before_start = point_time - timedelta(days=14)\n",
    "        before_end   = point_time - timedelta(days=1)\n",
    "        during_start = point_time - timedelta(days=1)\n",
    "        during_end   = point_time + timedelta(days=1)\n",
    "        after_start  = point_time + timedelta(days=1)\n",
    "        after_end    = point_time + timedelta(days=14)\n",
    "\n",
    "        # Define local bounding box\n",
    "        lat_box_min, lat_box_max = point_lat - 2, point_lat + 2\n",
    "        lon_box_min, lon_box_max = point_lon - 2, point_lon + 2\n",
    "\n",
    "        try:\n",
    "            ds = DataFetcher().region([\n",
    "                lon_box_min, lon_box_max, lat_box_min, lat_box_max, 0, 2000,\n",
    "                str(before_start.date()), str(after_end.date())\n",
    "            ]).to_xarray()\n",
    "\n",
    "            if name == 'ADRIAN':\n",
    "                # save profiles of the hurricane of interest\n",
    "                argo_ds.append(ds) #put the profile inside\n",
    "                \n",
    "            \n",
    "            if 'LATITUDE' not in ds or 'LONGITUDE' not in ds or 'TIME' not in ds:\n",
    "                continue\n",
    "\n",
    "            argo_times = pd.to_datetime(ds['TIME'].values)\n",
    "            lon_argo = ds['LONGITUDE'].values\n",
    "            lat_argo = ds['LATITUDE'].values\n",
    "\n",
    "            # Classify profiles\n",
    "            before_mask = (argo_times >= before_start) & (argo_times < before_end)\n",
    "            during_mask = (argo_times >= during_start) & (argo_times <= during_end)\n",
    "            after_mask  = (argo_times > after_start) & (argo_times <= after_end)\n",
    "\n",
    "            argo_before.extend(zip(lon_argo[before_mask], lat_argo[before_mask]))\n",
    "            argo_during.extend(zip(lon_argo[during_mask], lat_argo[during_mask]))\n",
    "            argo_after.extend(zip(lon_argo[after_mask], lat_argo[after_mask]))\n",
    "\n",
    "    \n",
    "        except Exception as e:\n",
    "            if \"erddap.ifremer.fr/erddap/tabledap/ArgoFloats.nc\" in str(e):\n",
    "                continue  # Silently skip known ERDDAP error\n",
    "            print(f\"   Skipping point due to error: {e}\")\n",
    "            continue\n",
    "            \n",
    "    if name == 'ADRIAN':\n",
    "        argo_ds\n",
    "        comb_ds = xr.concat(argo_ds, dim=\"N_PROF\")\n",
    "        comb_ds\n",
    "        \n",
    "        for (i, ds) in enumerate(comb_ds):  \n",
    "            ds = ds.load() \n",
    "            #apply quality control filters\n",
    "            ds = ds.argo.filter_qc(QC_list=[1, 2, 8], QC_fields=['TEMP_ADJUSTED_QC', 'PSAL_ADJUSTED_QC', 'DOXY_ADJUSTED_QC','BBP700_ADJUSTED_QC','NITRATE_ADJUSTED_QC'], drop=True, mode='all', mask=False)\n",
    "            #switch direction variable from string to integer (need this to match the data type of the rest of the Argo data)\n",
    "            ds['DIRECTION'] = xr.where(ds['DIRECTION'] == 'A', 1, 0)  # 'A' → 1, 'D' → 0\n",
    "            #convert from data point to profile format for plotting\n",
    "            ds_pr = ds.argo.point2profile()\n",
    "            #interpolate each profile to the same pressure grid for comparison/calculations\n",
    "            ds_int = ds_pr.argo.interp_std_levels(np.arange(0,1900, 10))\n",
    "            #ds_int.to_netcdf(f'/home/jovyan/shared-public/OHW25/ArBu_proj_shared/float/profile{i}_{name}.nc')\n",
    "\n",
    "    # Visualization\n",
    "    print(\"   Generating combined map visualization...\")\n",
    "    plt.figure(figsize=(10, 6))\n",
    "    ax = plt.axes(projection=ccrs.PlateCarree())\n",
    "    ax.set_extent([lon_min - 5, lon_max + 5, lat_min - 5, lat_max + 5])\n",
    "    ax.add_feature(cfeature.COASTLINE)\n",
    "    ax.add_feature(cfeature.BORDERS)\n",
    "    ax.gridlines(draw_labels=True)\n",
    "\n",
    "    # Hurricane path\n",
    "    ax.plot(lons, lats, 'r-', label=f\"{name} path\")\n",
    "    ax.scatter(lons, lats, color='red', s=10)\n",
    "\n",
    "    # Argo profiles\n",
    "    if argo_before:\n",
    "        lon_b, lat_b = zip(*argo_before)\n",
    "        ax.scatter(lon_b, lat_b, color='magenta', s=10, label='Argo: Before')\n",
    "    if argo_during:\n",
    "        lon_d, lat_d = zip(*argo_during)\n",
    "        ax.scatter(lon_d, lat_d, color='lime', s=10, label='Argo: During')\n",
    "    if argo_after:\n",
    "        lon_a, lat_a = zip(*argo_after)\n",
    "        ax.scatter(lon_a, lat_a, color='blue', s=10, label='Argo: After')\n",
    "\n",
    "    plt.title(f\"{name} (2023) – Hurricane Path & Argo Profiles\")\n",
    "    plt.legend()\n",
    "    output_file = f\"combined_argo_hurricane_{name.lower().replace(' ', '_')}.png\"\n",
    "    plt.savefig(output_file)\n",
    "    plt.close()\n",
    "    print(f\"   Map saved to: {output_file}\")\n"
   ]
  },
  {
   "cell_type": "markdown",
   "id": "7f36828f-da86-43af-abd9-78ec7c19299a",
   "metadata": {},
   "source": [
    "# Gather Argo float data"
   ]
  },
  {
   "cell_type": "code",
   "execution_count": 4,
   "id": "2dd90476-fd49-41fa-b67c-532cc8886fef",
   "metadata": {},
   "outputs": [
    {
     "name": "stderr",
     "output_type": "stream",
     "text": [
      "/srv/conda/envs/notebook/lib/python3.12/site-packages/argopy/xarray.py:70: FutureWarning: The return type of `Dataset.dims` will be changed to return a set of dimension names in future, in order to be more consistent with `DataArray.dims`. To access a mapping from dimension names to lengths, please use `Dataset.sizes`.\n",
      "  self._dims = list(xarray_obj.dims.keys())\n"
     ]
    }
   ],
   "source": [
    "# #set modes for data fetcher\n",
    "# f = argopy.DataFetcher(mode='expert',ds='bgc')\n",
    "# #download float data from a specific WMO\n",
    "# WMO = 4903625\n",
    "# ds = f.float(WMO).to_xarray()\n",
    "# #save\n",
    "# ds.to_netcdf(path = \"/home/jovyan/shared-public/OHW25/ArBu_proj_shared/float/WMO4903625_data.nc\")"
   ]
  },
  {
   "cell_type": "code",
   "execution_count": 104,
   "id": "3b5d5c81-823f-463f-af60-9e4ef030d276",
   "metadata": {},
   "outputs": [
    {
     "name": "stderr",
     "output_type": "stream",
     "text": [
      "/srv/conda/envs/notebook/lib/python3.12/site-packages/argopy/xarray.py:70: FutureWarning: The return type of `Dataset.dims` will be changed to return a set of dimension names in future, in order to be more consistent with `DataArray.dims`. To access a mapping from dimension names to lengths, please use `Dataset.sizes`.\n",
      "  self._dims = list(xarray_obj.dims.keys())\n",
      "/srv/conda/envs/notebook/lib/python3.12/site-packages/argopy/xarray.py:70: FutureWarning: The return type of `Dataset.dims` will be changed to return a set of dimension names in future, in order to be more consistent with `DataArray.dims`. To access a mapping from dimension names to lengths, please use `Dataset.sizes`.\n",
      "  self._dims = list(xarray_obj.dims.keys())\n",
      "/srv/conda/envs/notebook/lib/python3.12/site-packages/argopy/xarray.py:70: FutureWarning: The return type of `Dataset.dims` will be changed to return a set of dimension names in future, in order to be more consistent with `DataArray.dims`. To access a mapping from dimension names to lengths, please use `Dataset.sizes`.\n",
      "  self._dims = list(xarray_obj.dims.keys())\n",
      "/srv/conda/envs/notebook/lib/python3.12/site-packages/argopy/xarray.py:70: FutureWarning: The return type of `Dataset.dims` will be changed to return a set of dimension names in future, in order to be more consistent with `DataArray.dims`. To access a mapping from dimension names to lengths, please use `Dataset.sizes`.\n",
      "  self._dims = list(xarray_obj.dims.keys())\n",
      "/srv/conda/envs/notebook/lib/python3.12/site-packages/argopy/xarray.py:70: FutureWarning: The return type of `Dataset.dims` will be changed to return a set of dimension names in future, in order to be more consistent with `DataArray.dims`. To access a mapping from dimension names to lengths, please use `Dataset.sizes`.\n",
      "  self._dims = list(xarray_obj.dims.keys())\n"
     ]
    }
   ],
   "source": [
    "#define location, depth, and time ranges for data search\n",
    "hur_center_lat = 15.20\n",
    "hur_center_lon = -104.50\n",
    "hur_date = \"2023-06-27\"\n",
    "from datetime import datetime, timedelta\n",
    "dt = datetime.strptime(hur_date, \"%Y-%m-%d\")\n",
    "\n",
    "ilat = hur_center_lat-4\n",
    "flat = hur_center_lat+4\n",
    "ilon = hur_center_lon-4\n",
    "flon = hur_center_lon+4\n",
    "idepth = 0\n",
    "fdepth = 2000\n",
    "idate = (dt - timedelta(days=14)).strftime(\"%Y-%m-%d\")\n",
    "fdate = (dt + timedelta(days=14)).strftime(\"%Y-%m-%d\")\n",
    "\n",
    "#define data fetcher modes\n",
    "f = argopy.DataFetcher(mode='expert',ds='bgc')\n",
    "#fetch and load matching float data\n",
    "ds = f.region([ilon, flon, ilat, flat, idepth, fdepth, idate, fdate]).to_xarray()\n",
    "ds = ds.load() \n",
    "#apply quality control filters\n",
    "ds = ds.argo.filter_qc(QC_list=[1, 2, 8], QC_fields=['TEMP_ADJUSTED_QC', 'PSAL_ADJUSTED_QC', 'DOXY_ADJUSTED_QC','BBP700_ADJUSTED_QC','NITRATE_ADJUSTED_QC'], drop=True, mode='all', mask=False)\n",
    "#switch direction variable from string to integer (need this to match the data type of the rest of the Argo data)\n",
    "ds['DIRECTION'] = xr.where(ds['DIRECTION'] == 'A', 1, 0)  # 'A' → 1, 'D' → 0\n",
    "#convert from data point to profile format for plotting\n",
    "ds_pr = ds.argo.point2profile()\n",
    "#interpolate each profile to the same pressure grid for comparison/calculations\n",
    "ds_int = ds_pr.argo.interp_std_levels(np.arange(0,1900, 10))"
   ]
  },
  {
   "cell_type": "code",
   "execution_count": 108,
   "id": "b2fb965b-601d-46e6-82ef-ea249cc0eedf",
   "metadata": {
    "scrolled": true
   },
   "outputs": [
    {
     "data": {
      "text/html": [
       "<div><svg style=\"position: absolute; width: 0; height: 0; overflow: hidden\">\n",
       "<defs>\n",
       "<symbol id=\"icon-database\" viewBox=\"0 0 32 32\">\n",
       "<path d=\"M16 0c-8.837 0-16 2.239-16 5v4c0 2.761 7.163 5 16 5s16-2.239 16-5v-4c0-2.761-7.163-5-16-5z\"></path>\n",
       "<path d=\"M16 17c-8.837 0-16-2.239-16-5v6c0 2.761 7.163 5 16 5s16-2.239 16-5v-6c0 2.761-7.163 5-16 5z\"></path>\n",
       "<path d=\"M16 26c-8.837 0-16-2.239-16-5v6c0 2.761 7.163 5 16 5s16-2.239 16-5v-6c0 2.761-7.163 5-16 5z\"></path>\n",
       "</symbol>\n",
       "<symbol id=\"icon-file-text2\" viewBox=\"0 0 32 32\">\n",
       "<path d=\"M28.681 7.159c-0.694-0.947-1.662-2.053-2.724-3.116s-2.169-2.030-3.116-2.724c-1.612-1.182-2.393-1.319-2.841-1.319h-15.5c-1.378 0-2.5 1.121-2.5 2.5v27c0 1.378 1.122 2.5 2.5 2.5h23c1.378 0 2.5-1.122 2.5-2.5v-19.5c0-0.448-0.137-1.23-1.319-2.841zM24.543 5.457c0.959 0.959 1.712 1.825 2.268 2.543h-4.811v-4.811c0.718 0.556 1.584 1.309 2.543 2.268zM28 29.5c0 0.271-0.229 0.5-0.5 0.5h-23c-0.271 0-0.5-0.229-0.5-0.5v-27c0-0.271 0.229-0.5 0.5-0.5 0 0 15.499-0 15.5 0v7c0 0.552 0.448 1 1 1h7v19.5z\"></path>\n",
       "<path d=\"M23 26h-14c-0.552 0-1-0.448-1-1s0.448-1 1-1h14c0.552 0 1 0.448 1 1s-0.448 1-1 1z\"></path>\n",
       "<path d=\"M23 22h-14c-0.552 0-1-0.448-1-1s0.448-1 1-1h14c0.552 0 1 0.448 1 1s-0.448 1-1 1z\"></path>\n",
       "<path d=\"M23 18h-14c-0.552 0-1-0.448-1-1s0.448-1 1-1h14c0.552 0 1 0.448 1 1s-0.448 1-1 1z\"></path>\n",
       "</symbol>\n",
       "</defs>\n",
       "</svg>\n",
       "<style>/* CSS stylesheet for displaying xarray objects in jupyterlab.\n",
       " *\n",
       " */\n",
       "\n",
       ":root {\n",
       "  --xr-font-color0: var(--jp-content-font-color0, rgba(0, 0, 0, 1));\n",
       "  --xr-font-color2: var(--jp-content-font-color2, rgba(0, 0, 0, 0.54));\n",
       "  --xr-font-color3: var(--jp-content-font-color3, rgba(0, 0, 0, 0.38));\n",
       "  --xr-border-color: var(--jp-border-color2, #e0e0e0);\n",
       "  --xr-disabled-color: var(--jp-layout-color3, #bdbdbd);\n",
       "  --xr-background-color: var(--jp-layout-color0, white);\n",
       "  --xr-background-color-row-even: var(--jp-layout-color1, white);\n",
       "  --xr-background-color-row-odd: var(--jp-layout-color2, #eeeeee);\n",
       "}\n",
       "\n",
       "html[theme=\"dark\"],\n",
       "html[data-theme=\"dark\"],\n",
       "body[data-theme=\"dark\"],\n",
       "body.vscode-dark {\n",
       "  --xr-font-color0: rgba(255, 255, 255, 1);\n",
       "  --xr-font-color2: rgba(255, 255, 255, 0.54);\n",
       "  --xr-font-color3: rgba(255, 255, 255, 0.38);\n",
       "  --xr-border-color: #1f1f1f;\n",
       "  --xr-disabled-color: #515151;\n",
       "  --xr-background-color: #111111;\n",
       "  --xr-background-color-row-even: #111111;\n",
       "  --xr-background-color-row-odd: #313131;\n",
       "}\n",
       "\n",
       ".xr-wrap {\n",
       "  display: block !important;\n",
       "  min-width: 300px;\n",
       "  max-width: 700px;\n",
       "}\n",
       "\n",
       ".xr-text-repr-fallback {\n",
       "  /* fallback to plain text repr when CSS is not injected (untrusted notebook) */\n",
       "  display: none;\n",
       "}\n",
       "\n",
       ".xr-header {\n",
       "  padding-top: 6px;\n",
       "  padding-bottom: 6px;\n",
       "  margin-bottom: 4px;\n",
       "  border-bottom: solid 1px var(--xr-border-color);\n",
       "}\n",
       "\n",
       ".xr-header > div,\n",
       ".xr-header > ul {\n",
       "  display: inline;\n",
       "  margin-top: 0;\n",
       "  margin-bottom: 0;\n",
       "}\n",
       "\n",
       ".xr-obj-type,\n",
       ".xr-array-name {\n",
       "  margin-left: 2px;\n",
       "  margin-right: 10px;\n",
       "}\n",
       "\n",
       ".xr-obj-type {\n",
       "  color: var(--xr-font-color2);\n",
       "}\n",
       "\n",
       ".xr-sections {\n",
       "  padding-left: 0 !important;\n",
       "  display: grid;\n",
       "  grid-template-columns: 150px auto auto 1fr 0 20px 0 20px;\n",
       "}\n",
       "\n",
       ".xr-section-item {\n",
       "  display: contents;\n",
       "}\n",
       "\n",
       ".xr-section-item input {\n",
       "  display: inline-block;\n",
       "  opacity: 0;\n",
       "  height: 0;\n",
       "}\n",
       "\n",
       ".xr-section-item input + label {\n",
       "  color: var(--xr-disabled-color);\n",
       "}\n",
       "\n",
       ".xr-section-item input:enabled + label {\n",
       "  cursor: pointer;\n",
       "  color: var(--xr-font-color2);\n",
       "}\n",
       "\n",
       ".xr-section-item input:focus + label {\n",
       "  border: 2px solid var(--xr-font-color0);\n",
       "}\n",
       "\n",
       ".xr-section-item input:enabled + label:hover {\n",
       "  color: var(--xr-font-color0);\n",
       "}\n",
       "\n",
       ".xr-section-summary {\n",
       "  grid-column: 1;\n",
       "  color: var(--xr-font-color2);\n",
       "  font-weight: 500;\n",
       "}\n",
       "\n",
       ".xr-section-summary > span {\n",
       "  display: inline-block;\n",
       "  padding-left: 0.5em;\n",
       "}\n",
       "\n",
       ".xr-section-summary-in:disabled + label {\n",
       "  color: var(--xr-font-color2);\n",
       "}\n",
       "\n",
       ".xr-section-summary-in + label:before {\n",
       "  display: inline-block;\n",
       "  content: \"►\";\n",
       "  font-size: 11px;\n",
       "  width: 15px;\n",
       "  text-align: center;\n",
       "}\n",
       "\n",
       ".xr-section-summary-in:disabled + label:before {\n",
       "  color: var(--xr-disabled-color);\n",
       "}\n",
       "\n",
       ".xr-section-summary-in:checked + label:before {\n",
       "  content: \"▼\";\n",
       "}\n",
       "\n",
       ".xr-section-summary-in:checked + label > span {\n",
       "  display: none;\n",
       "}\n",
       "\n",
       ".xr-section-summary,\n",
       ".xr-section-inline-details {\n",
       "  padding-top: 4px;\n",
       "  padding-bottom: 4px;\n",
       "}\n",
       "\n",
       ".xr-section-inline-details {\n",
       "  grid-column: 2 / -1;\n",
       "}\n",
       "\n",
       ".xr-section-details {\n",
       "  display: none;\n",
       "  grid-column: 1 / -1;\n",
       "  margin-bottom: 5px;\n",
       "}\n",
       "\n",
       ".xr-section-summary-in:checked ~ .xr-section-details {\n",
       "  display: contents;\n",
       "}\n",
       "\n",
       ".xr-array-wrap {\n",
       "  grid-column: 1 / -1;\n",
       "  display: grid;\n",
       "  grid-template-columns: 20px auto;\n",
       "}\n",
       "\n",
       ".xr-array-wrap > label {\n",
       "  grid-column: 1;\n",
       "  vertical-align: top;\n",
       "}\n",
       "\n",
       ".xr-preview {\n",
       "  color: var(--xr-font-color3);\n",
       "}\n",
       "\n",
       ".xr-array-preview,\n",
       ".xr-array-data {\n",
       "  padding: 0 5px !important;\n",
       "  grid-column: 2;\n",
       "}\n",
       "\n",
       ".xr-array-data,\n",
       ".xr-array-in:checked ~ .xr-array-preview {\n",
       "  display: none;\n",
       "}\n",
       "\n",
       ".xr-array-in:checked ~ .xr-array-data,\n",
       ".xr-array-preview {\n",
       "  display: inline-block;\n",
       "}\n",
       "\n",
       ".xr-dim-list {\n",
       "  display: inline-block !important;\n",
       "  list-style: none;\n",
       "  padding: 0 !important;\n",
       "  margin: 0;\n",
       "}\n",
       "\n",
       ".xr-dim-list li {\n",
       "  display: inline-block;\n",
       "  padding: 0;\n",
       "  margin: 0;\n",
       "}\n",
       "\n",
       ".xr-dim-list:before {\n",
       "  content: \"(\";\n",
       "}\n",
       "\n",
       ".xr-dim-list:after {\n",
       "  content: \")\";\n",
       "}\n",
       "\n",
       ".xr-dim-list li:not(:last-child):after {\n",
       "  content: \",\";\n",
       "  padding-right: 5px;\n",
       "}\n",
       "\n",
       ".xr-has-index {\n",
       "  font-weight: bold;\n",
       "}\n",
       "\n",
       ".xr-var-list,\n",
       ".xr-var-item {\n",
       "  display: contents;\n",
       "}\n",
       "\n",
       ".xr-var-item > div,\n",
       ".xr-var-item label,\n",
       ".xr-var-item > .xr-var-name span {\n",
       "  background-color: var(--xr-background-color-row-even);\n",
       "  margin-bottom: 0;\n",
       "}\n",
       "\n",
       ".xr-var-item > .xr-var-name:hover span {\n",
       "  padding-right: 5px;\n",
       "}\n",
       "\n",
       ".xr-var-list > li:nth-child(odd) > div,\n",
       ".xr-var-list > li:nth-child(odd) > label,\n",
       ".xr-var-list > li:nth-child(odd) > .xr-var-name span {\n",
       "  background-color: var(--xr-background-color-row-odd);\n",
       "}\n",
       "\n",
       ".xr-var-name {\n",
       "  grid-column: 1;\n",
       "}\n",
       "\n",
       ".xr-var-dims {\n",
       "  grid-column: 2;\n",
       "}\n",
       "\n",
       ".xr-var-dtype {\n",
       "  grid-column: 3;\n",
       "  text-align: right;\n",
       "  color: var(--xr-font-color2);\n",
       "}\n",
       "\n",
       ".xr-var-preview {\n",
       "  grid-column: 4;\n",
       "}\n",
       "\n",
       ".xr-index-preview {\n",
       "  grid-column: 2 / 5;\n",
       "  color: var(--xr-font-color2);\n",
       "}\n",
       "\n",
       ".xr-var-name,\n",
       ".xr-var-dims,\n",
       ".xr-var-dtype,\n",
       ".xr-preview,\n",
       ".xr-attrs dt {\n",
       "  white-space: nowrap;\n",
       "  overflow: hidden;\n",
       "  text-overflow: ellipsis;\n",
       "  padding-right: 10px;\n",
       "}\n",
       "\n",
       ".xr-var-name:hover,\n",
       ".xr-var-dims:hover,\n",
       ".xr-var-dtype:hover,\n",
       ".xr-attrs dt:hover {\n",
       "  overflow: visible;\n",
       "  width: auto;\n",
       "  z-index: 1;\n",
       "}\n",
       "\n",
       ".xr-var-attrs,\n",
       ".xr-var-data,\n",
       ".xr-index-data {\n",
       "  display: none;\n",
       "  background-color: var(--xr-background-color) !important;\n",
       "  padding-bottom: 5px !important;\n",
       "}\n",
       "\n",
       ".xr-var-attrs-in:checked ~ .xr-var-attrs,\n",
       ".xr-var-data-in:checked ~ .xr-var-data,\n",
       ".xr-index-data-in:checked ~ .xr-index-data {\n",
       "  display: block;\n",
       "}\n",
       "\n",
       ".xr-var-data > table {\n",
       "  float: right;\n",
       "}\n",
       "\n",
       ".xr-var-name span,\n",
       ".xr-var-data,\n",
       ".xr-index-name div,\n",
       ".xr-index-data,\n",
       ".xr-attrs {\n",
       "  padding-left: 25px !important;\n",
       "}\n",
       "\n",
       ".xr-attrs,\n",
       ".xr-var-attrs,\n",
       ".xr-var-data,\n",
       ".xr-index-data {\n",
       "  grid-column: 1 / -1;\n",
       "}\n",
       "\n",
       "dl.xr-attrs {\n",
       "  padding: 0;\n",
       "  margin: 0;\n",
       "  display: grid;\n",
       "  grid-template-columns: 125px auto;\n",
       "}\n",
       "\n",
       ".xr-attrs dt,\n",
       ".xr-attrs dd {\n",
       "  padding: 0;\n",
       "  margin: 0;\n",
       "  float: left;\n",
       "  padding-right: 10px;\n",
       "  width: auto;\n",
       "}\n",
       "\n",
       ".xr-attrs dt {\n",
       "  font-weight: normal;\n",
       "  grid-column: 1;\n",
       "}\n",
       "\n",
       ".xr-attrs dt:hover span {\n",
       "  display: inline-block;\n",
       "  background: var(--xr-background-color);\n",
       "  padding-right: 10px;\n",
       "}\n",
       "\n",
       ".xr-attrs dd {\n",
       "  grid-column: 2;\n",
       "  white-space: pre-wrap;\n",
       "  word-break: break-all;\n",
       "}\n",
       "\n",
       ".xr-icon-database,\n",
       ".xr-icon-file-text2,\n",
       ".xr-no-icon {\n",
       "  display: inline-block;\n",
       "  vertical-align: middle;\n",
       "  width: 1em;\n",
       "  height: 1.5em !important;\n",
       "  stroke-width: 0;\n",
       "  stroke: currentColor;\n",
       "  fill: currentColor;\n",
       "}\n",
       "</style><pre class='xr-text-repr-fallback'>&lt;xarray.Dataset&gt; Size: 47kB\n",
       "Dimensions:                          (N_POINTS: 139)\n",
       "Coordinates:\n",
       "    LATITUDE                         (N_POINTS) float64 1kB 17.12 ... 17.24\n",
       "    LONGITUDE                        (N_POINTS) float64 1kB -108.1 ... -108.4\n",
       "    TIME                             (N_POINTS) datetime64[ns] 1kB 2023-06-16...\n",
       "  * N_POINTS                         (N_POINTS) int64 1kB 2 5 9 ... 1808 1809\n",
       "Data variables: (12/54)\n",
       "    BBP700                           (N_POINTS) float32 556B 0.0007788 ... 0....\n",
       "    BBP700_ADJUSTED                  (N_POINTS) float32 556B 0.0007788 ... 0....\n",
       "    BBP700_ADJUSTED_ERROR            (N_POINTS) float32 556B 1e+05 ... 1e+05\n",
       "    BBP700_ADJUSTED_QC               (N_POINTS) int64 1kB 1 1 1 1 1 ... 1 1 1 1\n",
       "    BBP700_DATA_MODE                 (N_POINTS) &lt;U1 556B &#x27;A&#x27; &#x27;A&#x27; &#x27;A&#x27; ... &#x27;A&#x27; &#x27;A&#x27;\n",
       "    BBP700_QC                        (N_POINTS) int64 1kB 1 1 1 1 1 ... 1 1 1 1\n",
       "    ...                               ...\n",
       "    TEMP_ADJUSTED                    (N_POINTS) float32 556B 26.63 ... 2.488\n",
       "    TEMP_ADJUSTED_ERROR              (N_POINTS) float32 556B 0.002 ... 0.002\n",
       "    TEMP_ADJUSTED_QC                 (N_POINTS) int64 1kB 8 8 8 8 8 ... 1 1 1 1\n",
       "    TEMP_DATA_MODE                   (N_POINTS) &lt;U1 556B &#x27;D&#x27; &#x27;D&#x27; &#x27;D&#x27; ... &#x27;D&#x27; &#x27;D&#x27;\n",
       "    TEMP_QC                          (N_POINTS) int64 1kB 8 8 8 8 8 ... 1 1 1 1\n",
       "    TIME_QC                          (N_POINTS) int64 1kB 1 1 1 1 1 ... 1 1 1 1\n",
       "Attributes: (8)</pre><div class='xr-wrap' style='display:none'><div class='xr-header'><div class='xr-obj-type'>xarray.Dataset</div></div><ul class='xr-sections'><li class='xr-section-item'><input id='section-f14c86e0-55b9-4ba3-8858-719880d3073a' class='xr-section-summary-in' type='checkbox' disabled ><label for='section-f14c86e0-55b9-4ba3-8858-719880d3073a' class='xr-section-summary'  title='Expand/collapse section'>Dimensions:</label><div class='xr-section-inline-details'><ul class='xr-dim-list'><li><span class='xr-has-index'>N_POINTS</span>: 139</li></ul></div><div class='xr-section-details'></div></li><li class='xr-section-item'><input id='section-6e6c5e87-5a79-4956-8d6c-e65d4ff4c484' class='xr-section-summary-in' type='checkbox'  checked><label for='section-6e6c5e87-5a79-4956-8d6c-e65d4ff4c484' class='xr-section-summary' >Coordinates: <span>(4)</span></label><div class='xr-section-inline-details'></div><div class='xr-section-details'><ul class='xr-var-list'><li class='xr-var-item'><div class='xr-var-name'><span>LATITUDE</span></div><div class='xr-var-dims'>(N_POINTS)</div><div class='xr-var-dtype'>float64</div><div class='xr-var-preview xr-preview'>17.12 17.12 17.12 ... 17.24 17.24</div><input id='attrs-e38fed8b-9808-4126-b7a7-7aef32eb32b2' class='xr-var-attrs-in' type='checkbox' ><label for='attrs-e38fed8b-9808-4126-b7a7-7aef32eb32b2' title='Show/Hide attributes'><svg class='icon xr-icon-file-text2'><use xlink:href='#icon-file-text2'></use></svg></label><input id='data-c5dce07c-9508-461e-aef0-216b1bcbd629' class='xr-var-data-in' type='checkbox'><label for='data-c5dce07c-9508-461e-aef0-216b1bcbd629' title='Show/Hide data repr'><svg class='icon xr-icon-database'><use xlink:href='#icon-database'></use></svg></label><div class='xr-var-attrs'><dl class='xr-attrs'><dt><span>_CoordinateAxisType :</span></dt><dd>Lat</dd><dt><span>actual_range :</span></dt><dd>[17.123 17.679]</dd><dt><span>axis :</span></dt><dd>Y</dd><dt><span>colorBarMaximum :</span></dt><dd>90.0</dd><dt><span>colorBarMinimum :</span></dt><dd>-90.0</dd><dt><span>ioos_category :</span></dt><dd>Location</dd><dt><span>long_name :</span></dt><dd>Latitude of the station, best estimate</dd><dt><span>standard_name :</span></dt><dd>latitude</dd><dt><span>units :</span></dt><dd>degrees_north</dd><dt><span>valid_max :</span></dt><dd>90.0</dd><dt><span>valid_min :</span></dt><dd>-90.0</dd><dt><span>casted :</span></dt><dd>1</dd></dl></div><div class='xr-var-data'><pre>array([17.123, 17.123, 17.123, 17.123, 17.123, 17.123, 17.123, 17.123,\n",
       "       17.123, 17.123, 17.123, 17.123, 17.123, 17.123, 17.123, 17.123,\n",
       "       17.123, 17.123, 17.123, 17.123, 17.123, 17.123, 17.123, 17.123,\n",
       "       17.123, 17.123, 17.123, 17.123, 17.123, 17.123, 17.123, 17.123,\n",
       "       17.123, 17.123, 17.123, 17.123, 17.123, 17.123, 17.123, 17.123,\n",
       "       17.123, 17.123, 17.123, 17.123, 17.123, 17.123, 17.123, 17.123,\n",
       "       17.123, 17.123, 17.123, 17.123, 17.123, 17.123, 17.123, 17.123,\n",
       "       17.123, 17.123, 17.123, 17.123, 17.123, 17.123, 17.123, 17.123,\n",
       "       17.123, 17.123, 17.123, 17.123, 17.123, 17.123, 17.242, 17.242,\n",
       "       17.242, 17.242, 17.242, 17.242, 17.242, 17.242, 17.242, 17.242,\n",
       "       17.242, 17.242, 17.242, 17.242, 17.242, 17.242, 17.242, 17.242,\n",
       "       17.242, 17.242, 17.242, 17.242, 17.242, 17.242, 17.242, 17.242,\n",
       "       17.242, 17.242, 17.242, 17.242, 17.242, 17.242, 17.242, 17.242,\n",
       "       17.242, 17.242, 17.242, 17.242, 17.242, 17.242, 17.242, 17.242,\n",
       "       17.242, 17.242, 17.242, 17.242, 17.242, 17.242, 17.242, 17.242,\n",
       "       17.242, 17.242, 17.242, 17.242, 17.242, 17.242, 17.242, 17.242,\n",
       "       17.242, 17.242, 17.242, 17.242, 17.242, 17.242, 17.242, 17.242,\n",
       "       17.242, 17.242, 17.242])</pre></div></li><li class='xr-var-item'><div class='xr-var-name'><span>LONGITUDE</span></div><div class='xr-var-dims'>(N_POINTS)</div><div class='xr-var-dtype'>float64</div><div class='xr-var-preview xr-preview'>-108.1 -108.1 ... -108.4 -108.4</div><input id='attrs-1f5b36c5-1197-4acc-b4dc-ee4bc02b0966' class='xr-var-attrs-in' type='checkbox' ><label for='attrs-1f5b36c5-1197-4acc-b4dc-ee4bc02b0966' title='Show/Hide attributes'><svg class='icon xr-icon-file-text2'><use xlink:href='#icon-file-text2'></use></svg></label><input id='data-c28a25f7-b618-4eb8-8fef-968313fc4c1e' class='xr-var-data-in' type='checkbox'><label for='data-c28a25f7-b618-4eb8-8fef-968313fc4c1e' title='Show/Hide data repr'><svg class='icon xr-icon-database'><use xlink:href='#icon-database'></use></svg></label><div class='xr-var-attrs'><dl class='xr-attrs'><dt><span>_CoordinateAxisType :</span></dt><dd>Lon</dd><dt><span>actual_range :</span></dt><dd>[-108.404 -106.422]</dd><dt><span>axis :</span></dt><dd>X</dd><dt><span>colorBarMaximum :</span></dt><dd>180.0</dd><dt><span>colorBarMinimum :</span></dt><dd>-180.0</dd><dt><span>ioos_category :</span></dt><dd>Location</dd><dt><span>long_name :</span></dt><dd>Longitude of the station, best estimate</dd><dt><span>standard_name :</span></dt><dd>longitude</dd><dt><span>units :</span></dt><dd>degrees_east</dd><dt><span>valid_max :</span></dt><dd>180.0</dd><dt><span>valid_min :</span></dt><dd>-180.0</dd><dt><span>casted :</span></dt><dd>1</dd></dl></div><div class='xr-var-data'><pre>array([-108.148, -108.148, -108.148, -108.148, -108.148, -108.148,\n",
       "       -108.148, -108.148, -108.148, -108.148, -108.148, -108.148,\n",
       "       -108.148, -108.148, -108.148, -108.148, -108.148, -108.148,\n",
       "       -108.148, -108.148, -108.148, -108.148, -108.148, -108.148,\n",
       "       -108.148, -108.148, -108.148, -108.148, -108.148, -108.148,\n",
       "       -108.148, -108.148, -108.148, -108.148, -108.148, -108.148,\n",
       "       -108.148, -108.148, -108.148, -108.148, -108.148, -108.148,\n",
       "       -108.148, -108.148, -108.148, -108.148, -108.148, -108.148,\n",
       "       -108.148, -108.148, -108.148, -108.148, -108.148, -108.148,\n",
       "       -108.148, -108.148, -108.148, -108.148, -108.148, -108.148,\n",
       "       -108.148, -108.148, -108.148, -108.148, -108.148, -108.148,\n",
       "       -108.148, -108.148, -108.148, -108.148, -108.404, -108.404,\n",
       "       -108.404, -108.404, -108.404, -108.404, -108.404, -108.404,\n",
       "       -108.404, -108.404, -108.404, -108.404, -108.404, -108.404,\n",
       "       -108.404, -108.404, -108.404, -108.404, -108.404, -108.404,\n",
       "       -108.404, -108.404, -108.404, -108.404, -108.404, -108.404,\n",
       "       -108.404, -108.404, -108.404, -108.404, -108.404, -108.404,\n",
       "       -108.404, -108.404, -108.404, -108.404, -108.404, -108.404,\n",
       "       -108.404, -108.404, -108.404, -108.404, -108.404, -108.404,\n",
       "       -108.404, -108.404, -108.404, -108.404, -108.404, -108.404,\n",
       "       -108.404, -108.404, -108.404, -108.404, -108.404, -108.404,\n",
       "       -108.404, -108.404, -108.404, -108.404, -108.404, -108.404,\n",
       "       -108.404, -108.404, -108.404, -108.404, -108.404, -108.404,\n",
       "       -108.404])</pre></div></li><li class='xr-var-item'><div class='xr-var-name'><span>TIME</span></div><div class='xr-var-dims'>(N_POINTS)</div><div class='xr-var-dtype'>datetime64[ns]</div><div class='xr-var-preview xr-preview'>2023-06-16T21:45:47.002000128 .....</div><input id='attrs-a7252034-977b-4df8-bf88-caf41fd897a7' class='xr-var-attrs-in' type='checkbox' ><label for='attrs-a7252034-977b-4df8-bf88-caf41fd897a7' title='Show/Hide attributes'><svg class='icon xr-icon-file-text2'><use xlink:href='#icon-file-text2'></use></svg></label><input id='data-da7d12b9-c8bd-4046-86b5-d4b0044f8b12' class='xr-var-data-in' type='checkbox'><label for='data-da7d12b9-c8bd-4046-86b5-d4b0044f8b12' title='Show/Hide data repr'><svg class='icon xr-icon-database'><use xlink:href='#icon-database'></use></svg></label><div class='xr-var-attrs'><dl class='xr-attrs'><dt><span>_CoordinateAxisType :</span></dt><dd>Time</dd><dt><span>actual_range :</span></dt><dd>[1.68695195e+09 1.68893203e+09]</dd><dt><span>axis :</span></dt><dd>T</dd><dt><span>conventions :</span></dt><dd>Relative julian days with decimal part (as parts of day)</dd><dt><span>ioos_category :</span></dt><dd>Time</dd><dt><span>long_name :</span></dt><dd>Julian day (UTC) of the station relative to REFERENCE_DATE_TIME</dd><dt><span>source_name :</span></dt><dd>JULD</dd><dt><span>standard_name :</span></dt><dd>time</dd><dt><span>time_origin :</span></dt><dd>01-JAN-1970 00:00:00</dd><dt><span>casted :</span></dt><dd>1</dd></dl></div><div class='xr-var-data'><pre>array([&#x27;2023-06-16T21:45:47.002000128&#x27;, &#x27;2023-06-16T21:45:47.002000128&#x27;,\n",
       "       &#x27;2023-06-16T21:45:47.002000128&#x27;, &#x27;2023-06-16T21:45:47.002000128&#x27;,\n",
       "       &#x27;2023-06-16T21:45:47.002000128&#x27;, &#x27;2023-06-16T21:45:47.002000128&#x27;,\n",
       "       &#x27;2023-06-16T21:45:47.002000128&#x27;, &#x27;2023-06-16T21:45:47.002000128&#x27;,\n",
       "       &#x27;2023-06-16T21:45:47.002000128&#x27;, &#x27;2023-06-16T21:45:47.002000128&#x27;,\n",
       "       &#x27;2023-06-16T21:45:47.002000128&#x27;, &#x27;2023-06-16T21:45:47.002000128&#x27;,\n",
       "       &#x27;2023-06-16T21:45:47.002000128&#x27;, &#x27;2023-06-16T21:45:47.002000128&#x27;,\n",
       "       &#x27;2023-06-16T21:45:47.002000128&#x27;, &#x27;2023-06-16T21:45:47.002000128&#x27;,\n",
       "       &#x27;2023-06-16T21:45:47.002000128&#x27;, &#x27;2023-06-16T21:45:47.002000128&#x27;,\n",
       "       &#x27;2023-06-16T21:45:47.002000128&#x27;, &#x27;2023-06-16T21:45:47.002000128&#x27;,\n",
       "       &#x27;2023-06-16T21:45:47.002000128&#x27;, &#x27;2023-06-16T21:45:47.002000128&#x27;,\n",
       "       &#x27;2023-06-16T21:45:47.002000128&#x27;, &#x27;2023-06-16T21:45:47.002000128&#x27;,\n",
       "       &#x27;2023-06-16T21:45:47.002000128&#x27;, &#x27;2023-06-16T21:45:47.002000128&#x27;,\n",
       "       &#x27;2023-06-16T21:45:47.002000128&#x27;, &#x27;2023-06-16T21:45:47.002000128&#x27;,\n",
       "       &#x27;2023-06-16T21:45:47.002000128&#x27;, &#x27;2023-06-16T21:45:47.002000128&#x27;,\n",
       "       &#x27;2023-06-16T21:45:47.002000128&#x27;, &#x27;2023-06-16T21:45:47.002000128&#x27;,\n",
       "       &#x27;2023-06-16T21:45:47.002000128&#x27;, &#x27;2023-06-16T21:45:47.002000128&#x27;,\n",
       "       &#x27;2023-06-16T21:45:47.002000128&#x27;, &#x27;2023-06-16T21:45:47.002000128&#x27;,\n",
       "       &#x27;2023-06-16T21:45:47.002000128&#x27;, &#x27;2023-06-16T21:45:47.002000128&#x27;,\n",
       "       &#x27;2023-06-16T21:45:47.002000128&#x27;, &#x27;2023-06-16T21:45:47.002000128&#x27;,\n",
       "...\n",
       "       &#x27;2023-06-27T06:07:06.000999936&#x27;, &#x27;2023-06-27T06:07:06.000999936&#x27;,\n",
       "       &#x27;2023-06-27T06:07:06.000999936&#x27;, &#x27;2023-06-27T06:07:06.000999936&#x27;,\n",
       "       &#x27;2023-06-27T06:07:06.000999936&#x27;, &#x27;2023-06-27T06:07:06.000999936&#x27;,\n",
       "       &#x27;2023-06-27T06:07:06.000999936&#x27;, &#x27;2023-06-27T06:07:06.000999936&#x27;,\n",
       "       &#x27;2023-06-27T06:07:06.000999936&#x27;, &#x27;2023-06-27T06:07:06.000999936&#x27;,\n",
       "       &#x27;2023-06-27T06:07:06.000999936&#x27;, &#x27;2023-06-27T06:07:06.000999936&#x27;,\n",
       "       &#x27;2023-06-27T06:07:06.000999936&#x27;, &#x27;2023-06-27T06:07:06.000999936&#x27;,\n",
       "       &#x27;2023-06-27T06:07:06.000999936&#x27;, &#x27;2023-06-27T06:07:06.000999936&#x27;,\n",
       "       &#x27;2023-06-27T06:07:06.000999936&#x27;, &#x27;2023-06-27T06:07:06.000999936&#x27;,\n",
       "       &#x27;2023-06-27T06:07:06.000999936&#x27;, &#x27;2023-06-27T06:07:06.000999936&#x27;,\n",
       "       &#x27;2023-06-27T06:07:06.000999936&#x27;, &#x27;2023-06-27T06:07:06.000999936&#x27;,\n",
       "       &#x27;2023-06-27T06:07:06.000999936&#x27;, &#x27;2023-06-27T06:07:06.000999936&#x27;,\n",
       "       &#x27;2023-06-27T06:07:06.000999936&#x27;, &#x27;2023-06-27T06:07:06.000999936&#x27;,\n",
       "       &#x27;2023-06-27T06:07:06.000999936&#x27;, &#x27;2023-06-27T06:07:06.000999936&#x27;,\n",
       "       &#x27;2023-06-27T06:07:06.000999936&#x27;, &#x27;2023-06-27T06:07:06.000999936&#x27;,\n",
       "       &#x27;2023-06-27T06:07:06.000999936&#x27;, &#x27;2023-06-27T06:07:06.000999936&#x27;,\n",
       "       &#x27;2023-06-27T06:07:06.000999936&#x27;, &#x27;2023-06-27T06:07:06.000999936&#x27;,\n",
       "       &#x27;2023-06-27T06:07:06.000999936&#x27;, &#x27;2023-06-27T06:07:06.000999936&#x27;,\n",
       "       &#x27;2023-06-27T06:07:06.000999936&#x27;, &#x27;2023-06-27T06:07:06.000999936&#x27;,\n",
       "       &#x27;2023-06-27T06:07:06.000999936&#x27;], dtype=&#x27;datetime64[ns]&#x27;)</pre></div></li><li class='xr-var-item'><div class='xr-var-name'><span class='xr-has-index'>N_POINTS</span></div><div class='xr-var-dims'>(N_POINTS)</div><div class='xr-var-dtype'>int64</div><div class='xr-var-preview xr-preview'>2 5 9 13 16 ... 1806 1807 1808 1809</div><input id='attrs-8e194865-286e-4a55-be4e-73a61afafa80' class='xr-var-attrs-in' type='checkbox' ><label for='attrs-8e194865-286e-4a55-be4e-73a61afafa80' title='Show/Hide attributes'><svg class='icon xr-icon-file-text2'><use xlink:href='#icon-file-text2'></use></svg></label><input id='data-991e1001-0037-4f18-9662-9dd38684e056' class='xr-var-data-in' type='checkbox'><label for='data-991e1001-0037-4f18-9662-9dd38684e056' title='Show/Hide data repr'><svg class='icon xr-icon-database'><use xlink:href='#icon-database'></use></svg></label><div class='xr-var-attrs'><dl class='xr-attrs'><dt><span>casted :</span></dt><dd>1</dd></dl></div><div class='xr-var-data'><pre>array([   2,    5,    9,   13,   16,   19,   23,   27,   30,   33,   37,   40,\n",
       "         44,   47,   51,   54,   58,   62,   65,   68,   74,   80,   86,   92,\n",
       "         98,  104,  110,  116,  122,  128,  134,  140,  146,  152,  158,  164,\n",
       "        170,  176,  182,  188,  194,  200,  206,  212,  218,  224,  235,  246,\n",
       "        272,  298,  324,  350,  376,  402,  428,  453,  480,  506,  532,  547,\n",
       "        548,  549,  550,  551,  552,  553,  554,  555,  556,  557, 1255, 1259,\n",
       "       1262, 1265, 1268, 1272, 1275, 1278, 1282, 1285, 1289, 1293, 1296, 1299,\n",
       "       1303, 1306, 1310, 1313, 1317, 1320, 1326, 1332, 1338, 1344, 1350, 1356,\n",
       "       1362, 1368, 1374, 1380, 1386, 1391, 1398, 1404, 1410, 1416, 1422, 1428,\n",
       "       1434, 1440, 1446, 1452, 1458, 1464, 1470, 1476, 1487, 1498, 1524, 1550,\n",
       "       1576, 1602, 1628, 1654, 1680, 1706, 1732, 1758, 1784, 1800, 1801, 1802,\n",
       "       1803, 1804, 1805, 1806, 1807, 1808, 1809])</pre></div></li></ul></div></li><li class='xr-section-item'><input id='section-88d8df7e-13cb-4468-a03c-6cd754949565' class='xr-section-summary-in' type='checkbox'  ><label for='section-88d8df7e-13cb-4468-a03c-6cd754949565' class='xr-section-summary' >Data variables: <span>(54)</span></label><div class='xr-section-inline-details'></div><div class='xr-section-details'><ul class='xr-var-list'><li class='xr-var-item'><div class='xr-var-name'><span>BBP700</span></div><div class='xr-var-dims'>(N_POINTS)</div><div class='xr-var-dtype'>float32</div><div class='xr-var-preview xr-preview'>0.0007788 0.00124 ... 0.0002342</div><input id='attrs-17612770-5ae8-473e-81de-ebc634ac6fd6' class='xr-var-attrs-in' type='checkbox' ><label for='attrs-17612770-5ae8-473e-81de-ebc634ac6fd6' title='Show/Hide attributes'><svg class='icon xr-icon-file-text2'><use xlink:href='#icon-file-text2'></use></svg></label><input id='data-04618bae-b868-410e-a8cd-308c9d9a8163' class='xr-var-data-in' type='checkbox'><label for='data-04618bae-b868-410e-a8cd-308c9d9a8163' title='Show/Hide data repr'><svg class='icon xr-icon-database'><use xlink:href='#icon-database'></use></svg></label><div class='xr-var-attrs'><dl class='xr-attrs'><dt><span>actual_range :</span></dt><dd>[0.00019742 0.00188162]</dd><dt><span>cf_standard_name :</span></dt><dd>-</dd><dt><span>long_name :</span></dt><dd>Particle backscattering at 700 nanometers</dd><dt><span>sdn_parameter_urn :</span></dt><dd>SDN:P01::BB117NIR</dd><dt><span>units :</span></dt><dd>m-1</dd><dt><span>valid_max :</span></dt><dd>nan</dd><dt><span>valid_min :</span></dt><dd>nan</dd><dt><span>casted :</span></dt><dd>1</dd></dl></div><div class='xr-var-data'><pre>array([0.00077878, 0.00123967, 0.00082709, 0.00076623, 0.00080252,\n",
       "       0.00088732, 0.00122692, 0.00163925, 0.00188162, 0.00167533,\n",
       "       0.00095867, 0.00066698, 0.00058136, 0.0005444 , 0.00044684,\n",
       "       0.00047076, 0.00040952, 0.00042148, 0.0006998 , 0.00078463,\n",
       "       0.00072335, 0.00061377, 0.00058936, 0.00058906, 0.00060111,\n",
       "       0.0005887 , 0.00055215, 0.0005521 , 0.00052772, 0.00052762,\n",
       "       0.00053954, 0.00053947, 0.00056363, 0.00057571, 0.00053928,\n",
       "       0.00052691, 0.00051457, 0.00049009, 0.00044141, 0.00041704,\n",
       "       0.00039266, 0.0003561 , 0.00035593, 0.00035584, 0.00035569,\n",
       "       0.00033127, 0.00035535, 0.00031852, 0.00026902, 0.00026828,\n",
       "       0.00026766, 0.00025492, 0.00024209, 0.00022951, 0.00022885,\n",
       "       0.00020397, 0.00020357, 0.00021527, 0.00022696, 0.00022662,\n",
       "       0.00023804, 0.00022538, 0.00021248, 0.00021189, 0.00021143,\n",
       "       0.0002111 , 0.00021063, 0.00021023, 0.0002099 , 0.00019742,\n",
       "       0.0006211 , 0.00076669, 0.00086381, 0.00086364, 0.00094836,\n",
       "       0.00104534, 0.00113026, 0.0012025 , 0.00102044, 0.00103202,\n",
       "       0.00081331, 0.00067949, 0.00048452, 0.0004717 , 0.00043451,\n",
       "       0.00044603, 0.00043379, 0.00042163, 0.00044549, 0.000603  ,\n",
       "       0.00079636, 0.00068684, 0.0006259 , 0.00060137, 0.00062547,\n",
       "       0.00057673, 0.00061302, 0.00066135, 0.00055198, 0.00056399,\n",
       "       0.00055177, 0.0005637 , 0.00056358, 0.00052701, 0.00053905,\n",
       "       0.00052676, 0.00051458, 0.00049016, 0.00049012, 0.00045363,\n",
       "       0.00042916, 0.00038047, 0.00039241, 0.00035575, 0.00033129,\n",
       "       0.00040385, 0.00033087, 0.00029415, 0.00029327, 0.00030475,\n",
       "       0.0002556 , 0.00025499, 0.00023004, 0.00022944, 0.00022891,\n",
       "       0.00020405, 0.0002278 , 0.00021518, 0.00022676, 0.00022652,\n",
       "       0.00023794, 0.00022512, 0.00022462, 0.00022414, 0.00022367,\n",
       "       0.00021119, 0.00019861, 0.00023457, 0.00023419], dtype=float32)</pre></div></li><li class='xr-var-item'><div class='xr-var-name'><span>BBP700_ADJUSTED</span></div><div class='xr-var-dims'>(N_POINTS)</div><div class='xr-var-dtype'>float32</div><div class='xr-var-preview xr-preview'>0.0007788 0.00124 ... 0.0002342</div><input id='attrs-299041ad-3533-430f-97c2-d7db30a2f0e6' class='xr-var-attrs-in' type='checkbox' ><label for='attrs-299041ad-3533-430f-97c2-d7db30a2f0e6' title='Show/Hide attributes'><svg class='icon xr-icon-file-text2'><use xlink:href='#icon-file-text2'></use></svg></label><input id='data-5981c762-89de-4891-aee0-68c545496700' class='xr-var-data-in' type='checkbox'><label for='data-5981c762-89de-4891-aee0-68c545496700' title='Show/Hide data repr'><svg class='icon xr-icon-database'><use xlink:href='#icon-database'></use></svg></label><div class='xr-var-attrs'><dl class='xr-attrs'><dt><span>actual_range :</span></dt><dd>[1.974165e-04 9.999900e+04]</dd><dt><span>casted :</span></dt><dd>1</dd></dl></div><div class='xr-var-data'><pre>array([0.00077878, 0.00123967, 0.00082709, 0.00076623, 0.00080252,\n",
       "       0.00088732, 0.00122692, 0.00163925, 0.00188162, 0.00167533,\n",
       "       0.00095867, 0.00066698, 0.00058136, 0.0005444 , 0.00044684,\n",
       "       0.00047076, 0.00040952, 0.00042148, 0.0006998 , 0.00078463,\n",
       "       0.00072335, 0.00061377, 0.00058936, 0.00058906, 0.00060111,\n",
       "       0.0005887 , 0.00055215, 0.0005521 , 0.00052772, 0.00052762,\n",
       "       0.00053954, 0.00053947, 0.00056363, 0.00057571, 0.00053928,\n",
       "       0.00052691, 0.00051457, 0.00049009, 0.00044141, 0.00041704,\n",
       "       0.00039266, 0.0003561 , 0.00035593, 0.00035584, 0.00035569,\n",
       "       0.00033127, 0.00035535, 0.00031852, 0.00026902, 0.00026828,\n",
       "       0.00026766, 0.00025492, 0.00024209, 0.00022951, 0.00022885,\n",
       "       0.00020397, 0.00020357, 0.00021527, 0.00022696, 0.00022662,\n",
       "       0.00023804, 0.00022538, 0.00021248, 0.00021189, 0.00021143,\n",
       "       0.0002111 , 0.00021063, 0.00021023, 0.0002099 , 0.00019742,\n",
       "       0.0006211 , 0.00076669, 0.00086381, 0.00086364, 0.00094836,\n",
       "       0.00104534, 0.00113026, 0.0012025 , 0.00102044, 0.00103202,\n",
       "       0.00081331, 0.00067949, 0.00048452, 0.0004717 , 0.00043451,\n",
       "       0.00044603, 0.00043379, 0.00042163, 0.00044549, 0.000603  ,\n",
       "       0.00079636, 0.00068684, 0.0006259 , 0.00060137, 0.00062547,\n",
       "       0.00057673, 0.00061302, 0.00066135, 0.00055198, 0.00056399,\n",
       "       0.00055177, 0.0005637 , 0.00056358, 0.00052701, 0.00053905,\n",
       "       0.00052676, 0.00051458, 0.00049016, 0.00049012, 0.00045363,\n",
       "       0.00042916, 0.00038047, 0.00039241, 0.00035575, 0.00033129,\n",
       "       0.00040385, 0.00033087, 0.00029415, 0.00029327, 0.00030475,\n",
       "       0.0002556 , 0.00025499, 0.00023004, 0.00022944, 0.00022891,\n",
       "       0.00020405, 0.0002278 , 0.00021518, 0.00022676, 0.00022652,\n",
       "       0.00023794, 0.00022512, 0.00022462, 0.00022414, 0.00022367,\n",
       "       0.00021119, 0.00019861, 0.00023457, 0.00023419], dtype=float32)</pre></div></li><li class='xr-var-item'><div class='xr-var-name'><span>BBP700_ADJUSTED_ERROR</span></div><div class='xr-var-dims'>(N_POINTS)</div><div class='xr-var-dtype'>float32</div><div class='xr-var-preview xr-preview'>1e+05 1e+05 1e+05 ... 1e+05 1e+05</div><input id='attrs-bb8980eb-e31c-450d-a9d9-d3761bd65692' class='xr-var-attrs-in' type='checkbox' ><label for='attrs-bb8980eb-e31c-450d-a9d9-d3761bd65692' title='Show/Hide attributes'><svg class='icon xr-icon-file-text2'><use xlink:href='#icon-file-text2'></use></svg></label><input id='data-c0e5f3d7-5914-4df1-bb7e-222e529f0b00' class='xr-var-data-in' type='checkbox'><label for='data-c0e5f3d7-5914-4df1-bb7e-222e529f0b00' title='Show/Hide data repr'><svg class='icon xr-icon-database'><use xlink:href='#icon-database'></use></svg></label><div class='xr-var-attrs'><dl class='xr-attrs'><dt><span>actual_range :</span></dt><dd>[99999. 99999.]</dd><dt><span>casted :</span></dt><dd>1</dd></dl></div><div class='xr-var-data'><pre>array([99999., 99999., 99999., 99999., 99999., 99999., 99999., 99999.,\n",
       "       99999., 99999., 99999., 99999., 99999., 99999., 99999., 99999.,\n",
       "       99999., 99999., 99999., 99999., 99999., 99999., 99999., 99999.,\n",
       "       99999., 99999., 99999., 99999., 99999., 99999., 99999., 99999.,\n",
       "       99999., 99999., 99999., 99999., 99999., 99999., 99999., 99999.,\n",
       "       99999., 99999., 99999., 99999., 99999., 99999., 99999., 99999.,\n",
       "       99999., 99999., 99999., 99999., 99999., 99999., 99999., 99999.,\n",
       "       99999., 99999., 99999., 99999., 99999., 99999., 99999., 99999.,\n",
       "       99999., 99999., 99999., 99999., 99999., 99999., 99999., 99999.,\n",
       "       99999., 99999., 99999., 99999., 99999., 99999., 99999., 99999.,\n",
       "       99999., 99999., 99999., 99999., 99999., 99999., 99999., 99999.,\n",
       "       99999., 99999., 99999., 99999., 99999., 99999., 99999., 99999.,\n",
       "       99999., 99999., 99999., 99999., 99999., 99999., 99999., 99999.,\n",
       "       99999., 99999., 99999., 99999., 99999., 99999., 99999., 99999.,\n",
       "       99999., 99999., 99999., 99999., 99999., 99999., 99999., 99999.,\n",
       "       99999., 99999., 99999., 99999., 99999., 99999., 99999., 99999.,\n",
       "       99999., 99999., 99999., 99999., 99999., 99999., 99999., 99999.,\n",
       "       99999., 99999., 99999.], dtype=float32)</pre></div></li><li class='xr-var-item'><div class='xr-var-name'><span>BBP700_ADJUSTED_QC</span></div><div class='xr-var-dims'>(N_POINTS)</div><div class='xr-var-dtype'>int64</div><div class='xr-var-preview xr-preview'>1 1 1 1 1 1 1 1 ... 1 1 1 1 1 1 1 1</div><input id='attrs-7255cd57-a61e-40f0-99d3-fcdac618aa57' class='xr-var-attrs-in' type='checkbox' ><label for='attrs-7255cd57-a61e-40f0-99d3-fcdac618aa57' title='Show/Hide attributes'><svg class='icon xr-icon-file-text2'><use xlink:href='#icon-file-text2'></use></svg></label><input id='data-6a2a7ba3-3383-4108-964b-5c83cfccf196' class='xr-var-data-in' type='checkbox'><label for='data-6a2a7ba3-3383-4108-964b-5c83cfccf196' title='Show/Hide data repr'><svg class='icon xr-icon-database'><use xlink:href='#icon-database'></use></svg></label><div class='xr-var-attrs'><dl class='xr-attrs'><dt><span>long_name :</span></dt><dd>Global quality flag of BBP700_ADJUSTED_QC profile</dd><dt><span>conventions :</span></dt><dd>Argo reference table 2a</dd><dt><span>casted :</span></dt><dd>1</dd></dl></div><div class='xr-var-data'><pre>array([1, 1, 1, 1, 1, 1, 1, 1, 1, 1, 1, 1, 1, 1, 1, 1, 1, 1, 1, 1, 1, 1,\n",
       "       1, 1, 1, 1, 1, 1, 1, 1, 1, 1, 1, 1, 1, 1, 1, 1, 1, 1, 1, 1, 1, 1,\n",
       "       1, 1, 1, 1, 1, 1, 1, 1, 1, 1, 1, 1, 1, 1, 1, 1, 1, 1, 1, 1, 1, 1,\n",
       "       1, 1, 1, 1, 1, 1, 1, 1, 1, 1, 1, 1, 1, 1, 1, 1, 1, 1, 1, 1, 1, 1,\n",
       "       1, 1, 1, 1, 1, 1, 1, 1, 1, 1, 1, 1, 1, 1, 1, 1, 1, 1, 1, 1, 1, 1,\n",
       "       1, 1, 1, 1, 1, 1, 1, 1, 1, 1, 1, 1, 1, 1, 1, 1, 1, 1, 1, 1, 1, 1,\n",
       "       1, 1, 1, 1, 1, 1, 1])</pre></div></li><li class='xr-var-item'><div class='xr-var-name'><span>BBP700_DATA_MODE</span></div><div class='xr-var-dims'>(N_POINTS)</div><div class='xr-var-dtype'>&lt;U1</div><div class='xr-var-preview xr-preview'>&#x27;A&#x27; &#x27;A&#x27; &#x27;A&#x27; &#x27;A&#x27; ... &#x27;A&#x27; &#x27;A&#x27; &#x27;A&#x27; &#x27;A&#x27;</div><input id='attrs-85c4b4c3-885d-48ed-8913-0b585f52b1e7' class='xr-var-attrs-in' type='checkbox' ><label for='attrs-85c4b4c3-885d-48ed-8913-0b585f52b1e7' title='Show/Hide attributes'><svg class='icon xr-icon-file-text2'><use xlink:href='#icon-file-text2'></use></svg></label><input id='data-ba58b510-5f7c-4691-8a13-a11c1a4d9764' class='xr-var-data-in' type='checkbox'><label for='data-ba58b510-5f7c-4691-8a13-a11c1a4d9764' title='Show/Hide data repr'><svg class='icon xr-icon-database'><use xlink:href='#icon-database'></use></svg></label><div class='xr-var-attrs'><dl class='xr-attrs'><dt><span>long_name :</span></dt><dd>Delayed mode or real time data</dd><dt><span>conventions :</span></dt><dd>R : real time; D : delayed mode; A : real time with adjustment</dd><dt><span>casted :</span></dt><dd>1</dd></dl></div><div class='xr-var-data'><pre>array([&#x27;A&#x27;, &#x27;A&#x27;, &#x27;A&#x27;, &#x27;A&#x27;, &#x27;A&#x27;, &#x27;A&#x27;, &#x27;A&#x27;, &#x27;A&#x27;, &#x27;A&#x27;, &#x27;A&#x27;, &#x27;A&#x27;, &#x27;A&#x27;, &#x27;A&#x27;,\n",
       "       &#x27;A&#x27;, &#x27;A&#x27;, &#x27;A&#x27;, &#x27;A&#x27;, &#x27;A&#x27;, &#x27;A&#x27;, &#x27;A&#x27;, &#x27;A&#x27;, &#x27;A&#x27;, &#x27;A&#x27;, &#x27;A&#x27;, &#x27;A&#x27;, &#x27;A&#x27;,\n",
       "       &#x27;A&#x27;, &#x27;A&#x27;, &#x27;A&#x27;, &#x27;A&#x27;, &#x27;A&#x27;, &#x27;A&#x27;, &#x27;A&#x27;, &#x27;A&#x27;, &#x27;A&#x27;, &#x27;A&#x27;, &#x27;A&#x27;, &#x27;A&#x27;, &#x27;A&#x27;,\n",
       "       &#x27;A&#x27;, &#x27;A&#x27;, &#x27;A&#x27;, &#x27;A&#x27;, &#x27;A&#x27;, &#x27;A&#x27;, &#x27;A&#x27;, &#x27;A&#x27;, &#x27;A&#x27;, &#x27;A&#x27;, &#x27;A&#x27;, &#x27;A&#x27;, &#x27;A&#x27;,\n",
       "       &#x27;A&#x27;, &#x27;A&#x27;, &#x27;A&#x27;, &#x27;A&#x27;, &#x27;A&#x27;, &#x27;A&#x27;, &#x27;A&#x27;, &#x27;A&#x27;, &#x27;A&#x27;, &#x27;A&#x27;, &#x27;A&#x27;, &#x27;A&#x27;, &#x27;A&#x27;,\n",
       "       &#x27;A&#x27;, &#x27;A&#x27;, &#x27;A&#x27;, &#x27;A&#x27;, &#x27;A&#x27;, &#x27;A&#x27;, &#x27;A&#x27;, &#x27;A&#x27;, &#x27;A&#x27;, &#x27;A&#x27;, &#x27;A&#x27;, &#x27;A&#x27;, &#x27;A&#x27;,\n",
       "       &#x27;A&#x27;, &#x27;A&#x27;, &#x27;A&#x27;, &#x27;A&#x27;, &#x27;A&#x27;, &#x27;A&#x27;, &#x27;A&#x27;, &#x27;A&#x27;, &#x27;A&#x27;, &#x27;A&#x27;, &#x27;A&#x27;, &#x27;A&#x27;, &#x27;A&#x27;,\n",
       "       &#x27;A&#x27;, &#x27;A&#x27;, &#x27;A&#x27;, &#x27;A&#x27;, &#x27;A&#x27;, &#x27;A&#x27;, &#x27;A&#x27;, &#x27;A&#x27;, &#x27;A&#x27;, &#x27;A&#x27;, &#x27;A&#x27;, &#x27;A&#x27;, &#x27;A&#x27;,\n",
       "       &#x27;A&#x27;, &#x27;A&#x27;, &#x27;A&#x27;, &#x27;A&#x27;, &#x27;A&#x27;, &#x27;A&#x27;, &#x27;A&#x27;, &#x27;A&#x27;, &#x27;A&#x27;, &#x27;A&#x27;, &#x27;A&#x27;, &#x27;A&#x27;, &#x27;A&#x27;,\n",
       "       &#x27;A&#x27;, &#x27;A&#x27;, &#x27;A&#x27;, &#x27;A&#x27;, &#x27;A&#x27;, &#x27;A&#x27;, &#x27;A&#x27;, &#x27;A&#x27;, &#x27;A&#x27;, &#x27;A&#x27;, &#x27;A&#x27;, &#x27;A&#x27;, &#x27;A&#x27;,\n",
       "       &#x27;A&#x27;, &#x27;A&#x27;, &#x27;A&#x27;, &#x27;A&#x27;, &#x27;A&#x27;, &#x27;A&#x27;, &#x27;A&#x27;, &#x27;A&#x27;, &#x27;A&#x27;], dtype=&#x27;&lt;U1&#x27;)</pre></div></li><li class='xr-var-item'><div class='xr-var-name'><span>BBP700_QC</span></div><div class='xr-var-dims'>(N_POINTS)</div><div class='xr-var-dtype'>int64</div><div class='xr-var-preview xr-preview'>1 1 1 1 1 1 1 1 ... 1 1 1 1 1 1 1 1</div><input id='attrs-637d1bcc-4e3d-47e9-b7b5-9972d94bca97' class='xr-var-attrs-in' type='checkbox' ><label for='attrs-637d1bcc-4e3d-47e9-b7b5-9972d94bca97' title='Show/Hide attributes'><svg class='icon xr-icon-file-text2'><use xlink:href='#icon-file-text2'></use></svg></label><input id='data-de2488d9-52b8-47f3-b0c3-92d047e6d571' class='xr-var-data-in' type='checkbox'><label for='data-de2488d9-52b8-47f3-b0c3-92d047e6d571' title='Show/Hide data repr'><svg class='icon xr-icon-database'><use xlink:href='#icon-database'></use></svg></label><div class='xr-var-attrs'><dl class='xr-attrs'><dt><span>long_name :</span></dt><dd>Global quality flag of BBP700_QC profile</dd><dt><span>conventions :</span></dt><dd>Argo reference table 2a</dd><dt><span>casted :</span></dt><dd>1</dd></dl></div><div class='xr-var-data'><pre>array([1, 1, 1, 1, 1, 1, 1, 1, 1, 1, 1, 1, 1, 1, 1, 1, 1, 1, 1, 1, 1, 1,\n",
       "       1, 1, 1, 1, 1, 1, 1, 1, 1, 1, 1, 1, 1, 1, 1, 1, 1, 1, 1, 1, 1, 1,\n",
       "       1, 1, 1, 1, 1, 1, 1, 1, 1, 1, 1, 1, 1, 1, 1, 1, 1, 1, 1, 1, 1, 1,\n",
       "       1, 1, 1, 1, 1, 1, 1, 1, 1, 1, 1, 1, 1, 1, 1, 1, 1, 1, 1, 1, 1, 1,\n",
       "       1, 1, 1, 1, 1, 1, 1, 1, 1, 1, 1, 1, 1, 1, 1, 1, 1, 1, 1, 1, 1, 1,\n",
       "       1, 1, 1, 1, 1, 1, 1, 1, 1, 1, 1, 1, 1, 1, 1, 1, 1, 1, 1, 1, 1, 1,\n",
       "       1, 1, 1, 1, 1, 1, 1])</pre></div></li><li class='xr-var-item'><div class='xr-var-name'><span>CHLA</span></div><div class='xr-var-dims'>(N_POINTS)</div><div class='xr-var-dtype'>float32</div><div class='xr-var-preview xr-preview'>0.0657 0.073 ... 0.0657 0.0584</div><input id='attrs-7eff9060-07cd-4c99-beb1-12e41777a099' class='xr-var-attrs-in' type='checkbox' ><label for='attrs-7eff9060-07cd-4c99-beb1-12e41777a099' title='Show/Hide attributes'><svg class='icon xr-icon-file-text2'><use xlink:href='#icon-file-text2'></use></svg></label><input id='data-d378eb25-e339-45dc-b12d-85cc42e24946' class='xr-var-data-in' type='checkbox'><label for='data-d378eb25-e339-45dc-b12d-85cc42e24946' title='Show/Hide data repr'><svg class='icon xr-icon-database'><use xlink:href='#icon-database'></use></svg></label><div class='xr-var-attrs'><dl class='xr-attrs'><dt><span>actual_range :</span></dt><dd>[0.0584 1.7301]</dd><dt><span>cf_standard_name :</span></dt><dd>mass_concentration_of_chlorophyll_a_in_sea_water</dd><dt><span>long_name :</span></dt><dd>Chlorophyll-A</dd><dt><span>sdn_parameter_urn :</span></dt><dd>SDN:P01::CPHLPR01</dd><dt><span>units :</span></dt><dd>mg/m3</dd><dt><span>valid_max :</span></dt><dd>nan</dd><dt><span>valid_min :</span></dt><dd>nan</dd><dt><span>casted :</span></dt><dd>1</dd></dl></div><div class='xr-var-data'><pre>array([0.0657, 0.073 , 0.073 , 0.0803, 0.0949, 0.0949, 0.219 , 0.6643,\n",
       "       1.7301, 1.387 , 0.8249, 0.5913, 0.438 , 0.3942, 0.3869, 0.3577,\n",
       "       0.2993, 0.3796, 0.6205, 0.7811, 0.4599, 0.146 , 0.1095, 0.0803,\n",
       "       0.073 , 0.073 , 0.0584, 0.0657, 0.073 , 0.0584, 0.0584, 0.0584,\n",
       "       0.0657, 0.0657, 0.073 , 0.073 , 0.0657, 0.0657, 0.073 , 0.0657,\n",
       "       0.073 , 0.073 , 0.073 , 0.0657, 0.073 , 0.073 , 0.073 , 0.073 ,\n",
       "       0.073 , 0.0657, 0.0803, 0.073 , 0.073 , 0.0803, 0.073 , 0.073 ,\n",
       "       0.073 , 0.073 , 0.073 , 0.073 , 0.0657, 0.073 , 0.0657, 0.073 ,\n",
       "       0.073 , 0.073 , 0.0657, 0.0657, 0.073 , 0.0657, 0.1022, 0.0949,\n",
       "       0.1314, 0.2044, 0.2701, 0.7227, 0.9782, 1.1826, 1.0804, 0.9052,\n",
       "       0.7227, 0.5183, 0.4307, 0.365 , 0.8176, 0.2774, 0.2482, 0.2555,\n",
       "       0.2774, 0.4745, 0.7519, 0.4964, 0.2628, 0.1533, 0.0803, 0.073 ,\n",
       "       0.073 , 0.0657, 0.0657, 0.073 , 0.0657, 0.073 , 0.0657, 0.0657,\n",
       "       0.0584, 0.0657, 0.0657, 0.073 , 0.0657, 0.0657, 0.073 , 0.073 ,\n",
       "       0.073 , 0.073 , 0.0803, 0.073 , 0.073 , 0.073 , 0.0657, 0.073 ,\n",
       "       0.0803, 0.073 , 0.073 , 0.0803, 0.073 , 0.0803, 0.073 , 0.073 ,\n",
       "       0.073 , 0.073 , 0.073 , 0.073 , 0.073 , 0.073 , 0.0657, 0.0657,\n",
       "       0.073 , 0.0657, 0.0584], dtype=float32)</pre></div></li><li class='xr-var-item'><div class='xr-var-name'><span>CHLA_ADJUSTED</span></div><div class='xr-var-dims'>(N_POINTS)</div><div class='xr-var-dtype'>float32</div><div class='xr-var-preview xr-preview'>0.00365 0.0073 ... 0.00365 0.0</div><input id='attrs-e995429d-19d6-48b9-88ad-7ff5f9c478f6' class='xr-var-attrs-in' type='checkbox' ><label for='attrs-e995429d-19d6-48b9-88ad-7ff5f9c478f6' title='Show/Hide attributes'><svg class='icon xr-icon-file-text2'><use xlink:href='#icon-file-text2'></use></svg></label><input id='data-a9d29aa8-f2f1-423c-90a3-1db969eaa5f1' class='xr-var-data-in' type='checkbox'><label for='data-a9d29aa8-f2f1-423c-90a3-1db969eaa5f1' title='Show/Hide data repr'><svg class='icon xr-icon-database'><use xlink:href='#icon-database'></use></svg></label><div class='xr-var-attrs'><dl class='xr-attrs'><dt><span>actual_range :</span></dt><dd>[    0. 99999.]</dd><dt><span>casted :</span></dt><dd>1</dd></dl></div><div class='xr-var-data'><pre>array([0.00365, 0.0073 , 0.0073 , 0.01095, 0.01825, 0.01825, 0.0803 ,\n",
       "       0.30295, 0.83585, 0.6643 , 0.38325, 0.26645, 0.1898 , 0.1679 ,\n",
       "       0.16425, 0.14965, 0.12045, 0.1606 , 0.28105, 0.36135, 0.20075,\n",
       "       0.0438 , 0.02555, 0.01095, 0.0073 , 0.0073 , 0.     , 0.00365,\n",
       "       0.0073 , 0.     , 0.     , 0.     , 0.00365, 0.00365, 0.0073 ,\n",
       "       0.0073 , 0.00365, 0.00365, 0.0073 , 0.00365, 0.0073 , 0.0073 ,\n",
       "       0.0073 , 0.00365, 0.0073 , 0.0073 , 0.0073 , 0.0073 , 0.0073 ,\n",
       "       0.00365, 0.01095, 0.0073 , 0.0073 , 0.01095, 0.0073 , 0.0073 ,\n",
       "       0.0073 , 0.0073 , 0.0073 , 0.0073 , 0.00365, 0.0073 , 0.00365,\n",
       "       0.0073 , 0.0073 , 0.0073 , 0.00365, 0.00365, 0.0073 , 0.00365,\n",
       "       0.0219 , 0.01825, 0.0365 , 0.073  , 0.10585, 0.33215, 0.4599 ,\n",
       "       0.5621 , 0.511  , 0.4234 , 0.33215, 0.22995, 0.18615, 0.1533 ,\n",
       "       0.3796 , 0.1095 , 0.0949 , 0.09855, 0.1095 , 0.20805, 0.34675,\n",
       "       0.219  , 0.1022 , 0.04745, 0.01095, 0.0073 , 0.0073 , 0.00365,\n",
       "       0.00365, 0.0073 , 0.00365, 0.0073 , 0.00365, 0.00365, 0.     ,\n",
       "       0.00365, 0.00365, 0.0073 , 0.00365, 0.00365, 0.0073 , 0.0073 ,\n",
       "       0.0073 , 0.0073 , 0.01095, 0.0073 , 0.0073 , 0.0073 , 0.00365,\n",
       "       0.0073 , 0.01095, 0.0073 , 0.0073 , 0.01095, 0.0073 , 0.01095,\n",
       "       0.0073 , 0.0073 , 0.0073 , 0.0073 , 0.0073 , 0.0073 , 0.0073 ,\n",
       "       0.0073 , 0.00365, 0.00365, 0.0073 , 0.00365, 0.     ],\n",
       "      dtype=float32)</pre></div></li><li class='xr-var-item'><div class='xr-var-name'><span>CHLA_ADJUSTED_ERROR</span></div><div class='xr-var-dims'>(N_POINTS)</div><div class='xr-var-dtype'>float32</div><div class='xr-var-preview xr-preview'>0.0073 0.0146 0.0146 ... 0.0073 0.0</div><input id='attrs-a49f154a-289c-4beb-91eb-3687070749fb' class='xr-var-attrs-in' type='checkbox' ><label for='attrs-a49f154a-289c-4beb-91eb-3687070749fb' title='Show/Hide attributes'><svg class='icon xr-icon-file-text2'><use xlink:href='#icon-file-text2'></use></svg></label><input id='data-342617dc-503c-4f07-9370-fb4c10973484' class='xr-var-data-in' type='checkbox'><label for='data-342617dc-503c-4f07-9370-fb4c10973484' title='Show/Hide data repr'><svg class='icon xr-icon-database'><use xlink:href='#icon-database'></use></svg></label><div class='xr-var-attrs'><dl class='xr-attrs'><dt><span>actual_range :</span></dt><dd>[    0. 99999.]</dd><dt><span>casted :</span></dt><dd>1</dd></dl></div><div class='xr-var-data'><pre>array([0.0073, 0.0146, 0.0146, 0.0219, 0.0365, 0.0365, 0.1606, 0.6059,\n",
       "       1.6717, 1.3286, 0.7665, 0.5329, 0.3796, 0.3358, 0.3285, 0.2993,\n",
       "       0.2409, 0.3212, 0.5621, 0.7227, 0.4015, 0.0876, 0.0511, 0.0219,\n",
       "       0.0146, 0.0146, 0.    , 0.0073, 0.0146, 0.    , 0.    , 0.    ,\n",
       "       0.0073, 0.0073, 0.0146, 0.0146, 0.0073, 0.0073, 0.0146, 0.0073,\n",
       "       0.0146, 0.0146, 0.0146, 0.0073, 0.0146, 0.0146, 0.0146, 0.0146,\n",
       "       0.0146, 0.0073, 0.0219, 0.0146, 0.0146, 0.0219, 0.0146, 0.0146,\n",
       "       0.0146, 0.0146, 0.0146, 0.0146, 0.0073, 0.0146, 0.0073, 0.0146,\n",
       "       0.0146, 0.0146, 0.0073, 0.0073, 0.0146, 0.0073, 0.0438, 0.0365,\n",
       "       0.073 , 0.146 , 0.2117, 0.6643, 0.9198, 1.1242, 1.022 , 0.8468,\n",
       "       0.6643, 0.4599, 0.3723, 0.3066, 0.7592, 0.219 , 0.1898, 0.1971,\n",
       "       0.219 , 0.4161, 0.6935, 0.438 , 0.2044, 0.0949, 0.0219, 0.0146,\n",
       "       0.0146, 0.0073, 0.0073, 0.0146, 0.0073, 0.0146, 0.0073, 0.0073,\n",
       "       0.    , 0.0073, 0.0073, 0.0146, 0.0073, 0.0073, 0.0146, 0.0146,\n",
       "       0.0146, 0.0146, 0.0219, 0.0146, 0.0146, 0.0146, 0.0073, 0.0146,\n",
       "       0.0219, 0.0146, 0.0146, 0.0219, 0.0146, 0.0219, 0.0146, 0.0146,\n",
       "       0.0146, 0.0146, 0.0146, 0.0146, 0.0146, 0.0146, 0.0073, 0.0073,\n",
       "       0.0146, 0.0073, 0.    ], dtype=float32)</pre></div></li><li class='xr-var-item'><div class='xr-var-name'><span>CHLA_ADJUSTED_QC</span></div><div class='xr-var-dims'>(N_POINTS)</div><div class='xr-var-dtype'>int64</div><div class='xr-var-preview xr-preview'>5 1 1 1 1 1 1 1 ... 1 1 1 1 1 1 1 1</div><input id='attrs-df06e73c-387b-41e5-ac61-c5fa4a356a70' class='xr-var-attrs-in' type='checkbox' ><label for='attrs-df06e73c-387b-41e5-ac61-c5fa4a356a70' title='Show/Hide attributes'><svg class='icon xr-icon-file-text2'><use xlink:href='#icon-file-text2'></use></svg></label><input id='data-5cc12b1b-a786-4da4-ba5e-c93ed741cdbe' class='xr-var-data-in' type='checkbox'><label for='data-5cc12b1b-a786-4da4-ba5e-c93ed741cdbe' title='Show/Hide data repr'><svg class='icon xr-icon-database'><use xlink:href='#icon-database'></use></svg></label><div class='xr-var-attrs'><dl class='xr-attrs'><dt><span>long_name :</span></dt><dd>Global quality flag of CHLA_ADJUSTED_QC profile</dd><dt><span>conventions :</span></dt><dd>Argo reference table 2a</dd><dt><span>casted :</span></dt><dd>1</dd></dl></div><div class='xr-var-data'><pre>array([5, 1, 1, 1, 1, 1, 1, 1, 1, 1, 1, 1, 1, 1, 1, 1, 1, 1, 1, 1, 1, 1,\n",
       "       1, 1, 1, 1, 1, 1, 1, 1, 1, 1, 1, 1, 1, 1, 1, 1, 1, 1, 1, 1, 1, 1,\n",
       "       1, 1, 1, 1, 1, 1, 1, 1, 1, 1, 1, 1, 1, 1, 1, 1, 1, 1, 1, 1, 1, 1,\n",
       "       1, 1, 1, 1, 1, 1, 1, 1, 1, 1, 1, 1, 1, 1, 1, 1, 1, 1, 1, 1, 1, 1,\n",
       "       1, 1, 1, 1, 1, 1, 1, 1, 1, 1, 1, 1, 1, 1, 1, 1, 1, 1, 1, 1, 1, 1,\n",
       "       1, 1, 1, 1, 1, 1, 1, 1, 1, 1, 1, 1, 1, 1, 1, 1, 1, 1, 1, 1, 1, 1,\n",
       "       1, 1, 1, 1, 1, 1, 1])</pre></div></li><li class='xr-var-item'><div class='xr-var-name'><span>CHLA_DATA_MODE</span></div><div class='xr-var-dims'>(N_POINTS)</div><div class='xr-var-dtype'>&lt;U1</div><div class='xr-var-preview xr-preview'>&#x27;A&#x27; &#x27;A&#x27; &#x27;A&#x27; &#x27;A&#x27; ... &#x27;A&#x27; &#x27;A&#x27; &#x27;A&#x27; &#x27;A&#x27;</div><input id='attrs-42895945-e1d8-4d38-a375-487b3b36edcf' class='xr-var-attrs-in' type='checkbox' ><label for='attrs-42895945-e1d8-4d38-a375-487b3b36edcf' title='Show/Hide attributes'><svg class='icon xr-icon-file-text2'><use xlink:href='#icon-file-text2'></use></svg></label><input id='data-6c5a3f2b-2a22-40cb-b8b4-ae1b8ba893d2' class='xr-var-data-in' type='checkbox'><label for='data-6c5a3f2b-2a22-40cb-b8b4-ae1b8ba893d2' title='Show/Hide data repr'><svg class='icon xr-icon-database'><use xlink:href='#icon-database'></use></svg></label><div class='xr-var-attrs'><dl class='xr-attrs'><dt><span>long_name :</span></dt><dd>Delayed mode or real time data</dd><dt><span>conventions :</span></dt><dd>R : real time; D : delayed mode; A : real time with adjustment</dd><dt><span>casted :</span></dt><dd>1</dd></dl></div><div class='xr-var-data'><pre>array([&#x27;A&#x27;, &#x27;A&#x27;, &#x27;A&#x27;, &#x27;A&#x27;, &#x27;A&#x27;, &#x27;A&#x27;, &#x27;A&#x27;, &#x27;A&#x27;, &#x27;A&#x27;, &#x27;A&#x27;, &#x27;A&#x27;, &#x27;A&#x27;, &#x27;A&#x27;,\n",
       "       &#x27;A&#x27;, &#x27;A&#x27;, &#x27;A&#x27;, &#x27;A&#x27;, &#x27;A&#x27;, &#x27;A&#x27;, &#x27;A&#x27;, &#x27;A&#x27;, &#x27;A&#x27;, &#x27;A&#x27;, &#x27;A&#x27;, &#x27;A&#x27;, &#x27;A&#x27;,\n",
       "       &#x27;A&#x27;, &#x27;A&#x27;, &#x27;A&#x27;, &#x27;A&#x27;, &#x27;A&#x27;, &#x27;A&#x27;, &#x27;A&#x27;, &#x27;A&#x27;, &#x27;A&#x27;, &#x27;A&#x27;, &#x27;A&#x27;, &#x27;A&#x27;, &#x27;A&#x27;,\n",
       "       &#x27;A&#x27;, &#x27;A&#x27;, &#x27;A&#x27;, &#x27;A&#x27;, &#x27;A&#x27;, &#x27;A&#x27;, &#x27;A&#x27;, &#x27;A&#x27;, &#x27;A&#x27;, &#x27;A&#x27;, &#x27;A&#x27;, &#x27;A&#x27;, &#x27;A&#x27;,\n",
       "       &#x27;A&#x27;, &#x27;A&#x27;, &#x27;A&#x27;, &#x27;A&#x27;, &#x27;A&#x27;, &#x27;A&#x27;, &#x27;A&#x27;, &#x27;A&#x27;, &#x27;A&#x27;, &#x27;A&#x27;, &#x27;A&#x27;, &#x27;A&#x27;, &#x27;A&#x27;,\n",
       "       &#x27;A&#x27;, &#x27;A&#x27;, &#x27;A&#x27;, &#x27;A&#x27;, &#x27;A&#x27;, &#x27;A&#x27;, &#x27;A&#x27;, &#x27;A&#x27;, &#x27;A&#x27;, &#x27;A&#x27;, &#x27;A&#x27;, &#x27;A&#x27;, &#x27;A&#x27;,\n",
       "       &#x27;A&#x27;, &#x27;A&#x27;, &#x27;A&#x27;, &#x27;A&#x27;, &#x27;A&#x27;, &#x27;A&#x27;, &#x27;A&#x27;, &#x27;A&#x27;, &#x27;A&#x27;, &#x27;A&#x27;, &#x27;A&#x27;, &#x27;A&#x27;, &#x27;A&#x27;,\n",
       "       &#x27;A&#x27;, &#x27;A&#x27;, &#x27;A&#x27;, &#x27;A&#x27;, &#x27;A&#x27;, &#x27;A&#x27;, &#x27;A&#x27;, &#x27;A&#x27;, &#x27;A&#x27;, &#x27;A&#x27;, &#x27;A&#x27;, &#x27;A&#x27;, &#x27;A&#x27;,\n",
       "       &#x27;A&#x27;, &#x27;A&#x27;, &#x27;A&#x27;, &#x27;A&#x27;, &#x27;A&#x27;, &#x27;A&#x27;, &#x27;A&#x27;, &#x27;A&#x27;, &#x27;A&#x27;, &#x27;A&#x27;, &#x27;A&#x27;, &#x27;A&#x27;, &#x27;A&#x27;,\n",
       "       &#x27;A&#x27;, &#x27;A&#x27;, &#x27;A&#x27;, &#x27;A&#x27;, &#x27;A&#x27;, &#x27;A&#x27;, &#x27;A&#x27;, &#x27;A&#x27;, &#x27;A&#x27;, &#x27;A&#x27;, &#x27;A&#x27;, &#x27;A&#x27;, &#x27;A&#x27;,\n",
       "       &#x27;A&#x27;, &#x27;A&#x27;, &#x27;A&#x27;, &#x27;A&#x27;, &#x27;A&#x27;, &#x27;A&#x27;, &#x27;A&#x27;, &#x27;A&#x27;, &#x27;A&#x27;], dtype=&#x27;&lt;U1&#x27;)</pre></div></li><li class='xr-var-item'><div class='xr-var-name'><span>CHLA_QC</span></div><div class='xr-var-dims'>(N_POINTS)</div><div class='xr-var-dtype'>int64</div><div class='xr-var-preview xr-preview'>3 3 3 3 3 3 3 3 ... 3 3 3 3 3 3 3 3</div><input id='attrs-4828f313-a137-4347-a118-2f331c301220' class='xr-var-attrs-in' type='checkbox' ><label for='attrs-4828f313-a137-4347-a118-2f331c301220' title='Show/Hide attributes'><svg class='icon xr-icon-file-text2'><use xlink:href='#icon-file-text2'></use></svg></label><input id='data-800a5223-ea49-4304-837e-cea2a490968c' class='xr-var-data-in' type='checkbox'><label for='data-800a5223-ea49-4304-837e-cea2a490968c' title='Show/Hide data repr'><svg class='icon xr-icon-database'><use xlink:href='#icon-database'></use></svg></label><div class='xr-var-attrs'><dl class='xr-attrs'><dt><span>long_name :</span></dt><dd>Global quality flag of CHLA_QC profile</dd><dt><span>conventions :</span></dt><dd>Argo reference table 2a</dd><dt><span>casted :</span></dt><dd>1</dd></dl></div><div class='xr-var-data'><pre>array([3, 3, 3, 3, 3, 3, 3, 3, 3, 3, 3, 3, 3, 3, 3, 3, 3, 3, 3, 3, 3, 3,\n",
       "       3, 3, 3, 3, 3, 3, 3, 3, 3, 3, 3, 3, 3, 3, 3, 3, 3, 3, 3, 3, 3, 3,\n",
       "       3, 3, 3, 3, 3, 3, 3, 3, 3, 3, 3, 3, 3, 3, 3, 3, 3, 3, 3, 3, 3, 3,\n",
       "       3, 3, 3, 3, 3, 3, 3, 3, 3, 3, 3, 3, 3, 3, 3, 3, 3, 3, 3, 3, 3, 3,\n",
       "       3, 3, 3, 3, 3, 3, 3, 3, 3, 3, 3, 3, 3, 3, 3, 3, 3, 3, 3, 3, 3, 3,\n",
       "       3, 3, 3, 3, 3, 3, 3, 3, 3, 3, 3, 3, 3, 3, 3, 3, 3, 3, 3, 3, 3, 3,\n",
       "       3, 3, 3, 3, 3, 3, 3])</pre></div></li><li class='xr-var-item'><div class='xr-var-name'><span>CONFIG_MISSION_NUMBER</span></div><div class='xr-var-dims'>(N_POINTS)</div><div class='xr-var-dtype'>int64</div><div class='xr-var-preview xr-preview'>51 51 51 51 51 ... 52 52 52 52 52</div><input id='attrs-ac6e5d9b-6cfe-42a0-9423-f695a675b8c4' class='xr-var-attrs-in' type='checkbox' ><label for='attrs-ac6e5d9b-6cfe-42a0-9423-f695a675b8c4' title='Show/Hide attributes'><svg class='icon xr-icon-file-text2'><use xlink:href='#icon-file-text2'></use></svg></label><input id='data-80ddf091-a813-4391-96b9-39683b88694b' class='xr-var-data-in' type='checkbox'><label for='data-80ddf091-a813-4391-96b9-39683b88694b' title='Show/Hide data repr'><svg class='icon xr-icon-database'><use xlink:href='#icon-database'></use></svg></label><div class='xr-var-attrs'><dl class='xr-attrs'><dt><span>_ChunkSizes :</span></dt><dd>37</dd><dt><span>actual_range :</span></dt><dd>[51 56]</dd><dt><span>colorBarMaximum :</span></dt><dd>100.0</dd><dt><span>colorBarMinimum :</span></dt><dd>0.0</dd><dt><span>conventions :</span></dt><dd>1...N, 1 : first complete mission</dd><dt><span>ioos_category :</span></dt><dd>Statistics</dd><dt><span>long_name :</span></dt><dd>Unique number denoting the missions performed by the float</dd><dt><span>casted :</span></dt><dd>1</dd></dl></div><div class='xr-var-data'><pre>array([51, 51, 51, 51, 51, 51, 51, 51, 51, 51, 51, 51, 51, 51, 51, 51, 51,\n",
       "       51, 51, 51, 51, 51, 51, 51, 51, 51, 51, 51, 51, 51, 51, 51, 51, 51,\n",
       "       51, 51, 51, 51, 51, 51, 51, 51, 51, 51, 51, 51, 51, 51, 51, 51, 51,\n",
       "       51, 51, 51, 51, 51, 51, 51, 51, 51, 51, 51, 51, 51, 51, 51, 51, 51,\n",
       "       51, 51, 52, 52, 52, 52, 52, 52, 52, 52, 52, 52, 52, 52, 52, 52, 52,\n",
       "       52, 52, 52, 52, 52, 52, 52, 52, 52, 52, 52, 52, 52, 52, 52, 52, 52,\n",
       "       52, 52, 52, 52, 52, 52, 52, 52, 52, 52, 52, 52, 52, 52, 52, 52, 52,\n",
       "       52, 52, 52, 52, 52, 52, 52, 52, 52, 52, 52, 52, 52, 52, 52, 52, 52,\n",
       "       52, 52, 52])</pre></div></li><li class='xr-var-item'><div class='xr-var-name'><span>CYCLE_NUMBER</span></div><div class='xr-var-dims'>(N_POINTS)</div><div class='xr-var-dtype'>int64</div><div class='xr-var-preview xr-preview'>51 51 51 51 51 ... 52 52 52 52 52</div><input id='attrs-b0d44db0-113b-4a06-9f07-6ba9d6c5534c' class='xr-var-attrs-in' type='checkbox' ><label for='attrs-b0d44db0-113b-4a06-9f07-6ba9d6c5534c' title='Show/Hide attributes'><svg class='icon xr-icon-file-text2'><use xlink:href='#icon-file-text2'></use></svg></label><input id='data-84e975cb-dd48-42e8-83a8-1b4c7c56d98c' class='xr-var-data-in' type='checkbox'><label for='data-84e975cb-dd48-42e8-83a8-1b4c7c56d98c' title='Show/Hide data repr'><svg class='icon xr-icon-database'><use xlink:href='#icon-database'></use></svg></label><div class='xr-var-attrs'><dl class='xr-attrs'><dt><span>long_name :</span></dt><dd>Float cycle number</dd><dt><span>conventions :</span></dt><dd>0..N, 0 : launch cycle (if exists), 1 : first complete cycle</dd><dt><span>casted :</span></dt><dd>1</dd></dl></div><div class='xr-var-data'><pre>array([51, 51, 51, 51, 51, 51, 51, 51, 51, 51, 51, 51, 51, 51, 51, 51, 51,\n",
       "       51, 51, 51, 51, 51, 51, 51, 51, 51, 51, 51, 51, 51, 51, 51, 51, 51,\n",
       "       51, 51, 51, 51, 51, 51, 51, 51, 51, 51, 51, 51, 51, 51, 51, 51, 51,\n",
       "       51, 51, 51, 51, 51, 51, 51, 51, 51, 51, 51, 51, 51, 51, 51, 51, 51,\n",
       "       51, 51, 52, 52, 52, 52, 52, 52, 52, 52, 52, 52, 52, 52, 52, 52, 52,\n",
       "       52, 52, 52, 52, 52, 52, 52, 52, 52, 52, 52, 52, 52, 52, 52, 52, 52,\n",
       "       52, 52, 52, 52, 52, 52, 52, 52, 52, 52, 52, 52, 52, 52, 52, 52, 52,\n",
       "       52, 52, 52, 52, 52, 52, 52, 52, 52, 52, 52, 52, 52, 52, 52, 52, 52,\n",
       "       52, 52, 52])</pre></div></li><li class='xr-var-item'><div class='xr-var-name'><span>DIRECTION</span></div><div class='xr-var-dims'>(N_POINTS)</div><div class='xr-var-dtype'>int64</div><div class='xr-var-preview xr-preview'>1 1 1 1 1 1 1 1 ... 1 1 1 1 1 1 1 1</div><input id='attrs-40f107f3-1515-4cd8-9b64-83c0a8d6d7ec' class='xr-var-attrs-in' type='checkbox' disabled><label for='attrs-40f107f3-1515-4cd8-9b64-83c0a8d6d7ec' title='Show/Hide attributes'><svg class='icon xr-icon-file-text2'><use xlink:href='#icon-file-text2'></use></svg></label><input id='data-ada9bfe7-668d-4405-a503-d8795df90f72' class='xr-var-data-in' type='checkbox'><label for='data-ada9bfe7-668d-4405-a503-d8795df90f72' title='Show/Hide data repr'><svg class='icon xr-icon-database'><use xlink:href='#icon-database'></use></svg></label><div class='xr-var-attrs'><dl class='xr-attrs'></dl></div><div class='xr-var-data'><pre>array([1, 1, 1, 1, 1, 1, 1, 1, 1, 1, 1, 1, 1, 1, 1, 1, 1, 1, 1, 1, 1, 1,\n",
       "       1, 1, 1, 1, 1, 1, 1, 1, 1, 1, 1, 1, 1, 1, 1, 1, 1, 1, 1, 1, 1, 1,\n",
       "       1, 1, 1, 1, 1, 1, 1, 1, 1, 1, 1, 1, 1, 1, 1, 1, 1, 1, 1, 1, 1, 1,\n",
       "       1, 1, 1, 1, 1, 1, 1, 1, 1, 1, 1, 1, 1, 1, 1, 1, 1, 1, 1, 1, 1, 1,\n",
       "       1, 1, 1, 1, 1, 1, 1, 1, 1, 1, 1, 1, 1, 1, 1, 1, 1, 1, 1, 1, 1, 1,\n",
       "       1, 1, 1, 1, 1, 1, 1, 1, 1, 1, 1, 1, 1, 1, 1, 1, 1, 1, 1, 1, 1, 1,\n",
       "       1, 1, 1, 1, 1, 1, 1])</pre></div></li><li class='xr-var-item'><div class='xr-var-name'><span>DOXY</span></div><div class='xr-var-dims'>(N_POINTS)</div><div class='xr-var-dtype'>float32</div><div class='xr-var-preview xr-preview'>190.6 191.0 191.6 ... 58.47 65.31</div><input id='attrs-607ce68c-5fce-4318-b914-09b2fc8e3574' class='xr-var-attrs-in' type='checkbox' ><label for='attrs-607ce68c-5fce-4318-b914-09b2fc8e3574' title='Show/Hide attributes'><svg class='icon xr-icon-file-text2'><use xlink:href='#icon-file-text2'></use></svg></label><input id='data-1cfbbb8a-b734-454f-98df-31f4d3714577' class='xr-var-data-in' type='checkbox'><label for='data-1cfbbb8a-b734-454f-98df-31f4d3714577' title='Show/Hide data repr'><svg class='icon xr-icon-database'><use xlink:href='#icon-database'></use></svg></label><div class='xr-var-attrs'><dl class='xr-attrs'><dt><span>long_name :</span></dt><dd>Dissolved oxygen</dd><dt><span>standard_name :</span></dt><dd>moles_of_oxygen_per_unit_mass_in_sea_water</dd><dt><span>units :</span></dt><dd>micromole/kg</dd><dt><span>valid_min :</span></dt><dd>-5.0</dd><dt><span>valid_max :</span></dt><dd>600.0</dd><dt><span>resolution :</span></dt><dd>0.001</dd><dt><span>casted :</span></dt><dd>1</dd></dl></div><div class='xr-var-data'><pre>array([1.90602142e+02, 1.90977005e+02, 1.91630905e+02, 1.92942093e+02,\n",
       "       1.93882645e+02, 1.95145096e+02, 1.93996704e+02, 1.91935257e+02,\n",
       "       1.82864670e+02, 1.75740753e+02, 1.18460991e+02, 8.46838989e+01,\n",
       "       6.09234123e+01, 4.25871086e+01, 2.97587605e+01, 2.11850185e+01,\n",
       "       7.93417120e+00, 3.65524292e+00, 6.36045933e-01, 5.25207341e-01,\n",
       "       3.89046371e-01, 3.86992276e-01, 3.96474838e-01, 3.93856049e-01,\n",
       "       3.82593483e-01, 3.77010047e-01, 3.78855497e-01, 3.64453793e-01,\n",
       "       3.60275835e-01, 3.39750737e-01, 3.58478606e-01, 3.52512628e-01,\n",
       "       3.46536994e-01, 3.51168334e-01, 3.35648954e-01, 3.29674006e-01,\n",
       "       3.23052585e-01, 2.97695488e-01, 3.17607403e-01, 3.15178126e-01,\n",
       "       3.11112046e-01, 3.10133368e-01, 3.04813147e-01, 3.11635852e-01,\n",
       "       2.91751742e-01, 2.78202087e-01, 2.61348516e-01, 2.62239844e-01,\n",
       "       2.23201796e-01, 1.81113794e-01, 1.53019428e-01, 1.18744500e-01,\n",
       "       8.83964226e-02, 7.75037259e-02, 7.70045146e-02, 2.78207600e-01,\n",
       "       9.65822220e-01, 2.29083347e+00, 3.69821048e+00, 5.86358833e+00,\n",
       "       1.04750805e+01, 1.56671104e+01, 2.42971230e+01, 3.24183769e+01,\n",
       "       3.92247734e+01, 4.50436134e+01, 5.28041153e+01, 5.95850067e+01,\n",
       "       6.62230148e+01, 7.29102173e+01, 1.85553345e+02, 1.86187500e+02,\n",
       "       1.91014603e+02, 1.97004578e+02, 1.98019608e+02, 1.93701416e+02,\n",
       "       1.92086014e+02, 1.66765060e+02, 1.55914719e+02, 1.39731339e+02,\n",
       "       1.26420105e+02, 8.84599838e+01, 5.65044136e+01, 4.88272820e+01,\n",
       "       2.15633545e+01, 1.02757330e+01, 9.47212029e+00, 8.99586201e+00,\n",
       "       2.12544012e+00, 7.57233858e-01, 3.89308631e-01, 4.08037186e-01,\n",
       "       3.86789769e-01, 3.90954465e-01, 3.84970427e-01, 3.91774118e-01,\n",
       "       3.75846922e-01, 3.69546771e-01, 3.66671264e-01, 3.54211986e-01,\n",
       "       3.44536275e-01, 3.31177145e-01, 3.40992242e-01, 3.24740469e-01,\n",
       "       3.33225250e-01, 3.32903415e-01, 3.23099524e-01, 3.30350488e-01,\n",
       "       3.22939336e-01, 3.16522211e-01, 3.15148473e-01, 3.05195481e-01,\n",
       "       3.01010847e-01, 3.01091939e-01, 2.70250142e-01, 2.71010101e-01,\n",
       "       2.60608792e-01, 2.59267986e-01, 2.47134984e-01, 1.92634195e-01,\n",
       "       1.66157231e-01, 1.35559395e-01, 1.13394827e-01, 7.57739916e-02,\n",
       "       1.00971259e-01, 2.30394349e-01, 1.05322063e+00, 2.49706912e+00,\n",
       "       4.77295971e+00, 6.28015375e+00, 1.14020729e+01, 1.86357479e+01,\n",
       "       2.44099064e+01, 3.10512600e+01, 3.79870720e+01, 4.34801483e+01,\n",
       "       5.07146149e+01, 5.84727783e+01, 6.53095779e+01], dtype=float32)</pre></div></li><li class='xr-var-item'><div class='xr-var-name'><span>DOXY_ADJUSTED</span></div><div class='xr-var-dims'>(N_POINTS)</div><div class='xr-var-dtype'>float32</div><div class='xr-var-preview xr-preview'>202.6 203.0 203.7 ... 62.16 69.43</div><input id='attrs-65ad5562-6513-42ec-9403-724f10869df9' class='xr-var-attrs-in' type='checkbox' ><label for='attrs-65ad5562-6513-42ec-9403-724f10869df9' title='Show/Hide attributes'><svg class='icon xr-icon-file-text2'><use xlink:href='#icon-file-text2'></use></svg></label><input id='data-b873a452-34b2-4161-83f1-8a68c9c32346' class='xr-var-data-in' type='checkbox'><label for='data-b873a452-34b2-4161-83f1-8a68c9c32346' title='Show/Hide data repr'><svg class='icon xr-icon-database'><use xlink:href='#icon-database'></use></svg></label><div class='xr-var-attrs'><dl class='xr-attrs'><dt><span>long_name :</span></dt><dd>Dissolved oxygen</dd><dt><span>standard_name :</span></dt><dd>moles_of_oxygen_per_unit_mass_in_sea_water</dd><dt><span>units :</span></dt><dd>micromole/kg</dd><dt><span>valid_min :</span></dt><dd>-5.0</dd><dt><span>valid_max :</span></dt><dd>600.0</dd><dt><span>resolution :</span></dt><dd>0.001</dd><dt><span>casted :</span></dt><dd>1</dd></dl></div><div class='xr-var-data'><pre>array([2.0262914e+02, 2.0302765e+02, 2.0372282e+02, 2.0511674e+02,\n",
       "       2.0611664e+02, 2.0745874e+02, 2.0623788e+02, 2.0404637e+02,\n",
       "       1.9440343e+02, 1.8682999e+02, 1.2593588e+02, 9.0027458e+01,\n",
       "       6.4767685e+01, 4.5274357e+01, 3.1636539e+01, 2.2521793e+01,\n",
       "       8.4348173e+00, 3.8858888e+00, 6.7618042e-01, 5.5834794e-01,\n",
       "       4.1359520e-01, 4.1141146e-01, 4.2149240e-01, 4.1870835e-01,\n",
       "       4.0673512e-01, 4.0079939e-01, 4.0276128e-01, 3.8745081e-01,\n",
       "       3.8300923e-01, 3.6118904e-01, 3.8109863e-01, 3.7475619e-01,\n",
       "       3.6840349e-01, 3.7332705e-01, 3.5682839e-01, 3.5047641e-01,\n",
       "       3.4343719e-01, 3.1648007e-01, 3.3764845e-01, 3.3506587e-01,\n",
       "       3.3074322e-01, 3.2970276e-01, 3.2404685e-01, 3.3130005e-01,\n",
       "       3.1016129e-01, 2.9575664e-01, 2.7783960e-01, 2.7878720e-01,\n",
       "       2.3728582e-01, 1.9254208e-01, 1.6267496e-01, 1.2623729e-01,\n",
       "       9.3974233e-02, 8.2394212e-02, 8.1863500e-02, 2.9576248e-01,\n",
       "       1.0267656e+00, 2.4353850e+00, 3.9315674e+00, 6.2335806e+00,\n",
       "       1.1136059e+01, 1.6655704e+01, 2.5830271e+01, 3.4463978e+01,\n",
       "       4.1699856e+01, 4.7885864e+01, 5.6136051e+01, 6.3344822e+01,\n",
       "       7.0401688e+01, 7.7510857e+01, 1.9726176e+02, 1.9793593e+02,\n",
       "       2.0306763e+02, 2.0943556e+02, 2.1051465e+02, 2.0592397e+02,\n",
       "       2.0420665e+02, 1.7728795e+02, 1.6575294e+02, 1.4854839e+02,\n",
       "       1.3439722e+02, 9.4041809e+01, 6.0069843e+01, 5.1908283e+01,\n",
       "       2.2924002e+01, 1.0924132e+01, 1.0069812e+01, 9.5635014e+00,\n",
       "       2.2595553e+00, 8.0501527e-01, 4.1387400e-01, 4.3378434e-01,\n",
       "       4.1119620e-01, 4.1562369e-01, 4.0926206e-01, 4.1649505e-01,\n",
       "       3.9956287e-01, 3.9286515e-01, 3.8980821e-01, 3.7656277e-01,\n",
       "       3.6627653e-01, 3.5207441e-01, 3.6250883e-01, 3.4523159e-01,\n",
       "       3.5425177e-01, 3.5390961e-01, 3.4348711e-01, 3.5119560e-01,\n",
       "       3.4331679e-01, 3.3649477e-01, 3.3503434e-01, 3.2445332e-01,\n",
       "       3.2000464e-01, 3.2009083e-01, 2.8730291e-01, 2.8811085e-01,\n",
       "       2.7705321e-01, 2.7562782e-01, 2.6272920e-01, 2.0478942e-01,\n",
       "       1.7664176e-01, 1.4411320e-01, 1.2055004e-01, 8.0555327e-02,\n",
       "       1.0734254e-01, 2.4493222e-01, 1.1196789e+00, 2.6546342e+00,\n",
       "       5.0741334e+00, 6.6764312e+00, 1.2121544e+01, 1.9811665e+01,\n",
       "       2.5950172e+01, 3.3010597e+01, 4.0384056e+01, 4.6223747e+01,\n",
       "       5.3914707e+01, 6.2162407e+01, 6.9430611e+01], dtype=float32)</pre></div></li><li class='xr-var-item'><div class='xr-var-name'><span>DOXY_ADJUSTED_ERROR</span></div><div class='xr-var-dims'>(N_POINTS)</div><div class='xr-var-dtype'>float32</div><div class='xr-var-preview xr-preview'>1.971 1.972 1.979 ... 3.096 3.109</div><input id='attrs-e4f561db-d837-40bd-84d3-44832908e6d3' class='xr-var-attrs-in' type='checkbox' ><label for='attrs-e4f561db-d837-40bd-84d3-44832908e6d3' title='Show/Hide attributes'><svg class='icon xr-icon-file-text2'><use xlink:href='#icon-file-text2'></use></svg></label><input id='data-55301aaf-a95d-475f-a822-dbbb04504a80' class='xr-var-data-in' type='checkbox'><label for='data-55301aaf-a95d-475f-a822-dbbb04504a80' title='Show/Hide data repr'><svg class='icon xr-icon-database'><use xlink:href='#icon-database'></use></svg></label><div class='xr-var-attrs'><dl class='xr-attrs'><dt><span>long_name :</span></dt><dd>ERROR IN Dissolved oxygen</dd><dt><span>standard_name :</span></dt><dd>moles_of_oxygen_per_unit_mass_in_sea_water</dd><dt><span>units :</span></dt><dd>micromole/kg</dd><dt><span>valid_min :</span></dt><dd>-5.0</dd><dt><span>valid_max :</span></dt><dd>600.0</dd><dt><span>resolution :</span></dt><dd>0.001</dd><dt><span>casted :</span></dt><dd>1</dd></dl></div><div class='xr-var-data'><pre>array([1.9709938, 1.9720687, 1.9788493, 1.9887023, 1.9958527, 2.0066483,\n",
       "       2.0245025, 2.1127896, 2.1565385, 2.1655684, 2.2402103, 2.2648387,\n",
       "       2.277623 , 2.3237386, 2.3502154, 2.3640885, 2.3851097, 2.3903723,\n",
       "       2.409084 , 2.412728 , 2.4371119, 2.4546595, 2.4616199, 2.4765718,\n",
       "       2.4809124, 2.4940434, 2.5023327, 2.5048966, 2.510925 , 2.5162733,\n",
       "       2.5266387, 2.530568 , 2.5359457, 2.5389323, 2.540469 , 2.5533297,\n",
       "       2.563593 , 2.575068 , 2.5829654, 2.5881865, 2.5943153, 2.6024454,\n",
       "       2.610524 , 2.6150107, 2.6224985, 2.6300347, 2.6385112, 2.6587508,\n",
       "       2.7031584, 2.7356765, 2.7616   , 2.787299 , 2.8157222, 2.8336291,\n",
       "       2.8604262, 2.8844883, 2.900195 , 2.9169393, 2.933398 , 2.946353 ,\n",
       "       2.9724638, 2.991941 , 3.0195076, 3.0407073, 3.056861 , 3.0684552,\n",
       "       3.0850835, 3.0987697, 3.1103475, 3.122512 , 1.9202496, 1.9220434,\n",
       "       1.954752 , 1.9742537, 1.9906973, 2.0223007, 2.0420156, 2.1206143,\n",
       "       2.141148 , 2.1913848, 2.2197669, 2.2439296, 2.285778 , 2.319754 ,\n",
       "       2.3537457, 2.378529 , 2.3831463, 2.3850229, 2.398721 , 2.403741 ,\n",
       "       2.4311764, 2.4460135, 2.4584422, 2.4698713, 2.4768393, 2.487641 ,\n",
       "       2.4926193, 2.5020788, 2.5114539, 2.5176916, 2.5223181, 2.5327046,\n",
       "       2.5383353, 2.5474112, 2.5524652, 2.5607066, 2.5631142, 2.571202 ,\n",
       "       2.573366 , 2.5786648, 2.5888326, 2.5971014, 2.6064708, 2.619654 ,\n",
       "       2.6290302, 2.6395786, 2.649005 , 2.6639037, 2.7038102, 2.7320285,\n",
       "       2.75894  , 2.784252 , 2.8128173, 2.8369095, 2.8579366, 2.8814523,\n",
       "       2.9013503, 2.9200323, 2.9410188, 2.9501264, 2.9764152, 3.0015163,\n",
       "       3.0193052, 3.0365322, 3.0531445, 3.065454 , 3.0810418, 3.0963302,\n",
       "       3.1092706], dtype=float32)</pre></div></li><li class='xr-var-item'><div class='xr-var-name'><span>DOXY_ADJUSTED_QC</span></div><div class='xr-var-dims'>(N_POINTS)</div><div class='xr-var-dtype'>int64</div><div class='xr-var-preview xr-preview'>1 1 1 1 1 1 1 1 ... 1 1 1 1 1 1 1 1</div><input id='attrs-c1e59bda-3a2e-4ff8-82d3-7ade4395711c' class='xr-var-attrs-in' type='checkbox' ><label for='attrs-c1e59bda-3a2e-4ff8-82d3-7ade4395711c' title='Show/Hide attributes'><svg class='icon xr-icon-file-text2'><use xlink:href='#icon-file-text2'></use></svg></label><input id='data-d0faf9ca-5097-43db-9061-0ef3d1cf0680' class='xr-var-data-in' type='checkbox'><label for='data-d0faf9ca-5097-43db-9061-0ef3d1cf0680' title='Show/Hide data repr'><svg class='icon xr-icon-database'><use xlink:href='#icon-database'></use></svg></label><div class='xr-var-attrs'><dl class='xr-attrs'><dt><span>long_name :</span></dt><dd>Global quality flag of DOXY_ADJUSTED_QC profile</dd><dt><span>conventions :</span></dt><dd>Argo reference table 2a</dd><dt><span>casted :</span></dt><dd>1</dd></dl></div><div class='xr-var-data'><pre>array([1, 1, 1, 1, 1, 1, 1, 1, 1, 1, 1, 1, 1, 1, 1, 1, 1, 1, 1, 1, 1, 1,\n",
       "       1, 1, 1, 1, 1, 1, 1, 1, 1, 1, 1, 1, 1, 1, 1, 1, 1, 1, 1, 1, 1, 1,\n",
       "       1, 1, 1, 1, 1, 1, 1, 1, 1, 1, 1, 1, 1, 1, 1, 1, 1, 1, 1, 1, 1, 1,\n",
       "       1, 1, 1, 1, 1, 1, 1, 1, 1, 1, 1, 1, 1, 1, 1, 1, 1, 1, 1, 1, 1, 1,\n",
       "       1, 1, 1, 1, 1, 1, 1, 1, 1, 1, 1, 1, 1, 1, 1, 1, 1, 1, 1, 1, 1, 1,\n",
       "       1, 1, 1, 1, 1, 1, 1, 1, 1, 1, 1, 1, 1, 1, 1, 1, 1, 1, 1, 1, 1, 1,\n",
       "       1, 1, 1, 1, 1, 1, 1])</pre></div></li><li class='xr-var-item'><div class='xr-var-name'><span>DOXY_DATA_MODE</span></div><div class='xr-var-dims'>(N_POINTS)</div><div class='xr-var-dtype'>&lt;U1</div><div class='xr-var-preview xr-preview'>&#x27;D&#x27; &#x27;D&#x27; &#x27;D&#x27; &#x27;D&#x27; ... &#x27;D&#x27; &#x27;D&#x27; &#x27;D&#x27; &#x27;D&#x27;</div><input id='attrs-a62012a2-6a81-403f-b03d-8ac31e823c4f' class='xr-var-attrs-in' type='checkbox' ><label for='attrs-a62012a2-6a81-403f-b03d-8ac31e823c4f' title='Show/Hide attributes'><svg class='icon xr-icon-file-text2'><use xlink:href='#icon-file-text2'></use></svg></label><input id='data-2fd0b853-f8f6-49f1-926f-05ae0e6a6774' class='xr-var-data-in' type='checkbox'><label for='data-2fd0b853-f8f6-49f1-926f-05ae0e6a6774' title='Show/Hide data repr'><svg class='icon xr-icon-database'><use xlink:href='#icon-database'></use></svg></label><div class='xr-var-attrs'><dl class='xr-attrs'><dt><span>long_name :</span></dt><dd>Delayed mode or real time data</dd><dt><span>conventions :</span></dt><dd>R : real time; D : delayed mode; A : real time with adjustment</dd><dt><span>casted :</span></dt><dd>1</dd></dl></div><div class='xr-var-data'><pre>array([&#x27;D&#x27;, &#x27;D&#x27;, &#x27;D&#x27;, &#x27;D&#x27;, &#x27;D&#x27;, &#x27;D&#x27;, &#x27;D&#x27;, &#x27;D&#x27;, &#x27;D&#x27;, &#x27;D&#x27;, &#x27;D&#x27;, &#x27;D&#x27;, &#x27;D&#x27;,\n",
       "       &#x27;D&#x27;, &#x27;D&#x27;, &#x27;D&#x27;, &#x27;D&#x27;, &#x27;D&#x27;, &#x27;D&#x27;, &#x27;D&#x27;, &#x27;D&#x27;, &#x27;D&#x27;, &#x27;D&#x27;, &#x27;D&#x27;, &#x27;D&#x27;, &#x27;D&#x27;,\n",
       "       &#x27;D&#x27;, &#x27;D&#x27;, &#x27;D&#x27;, &#x27;D&#x27;, &#x27;D&#x27;, &#x27;D&#x27;, &#x27;D&#x27;, &#x27;D&#x27;, &#x27;D&#x27;, &#x27;D&#x27;, &#x27;D&#x27;, &#x27;D&#x27;, &#x27;D&#x27;,\n",
       "       &#x27;D&#x27;, &#x27;D&#x27;, &#x27;D&#x27;, &#x27;D&#x27;, &#x27;D&#x27;, &#x27;D&#x27;, &#x27;D&#x27;, &#x27;D&#x27;, &#x27;D&#x27;, &#x27;D&#x27;, &#x27;D&#x27;, &#x27;D&#x27;, &#x27;D&#x27;,\n",
       "       &#x27;D&#x27;, &#x27;D&#x27;, &#x27;D&#x27;, &#x27;D&#x27;, &#x27;D&#x27;, &#x27;D&#x27;, &#x27;D&#x27;, &#x27;D&#x27;, &#x27;D&#x27;, &#x27;D&#x27;, &#x27;D&#x27;, &#x27;D&#x27;, &#x27;D&#x27;,\n",
       "       &#x27;D&#x27;, &#x27;D&#x27;, &#x27;D&#x27;, &#x27;D&#x27;, &#x27;D&#x27;, &#x27;D&#x27;, &#x27;D&#x27;, &#x27;D&#x27;, &#x27;D&#x27;, &#x27;D&#x27;, &#x27;D&#x27;, &#x27;D&#x27;, &#x27;D&#x27;,\n",
       "       &#x27;D&#x27;, &#x27;D&#x27;, &#x27;D&#x27;, &#x27;D&#x27;, &#x27;D&#x27;, &#x27;D&#x27;, &#x27;D&#x27;, &#x27;D&#x27;, &#x27;D&#x27;, &#x27;D&#x27;, &#x27;D&#x27;, &#x27;D&#x27;, &#x27;D&#x27;,\n",
       "       &#x27;D&#x27;, &#x27;D&#x27;, &#x27;D&#x27;, &#x27;D&#x27;, &#x27;D&#x27;, &#x27;D&#x27;, &#x27;D&#x27;, &#x27;D&#x27;, &#x27;D&#x27;, &#x27;D&#x27;, &#x27;D&#x27;, &#x27;D&#x27;, &#x27;D&#x27;,\n",
       "       &#x27;D&#x27;, &#x27;D&#x27;, &#x27;D&#x27;, &#x27;D&#x27;, &#x27;D&#x27;, &#x27;D&#x27;, &#x27;D&#x27;, &#x27;D&#x27;, &#x27;D&#x27;, &#x27;D&#x27;, &#x27;D&#x27;, &#x27;D&#x27;, &#x27;D&#x27;,\n",
       "       &#x27;D&#x27;, &#x27;D&#x27;, &#x27;D&#x27;, &#x27;D&#x27;, &#x27;D&#x27;, &#x27;D&#x27;, &#x27;D&#x27;, &#x27;D&#x27;, &#x27;D&#x27;, &#x27;D&#x27;, &#x27;D&#x27;, &#x27;D&#x27;, &#x27;D&#x27;,\n",
       "       &#x27;D&#x27;, &#x27;D&#x27;, &#x27;D&#x27;, &#x27;D&#x27;, &#x27;D&#x27;, &#x27;D&#x27;, &#x27;D&#x27;, &#x27;D&#x27;, &#x27;D&#x27;], dtype=&#x27;&lt;U1&#x27;)</pre></div></li><li class='xr-var-item'><div class='xr-var-name'><span>DOXY_QC</span></div><div class='xr-var-dims'>(N_POINTS)</div><div class='xr-var-dtype'>int64</div><div class='xr-var-preview xr-preview'>3 3 3 3 3 3 3 3 ... 3 3 3 3 3 3 3 3</div><input id='attrs-5f47e038-5f84-4158-b8c4-4155c31882b6' class='xr-var-attrs-in' type='checkbox' ><label for='attrs-5f47e038-5f84-4158-b8c4-4155c31882b6' title='Show/Hide attributes'><svg class='icon xr-icon-file-text2'><use xlink:href='#icon-file-text2'></use></svg></label><input id='data-8908db92-fc47-460c-bdcc-e37c47f464fa' class='xr-var-data-in' type='checkbox'><label for='data-8908db92-fc47-460c-bdcc-e37c47f464fa' title='Show/Hide data repr'><svg class='icon xr-icon-database'><use xlink:href='#icon-database'></use></svg></label><div class='xr-var-attrs'><dl class='xr-attrs'><dt><span>long_name :</span></dt><dd>Global quality flag of DOXY_QC profile</dd><dt><span>conventions :</span></dt><dd>Argo reference table 2a</dd><dt><span>casted :</span></dt><dd>1</dd></dl></div><div class='xr-var-data'><pre>array([3, 3, 3, 3, 3, 3, 3, 3, 3, 3, 3, 3, 3, 3, 3, 3, 3, 3, 3, 3, 3, 3,\n",
       "       3, 3, 3, 3, 3, 3, 3, 3, 3, 3, 3, 3, 3, 3, 3, 3, 3, 3, 3, 3, 3, 3,\n",
       "       3, 3, 3, 3, 3, 3, 3, 3, 3, 3, 3, 3, 3, 3, 3, 3, 3, 3, 3, 3, 3, 3,\n",
       "       3, 3, 3, 3, 3, 3, 3, 3, 3, 3, 3, 3, 3, 3, 3, 3, 3, 3, 3, 3, 3, 3,\n",
       "       3, 3, 3, 3, 3, 3, 3, 3, 3, 3, 3, 3, 3, 3, 3, 3, 3, 3, 3, 3, 3, 3,\n",
       "       3, 3, 3, 3, 3, 3, 3, 3, 3, 3, 3, 3, 3, 3, 3, 3, 3, 3, 3, 3, 3, 3,\n",
       "       3, 3, 3, 3, 3, 3, 3])</pre></div></li><li class='xr-var-item'><div class='xr-var-name'><span>NITRATE</span></div><div class='xr-var-dims'>(N_POINTS)</div><div class='xr-var-dtype'>float32</div><div class='xr-var-preview xr-preview'>1.736 1.759 1.69 ... 42.0 41.59</div><input id='attrs-3144ba4c-a419-43dd-98a7-f17fe0fffc84' class='xr-var-attrs-in' type='checkbox' ><label for='attrs-3144ba4c-a419-43dd-98a7-f17fe0fffc84' title='Show/Hide attributes'><svg class='icon xr-icon-file-text2'><use xlink:href='#icon-file-text2'></use></svg></label><input id='data-f83d0e93-616f-4338-b202-fa334a797549' class='xr-var-data-in' type='checkbox'><label for='data-f83d0e93-616f-4338-b202-fa334a797549' title='Show/Hide data repr'><svg class='icon xr-icon-database'><use xlink:href='#icon-database'></use></svg></label><div class='xr-var-attrs'><dl class='xr-attrs'><dt><span>actual_range :</span></dt><dd>[ 1.216593 45.33278 ]</dd><dt><span>cf_standard_name :</span></dt><dd>moles_of_nitrate_per_unit_mass_in_sea_water</dd><dt><span>long_name :</span></dt><dd>Nitrate</dd><dt><span>sdn_parameter_urn :</span></dt><dd>SDN:P01::MDMAP005</dd><dt><span>units :</span></dt><dd>micromole/kg</dd><dt><span>valid_max :</span></dt><dd>nan</dd><dt><span>valid_min :</span></dt><dd>nan</dd><dt><span>casted :</span></dt><dd>1</dd></dl></div><div class='xr-var-data'><pre>array([ 1.7356137,  1.7589332,  1.690256 ,  1.7762429,  1.7957911,\n",
       "        1.7977225,  1.9593016,  2.0017915,  2.389521 ,  3.2761233,\n",
       "       10.619075 , 14.310432 , 17.906672 , 20.17296  , 21.730543 ,\n",
       "       22.684141 , 23.800495 , 24.119858 , 23.903605 , 23.591246 ,\n",
       "       22.713436 , 22.36175  , 22.197166 , 22.147526 , 21.960695 ,\n",
       "       22.169964 , 22.395123 , 22.176643 , 22.089848 , 21.879969 ,\n",
       "       21.49977  , 21.413298 , 21.234686 , 20.94753  , 20.989658 ,\n",
       "       20.755829 , 20.892067 , 21.194935 , 21.30547  , 21.94885  ,\n",
       "       22.408918 , 22.82109  , 23.200497 , 23.767366 , 24.138018 ,\n",
       "       24.52209  , 24.880487 , 25.935562 , 28.383398 , 30.401285 ,\n",
       "       32.107365 , 34.15998  , 36.243675 , 37.821503 , 40.365116 ,\n",
       "       42.65951  , 43.52032  , 44.367466 , 44.747166 , 44.961227 ,\n",
       "       45.332783 , 45.104187 , 44.5908   , 44.0821   , 43.69792  ,\n",
       "       43.2095   , 42.544098 , 42.102386 , 41.577675 , 40.989525 ,\n",
       "        1.2165933,  1.4464566,  1.6339301,  1.7304567,  1.733432 ,\n",
       "        1.7141494,  1.8953676,  2.3849525,  5.1733413,  8.4154625,\n",
       "        8.982304 , 13.379    , 17.157694 , 20.041382 , 22.570286 ,\n",
       "       23.829855 , 23.897148 , 23.883654 , 24.111515 , 23.902185 ,\n",
       "       22.59767  , 21.513401 , 21.043816 , 21.068905 , 21.791868 ,\n",
       "       21.411127 , 21.69493  , 22.030952 , 21.610233 , 21.583792 ,\n",
       "       21.408537 , 21.16894  , 21.122591 , 20.948061 , 20.68179  ,\n",
       "       20.956455 , 20.81591  , 21.068089 , 21.230284 , 21.464975 ,\n",
       "       22.034985 , 22.508095 , 23.126657 , 23.86536  , 24.448788 ,\n",
       "       25.217115 , 25.926409 , 26.435738 , 28.759493 , 29.98908  ,\n",
       "       31.773132 , 33.95437  , 36.022686 , 38.00583  , 40.124065 ,\n",
       "       42.497448 , 43.64564  , 44.392246 , 44.792362 , 45.084396 ,\n",
       "       45.19078  , 44.968124 , 44.633625 , 44.147068 , 43.788586 ,\n",
       "       43.283916 , 42.71445  , 41.997765 , 41.594124 ], dtype=float32)</pre></div></li><li class='xr-var-item'><div class='xr-var-name'><span>NITRATE_ADJUSTED</span></div><div class='xr-var-dims'>(N_POINTS)</div><div class='xr-var-dtype'>float32</div><div class='xr-var-preview xr-preview'>1.697 1.72 1.652 ... 41.95 41.55</div><input id='attrs-d5d799f7-814a-4c9a-9812-4309874f3aa6' class='xr-var-attrs-in' type='checkbox' ><label for='attrs-d5d799f7-814a-4c9a-9812-4309874f3aa6' title='Show/Hide attributes'><svg class='icon xr-icon-file-text2'><use xlink:href='#icon-file-text2'></use></svg></label><input id='data-405323d1-7d37-4455-b9f3-95c176f4ec93' class='xr-var-data-in' type='checkbox'><label for='data-405323d1-7d37-4455-b9f3-95c176f4ec93' title='Show/Hide data repr'><svg class='icon xr-icon-database'><use xlink:href='#icon-database'></use></svg></label><div class='xr-var-attrs'><dl class='xr-attrs'><dt><span>actual_range :</span></dt><dd>[1.17139e+00 9.99990e+04]</dd><dt><span>casted :</span></dt><dd>1</dd></dl></div><div class='xr-var-data'><pre>array([ 1.6969393,  1.7202587,  1.6515816,  1.7375685,  1.7571167,\n",
       "        1.7590481,  1.9206272,  1.9631171,  2.3508465,  3.237449 ,\n",
       "       10.5804   , 14.271758 , 17.867998 , 20.134285 , 21.691868 ,\n",
       "       22.645468 , 23.761822 , 24.081184 , 23.86493  , 23.55257  ,\n",
       "       22.67476  , 22.323076 , 22.158491 , 22.108852 , 21.922022 ,\n",
       "       22.13129  , 22.35645  , 22.13797  , 22.051172 , 21.841293 ,\n",
       "       21.461094 , 21.374622 , 21.196012 , 20.908855 , 20.950983 ,\n",
       "       20.717154 , 20.853392 , 21.156261 , 21.266794 , 21.910177 ,\n",
       "       22.370243 , 22.782415 , 23.161821 , 23.728691 , 24.099344 ,\n",
       "       24.483418 , 24.841814 , 25.896889 , 28.344725 , 30.362612 ,\n",
       "       32.068687 , 34.121307 , 36.205    , 37.782825 , 40.32644  ,\n",
       "       42.62084  , 43.481647 , 44.328793 , 44.70849  , 44.92255  ,\n",
       "       45.29411  , 45.065514 , 44.552128 , 44.043423 , 43.65925  ,\n",
       "       43.170826 , 42.505424 , 42.063713 , 41.539    , 40.95085  ,\n",
       "        1.1713896,  1.401253 ,  1.5887265,  1.6852531,  1.6882285,\n",
       "        1.6689458,  1.850164 ,  2.3397489,  5.1281376,  8.370258 ,\n",
       "        8.937099 , 13.333796 , 17.112492 , 19.996178 , 22.525082 ,\n",
       "       23.78465  , 23.851944 , 23.83845  , 24.066313 , 23.856981 ,\n",
       "       22.552465 , 21.468197 , 20.998611 , 21.0237   , 21.746664 ,\n",
       "       21.365923 , 21.649727 , 21.985748 , 21.565031 , 21.53859  ,\n",
       "       21.363333 , 21.123735 , 21.077387 , 20.902857 , 20.636585 ,\n",
       "       20.911251 , 20.770706 , 21.022884 , 21.185081 , 21.419771 ,\n",
       "       21.989782 , 22.46289  , 23.081453 , 23.820158 , 24.403584 ,\n",
       "       25.171911 , 25.881205 , 26.390533 , 28.714289 , 29.943876 ,\n",
       "       31.727928 , 33.909164 , 35.97748  , 37.960625 , 40.07886  ,\n",
       "       42.452244 , 43.600437 , 44.347042 , 44.747158 , 45.039192 ,\n",
       "       45.145576 , 44.92292  , 44.588425 , 44.101864 , 43.74338  ,\n",
       "       43.238712 , 42.669247 , 41.952564 , 41.54892  ], dtype=float32)</pre></div></li><li class='xr-var-item'><div class='xr-var-name'><span>NITRATE_ADJUSTED_ERROR</span></div><div class='xr-var-dims'>(N_POINTS)</div><div class='xr-var-dtype'>float32</div><div class='xr-var-preview xr-preview'>1.197 1.197 1.198 ... 1.31 1.311</div><input id='attrs-46a165f2-be4b-4b1c-8a28-c82f40b431de' class='xr-var-attrs-in' type='checkbox' ><label for='attrs-46a165f2-be4b-4b1c-8a28-c82f40b431de' title='Show/Hide attributes'><svg class='icon xr-icon-file-text2'><use xlink:href='#icon-file-text2'></use></svg></label><input id='data-15af5792-4ccf-4cde-a2bf-840ed432918b' class='xr-var-data-in' type='checkbox'><label for='data-15af5792-4ccf-4cde-a2bf-840ed432918b' title='Show/Hide data repr'><svg class='icon xr-icon-database'><use xlink:href='#icon-database'></use></svg></label><div class='xr-var-attrs'><dl class='xr-attrs'><dt><span>actual_range :</span></dt><dd>[1.192025e+00 9.999900e+04]</dd><dt><span>casted :</span></dt><dd>1</dd></dl></div><div class='xr-var-data'><pre>array([1.1970993, 1.1972069, 1.1978849, 1.1988702, 1.1995853, 1.2006649,\n",
       "       1.2024503, 1.2112789, 1.2156539, 1.2165568, 1.2240211, 1.2264838,\n",
       "       1.2277623, 1.2323738, 1.2350216, 1.2364088, 1.238511 , 1.2390373,\n",
       "       1.2409084, 1.2412728, 1.2437112, 1.245466 , 1.2461619, 1.2476572,\n",
       "       1.2480912, 1.2494043, 1.2502333, 1.2504897, 1.2510926, 1.2516273,\n",
       "       1.2526639, 1.2530568, 1.2535945, 1.2538933, 1.2540469, 1.255333 ,\n",
       "       1.2563593, 1.2575068, 1.2582965, 1.2588186, 1.2594315, 1.2602445,\n",
       "       1.2610524, 1.2615011, 1.2622498, 1.2630035, 1.2638512, 1.2658751,\n",
       "       1.2703159, 1.2735677, 1.27616  , 1.2787299, 1.2815722, 1.2833629,\n",
       "       1.2860426, 1.2884488, 1.2900195, 1.2916939, 1.2933398, 1.2946353,\n",
       "       1.2972463, 1.2991941, 1.3019508, 1.3040707, 1.3056861, 1.3068455,\n",
       "       1.3085084, 1.3098769, 1.3110348, 1.3122512, 1.192025 , 1.1922044,\n",
       "       1.1954752, 1.1974254, 1.1990697, 1.2022301, 1.2042016, 1.2120614,\n",
       "       1.2141148, 1.2191385, 1.2219766, 1.224393 , 1.2285779, 1.2319754,\n",
       "       1.2353746, 1.2378529, 1.2383146, 1.2385023, 1.2398721, 1.2403741,\n",
       "       1.2431177, 1.2446014, 1.2458442, 1.2469871, 1.2476839, 1.2487642,\n",
       "       1.249262 , 1.2502079, 1.2511454, 1.2517692, 1.2522318, 1.2532705,\n",
       "       1.2538335, 1.2547411, 1.2552465, 1.2560706, 1.2563114, 1.2571203,\n",
       "       1.2573366, 1.2578665, 1.2588832, 1.2597102, 1.260647 , 1.2619654,\n",
       "       1.262903 , 1.2639579, 1.2649004, 1.2663903, 1.270381 , 1.2732029,\n",
       "       1.275894 , 1.2784252, 1.2812817, 1.2836909, 1.2857937, 1.2881452,\n",
       "       1.290135 , 1.2920033, 1.2941018, 1.2950126, 1.2976415, 1.3001516,\n",
       "       1.3019305, 1.3036532, 1.3053144, 1.3065454, 1.3081042, 1.309633 ,\n",
       "       1.310927 ], dtype=float32)</pre></div></li><li class='xr-var-item'><div class='xr-var-name'><span>NITRATE_ADJUSTED_QC</span></div><div class='xr-var-dims'>(N_POINTS)</div><div class='xr-var-dtype'>int64</div><div class='xr-var-preview xr-preview'>1 1 1 1 1 1 1 1 ... 1 1 1 1 1 1 1 1</div><input id='attrs-c767c942-e917-4776-b09b-cd412966dee3' class='xr-var-attrs-in' type='checkbox' ><label for='attrs-c767c942-e917-4776-b09b-cd412966dee3' title='Show/Hide attributes'><svg class='icon xr-icon-file-text2'><use xlink:href='#icon-file-text2'></use></svg></label><input id='data-5d394fe0-a244-4de2-9f24-c5f1f0d29b01' class='xr-var-data-in' type='checkbox'><label for='data-5d394fe0-a244-4de2-9f24-c5f1f0d29b01' title='Show/Hide data repr'><svg class='icon xr-icon-database'><use xlink:href='#icon-database'></use></svg></label><div class='xr-var-attrs'><dl class='xr-attrs'><dt><span>long_name :</span></dt><dd>Global quality flag of NITRATE_ADJUSTED_QC profile</dd><dt><span>conventions :</span></dt><dd>Argo reference table 2a</dd><dt><span>casted :</span></dt><dd>1</dd></dl></div><div class='xr-var-data'><pre>array([1, 1, 1, 1, 1, 1, 1, 1, 1, 1, 1, 1, 1, 1, 1, 1, 1, 1, 1, 1, 1, 1,\n",
       "       1, 1, 1, 1, 1, 1, 1, 1, 1, 1, 1, 1, 1, 1, 1, 1, 1, 1, 1, 1, 1, 1,\n",
       "       1, 1, 1, 1, 1, 1, 1, 1, 1, 1, 1, 1, 1, 1, 1, 1, 1, 1, 1, 1, 1, 1,\n",
       "       1, 1, 1, 1, 1, 1, 1, 1, 1, 1, 1, 1, 1, 1, 1, 1, 1, 1, 1, 1, 1, 1,\n",
       "       1, 1, 1, 1, 1, 1, 1, 1, 1, 1, 1, 1, 1, 1, 1, 1, 1, 1, 1, 1, 1, 1,\n",
       "       1, 1, 1, 1, 1, 1, 1, 1, 1, 1, 1, 1, 1, 1, 1, 1, 1, 1, 1, 1, 1, 1,\n",
       "       1, 1, 1, 1, 1, 1, 1])</pre></div></li><li class='xr-var-item'><div class='xr-var-name'><span>NITRATE_DATA_MODE</span></div><div class='xr-var-dims'>(N_POINTS)</div><div class='xr-var-dtype'>&lt;U1</div><div class='xr-var-preview xr-preview'>&#x27;D&#x27; &#x27;D&#x27; &#x27;D&#x27; &#x27;D&#x27; ... &#x27;D&#x27; &#x27;D&#x27; &#x27;D&#x27; &#x27;D&#x27;</div><input id='attrs-d416b46c-8332-4296-9504-d0619b3b3fd1' class='xr-var-attrs-in' type='checkbox' ><label for='attrs-d416b46c-8332-4296-9504-d0619b3b3fd1' title='Show/Hide attributes'><svg class='icon xr-icon-file-text2'><use xlink:href='#icon-file-text2'></use></svg></label><input id='data-8cb03252-954d-45b9-9ee9-67b7a17dba8c' class='xr-var-data-in' type='checkbox'><label for='data-8cb03252-954d-45b9-9ee9-67b7a17dba8c' title='Show/Hide data repr'><svg class='icon xr-icon-database'><use xlink:href='#icon-database'></use></svg></label><div class='xr-var-attrs'><dl class='xr-attrs'><dt><span>long_name :</span></dt><dd>Delayed mode or real time data</dd><dt><span>conventions :</span></dt><dd>R : real time; D : delayed mode; A : real time with adjustment</dd><dt><span>casted :</span></dt><dd>1</dd></dl></div><div class='xr-var-data'><pre>array([&#x27;D&#x27;, &#x27;D&#x27;, &#x27;D&#x27;, &#x27;D&#x27;, &#x27;D&#x27;, &#x27;D&#x27;, &#x27;D&#x27;, &#x27;D&#x27;, &#x27;D&#x27;, &#x27;D&#x27;, &#x27;D&#x27;, &#x27;D&#x27;, &#x27;D&#x27;,\n",
       "       &#x27;D&#x27;, &#x27;D&#x27;, &#x27;D&#x27;, &#x27;D&#x27;, &#x27;D&#x27;, &#x27;D&#x27;, &#x27;D&#x27;, &#x27;D&#x27;, &#x27;D&#x27;, &#x27;D&#x27;, &#x27;D&#x27;, &#x27;D&#x27;, &#x27;D&#x27;,\n",
       "       &#x27;D&#x27;, &#x27;D&#x27;, &#x27;D&#x27;, &#x27;D&#x27;, &#x27;D&#x27;, &#x27;D&#x27;, &#x27;D&#x27;, &#x27;D&#x27;, &#x27;D&#x27;, &#x27;D&#x27;, &#x27;D&#x27;, &#x27;D&#x27;, &#x27;D&#x27;,\n",
       "       &#x27;D&#x27;, &#x27;D&#x27;, &#x27;D&#x27;, &#x27;D&#x27;, &#x27;D&#x27;, &#x27;D&#x27;, &#x27;D&#x27;, &#x27;D&#x27;, &#x27;D&#x27;, &#x27;D&#x27;, &#x27;D&#x27;, &#x27;D&#x27;, &#x27;D&#x27;,\n",
       "       &#x27;D&#x27;, &#x27;D&#x27;, &#x27;D&#x27;, &#x27;D&#x27;, &#x27;D&#x27;, &#x27;D&#x27;, &#x27;D&#x27;, &#x27;D&#x27;, &#x27;D&#x27;, &#x27;D&#x27;, &#x27;D&#x27;, &#x27;D&#x27;, &#x27;D&#x27;,\n",
       "       &#x27;D&#x27;, &#x27;D&#x27;, &#x27;D&#x27;, &#x27;D&#x27;, &#x27;D&#x27;, &#x27;D&#x27;, &#x27;D&#x27;, &#x27;D&#x27;, &#x27;D&#x27;, &#x27;D&#x27;, &#x27;D&#x27;, &#x27;D&#x27;, &#x27;D&#x27;,\n",
       "       &#x27;D&#x27;, &#x27;D&#x27;, &#x27;D&#x27;, &#x27;D&#x27;, &#x27;D&#x27;, &#x27;D&#x27;, &#x27;D&#x27;, &#x27;D&#x27;, &#x27;D&#x27;, &#x27;D&#x27;, &#x27;D&#x27;, &#x27;D&#x27;, &#x27;D&#x27;,\n",
       "       &#x27;D&#x27;, &#x27;D&#x27;, &#x27;D&#x27;, &#x27;D&#x27;, &#x27;D&#x27;, &#x27;D&#x27;, &#x27;D&#x27;, &#x27;D&#x27;, &#x27;D&#x27;, &#x27;D&#x27;, &#x27;D&#x27;, &#x27;D&#x27;, &#x27;D&#x27;,\n",
       "       &#x27;D&#x27;, &#x27;D&#x27;, &#x27;D&#x27;, &#x27;D&#x27;, &#x27;D&#x27;, &#x27;D&#x27;, &#x27;D&#x27;, &#x27;D&#x27;, &#x27;D&#x27;, &#x27;D&#x27;, &#x27;D&#x27;, &#x27;D&#x27;, &#x27;D&#x27;,\n",
       "       &#x27;D&#x27;, &#x27;D&#x27;, &#x27;D&#x27;, &#x27;D&#x27;, &#x27;D&#x27;, &#x27;D&#x27;, &#x27;D&#x27;, &#x27;D&#x27;, &#x27;D&#x27;, &#x27;D&#x27;, &#x27;D&#x27;, &#x27;D&#x27;, &#x27;D&#x27;,\n",
       "       &#x27;D&#x27;, &#x27;D&#x27;, &#x27;D&#x27;, &#x27;D&#x27;, &#x27;D&#x27;, &#x27;D&#x27;, &#x27;D&#x27;, &#x27;D&#x27;, &#x27;D&#x27;], dtype=&#x27;&lt;U1&#x27;)</pre></div></li><li class='xr-var-item'><div class='xr-var-name'><span>NITRATE_QC</span></div><div class='xr-var-dims'>(N_POINTS)</div><div class='xr-var-dtype'>int64</div><div class='xr-var-preview xr-preview'>3 3 3 3 3 3 3 3 ... 3 3 3 3 3 3 3 3</div><input id='attrs-63ed92d2-eade-4802-94b5-4725f79a803c' class='xr-var-attrs-in' type='checkbox' ><label for='attrs-63ed92d2-eade-4802-94b5-4725f79a803c' title='Show/Hide attributes'><svg class='icon xr-icon-file-text2'><use xlink:href='#icon-file-text2'></use></svg></label><input id='data-06efe62e-f82e-47b8-97aa-b3f93dab90fb' class='xr-var-data-in' type='checkbox'><label for='data-06efe62e-f82e-47b8-97aa-b3f93dab90fb' title='Show/Hide data repr'><svg class='icon xr-icon-database'><use xlink:href='#icon-database'></use></svg></label><div class='xr-var-attrs'><dl class='xr-attrs'><dt><span>long_name :</span></dt><dd>Global quality flag of NITRATE_QC profile</dd><dt><span>conventions :</span></dt><dd>Argo reference table 2a</dd><dt><span>casted :</span></dt><dd>1</dd></dl></div><div class='xr-var-data'><pre>array([3, 3, 3, 3, 3, 3, 3, 3, 3, 3, 3, 3, 3, 3, 3, 3, 3, 3, 3, 3, 3, 3,\n",
       "       3, 3, 3, 3, 3, 3, 3, 3, 3, 3, 3, 3, 3, 3, 3, 3, 3, 3, 3, 3, 3, 3,\n",
       "       3, 3, 3, 3, 3, 3, 3, 3, 3, 3, 3, 3, 3, 3, 3, 3, 3, 3, 3, 3, 3, 3,\n",
       "       3, 3, 3, 3, 3, 3, 3, 3, 3, 3, 3, 3, 3, 3, 3, 3, 3, 3, 3, 3, 3, 3,\n",
       "       3, 3, 3, 3, 3, 3, 3, 3, 3, 3, 3, 3, 3, 3, 3, 3, 3, 3, 3, 3, 3, 3,\n",
       "       3, 3, 3, 3, 3, 3, 3, 3, 3, 3, 3, 3, 3, 3, 3, 3, 3, 3, 3, 3, 3, 3,\n",
       "       3, 3, 3, 3, 3, 3, 3])</pre></div></li><li class='xr-var-item'><div class='xr-var-name'><span>PH_IN_SITU_TOTAL</span></div><div class='xr-var-dims'>(N_POINTS)</div><div class='xr-var-dtype'>float32</div><div class='xr-var-preview xr-preview'>8.005 8.001 7.996 ... 7.691 7.699</div><input id='attrs-b27c4796-e6a2-4737-a6c9-55ba6d3623c1' class='xr-var-attrs-in' type='checkbox' ><label for='attrs-b27c4796-e6a2-4737-a6c9-55ba6d3623c1' title='Show/Hide attributes'><svg class='icon xr-icon-file-text2'><use xlink:href='#icon-file-text2'></use></svg></label><input id='data-65258e26-405c-46ce-be82-3e42d358a923' class='xr-var-data-in' type='checkbox'><label for='data-65258e26-405c-46ce-be82-3e42d358a923' title='Show/Hide data repr'><svg class='icon xr-icon-database'><use xlink:href='#icon-database'></use></svg></label><div class='xr-var-attrs'><dl class='xr-attrs'><dt><span>actual_range :</span></dt><dd>[7.541416 8.004538]</dd><dt><span>cf_standard_name :</span></dt><dd>sea_water_ph_reported_on_total_scale</dd><dt><span>long_name :</span></dt><dd>pH</dd><dt><span>sdn_parameter_urn :</span></dt><dd>SDN:P01::PHMASSXX</dd><dt><span>units :</span></dt><dd>dimensionless</dd><dt><span>valid_max :</span></dt><dd>nan</dd><dt><span>valid_min :</span></dt><dd>nan</dd><dt><span>casted :</span></dt><dd>1</dd></dl></div><div class='xr-var-data'><pre>array([8.004538 , 8.000919 , 7.9964113, 7.996168 , 7.9945993, 7.995035 ,\n",
       "       7.9904404, 7.9837403, 7.9802184, 7.960284 , 7.850486 , 7.784318 ,\n",
       "       7.7227983, 7.6657343, 7.618131 , 7.587514 , 7.554451 , 7.5430684,\n",
       "       7.550431 , 7.5514946, 7.5597954, 7.5649548, 7.56546  , 7.5659823,\n",
       "       7.564311 , 7.563336 , 7.5640984, 7.562421 , 7.5615134, 7.559853 ,\n",
       "       7.5580955, 7.5560894, 7.5564947, 7.5532713, 7.552481 , 7.552163 ,\n",
       "       7.5492764, 7.5469074, 7.546739 , 7.5465803, 7.5465827, 7.545138 ,\n",
       "       7.543967 , 7.5432205, 7.543166 , 7.544834 , 7.542641 , 7.542314 ,\n",
       "       7.5461736, 7.547106 , 7.547356 , 7.5477586, 7.546956 , 7.5471716,\n",
       "       7.546245 , 7.546019 , 7.546507 , 7.547789 , 7.548876 , 7.557688 ,\n",
       "       7.5699415, 7.583824 , 7.6057286, 7.628416 , 7.6463675, 7.6589847,\n",
       "       7.679125 , 7.695214 , 7.7092266, 7.719041 , 7.982785 , 7.9806175,\n",
       "       7.995305 , 7.995223 , 7.9916983, 7.9887424, 7.9822507, 7.971956 ,\n",
       "       7.913716 , 7.86337  , 7.8651347, 7.78317  , 7.714395 , 7.652004 ,\n",
       "       7.5960646, 7.555309 , 7.5539536, 7.5519857, 7.5453043, 7.5414157,\n",
       "       7.5547457, 7.5575986, 7.559995 , 7.5609565, 7.564172 , 7.562651 ,\n",
       "       7.562076 , 7.5629163, 7.5610056, 7.5595307, 7.5587535, 7.557059 ,\n",
       "       7.5545187, 7.5538516, 7.551489 , 7.5520897, 7.550182 , 7.549142 ,\n",
       "       7.548693 , 7.546271 , 7.546115 , 7.544968 , 7.545746 , 7.544711 ,\n",
       "       7.5454698, 7.545502 , 7.5439434, 7.5453353, 7.5469766, 7.5470033,\n",
       "       7.547648 , 7.548    , 7.54652  , 7.5465064, 7.547275 , 7.546334 ,\n",
       "       7.546315 , 7.548591 , 7.553264 , 7.561331 , 7.573731 , 7.593083 ,\n",
       "       7.608741 , 7.6252675, 7.6422024, 7.6551027, 7.6734185, 7.6905637,\n",
       "       7.698957 ], dtype=float32)</pre></div></li><li class='xr-var-item'><div class='xr-var-name'><span>PH_IN_SITU_TOTAL_ADJUSTED</span></div><div class='xr-var-dims'>(N_POINTS)</div><div class='xr-var-dtype'>float32</div><div class='xr-var-preview xr-preview'>7.975 7.972 7.967 ... 7.659 7.667</div><input id='attrs-9a4d6807-f77b-4380-8942-eb553b10b1ac' class='xr-var-attrs-in' type='checkbox' ><label for='attrs-9a4d6807-f77b-4380-8942-eb553b10b1ac' title='Show/Hide attributes'><svg class='icon xr-icon-file-text2'><use xlink:href='#icon-file-text2'></use></svg></label><input id='data-b6f911fc-2f52-4692-9e90-bb6587fd4243' class='xr-var-data-in' type='checkbox'><label for='data-b6f911fc-2f52-4692-9e90-bb6587fd4243' title='Show/Hide data repr'><svg class='icon xr-icon-database'><use xlink:href='#icon-database'></use></svg></label><div class='xr-var-attrs'><dl class='xr-attrs'><dt><span>actual_range :</span></dt><dd>[7.510897e+00 9.999900e+04]</dd><dt><span>casted :</span></dt><dd>1</dd></dl></div><div class='xr-var-data'><pre>array([7.975484 , 7.971861 , 7.9673266, 7.9670467, 7.965452 , 7.9658504,\n",
       "       7.9611974, 7.954233 , 7.9505877, 7.930629 , 7.820627 , 7.7543917,\n",
       "       7.692831 , 7.635654 , 7.5879855, 7.5573335, 7.5242176, 7.512821 ,\n",
       "       7.520135 , 7.5211906, 7.5294333, 7.5345526, 7.5350423, 7.5355315,\n",
       "       7.533851 , 7.532847 , 7.5335917, 7.5319085, 7.530988 , 7.529317 ,\n",
       "       7.5275373, 7.525523 , 7.5259175, 7.522688 , 7.5218945, 7.52155  ,\n",
       "       7.5186424, 7.5162497, 7.5160656, 7.5158963, 7.515887 , 7.5144258,\n",
       "       7.5132384, 7.512483 , 7.512414 , 7.514067 , 7.5118575, 7.5114913,\n",
       "       7.5152664, 7.516138 , 7.5163407, 7.516697 , 7.5158434, 7.5160275,\n",
       "       7.515054 , 7.514787 , 7.515248 , 7.5165014, 7.517561 , 7.5263515,\n",
       "       7.538562 , 7.5524125, 7.5742726, 7.596926 , 7.614852 , 7.6274505,\n",
       "       7.6475644, 7.6636324, 7.677627 , 7.6874228, 7.9536867, 7.951513 ,\n",
       "       7.966083 , 7.9659295, 7.962345 , 7.959285 , 7.952731 , 7.942195 ,\n",
       "       7.883897 , 7.8334084, 7.835096 , 7.753066 , 7.684178 , 7.621698 ,\n",
       "       7.565672 , 7.5248537, 7.5234876, 7.5215154, 7.514799 , 7.510897 ,\n",
       "       7.524161 , 7.5269794, 7.5293474, 7.5302825, 7.533482 , 7.5319376,\n",
       "       7.5313516, 7.5321712, 7.5302405, 7.5287523, 7.527965 , 7.5262485,\n",
       "       7.5236964, 7.5230107, 7.5206375, 7.521221 , 7.5193086, 7.5182524,\n",
       "       7.517799 , 7.515366 , 7.515189 , 7.5140257, 7.5147843, 7.513724 ,\n",
       "       7.514464 , 7.5144753, 7.5128984, 7.5142612, 7.515826 , 7.5157995,\n",
       "       7.5163946, 7.5167003, 7.515169 , 7.5151124, 7.5158443, 7.514862 ,\n",
       "       7.514809 , 7.5170536, 7.521691 , 7.5297422, 7.5420985, 7.5614095,\n",
       "       7.577039 , 7.5935373, 7.6104455, 7.6233263, 7.6416173, 7.6587386,\n",
       "       7.667112 ], dtype=float32)</pre></div></li><li class='xr-var-item'><div class='xr-var-name'><span>PH_IN_SITU_TOTAL_ADJUSTED_ERROR</span></div><div class='xr-var-dims'>(N_POINTS)</div><div class='xr-var-dtype'>float32</div><div class='xr-var-preview xr-preview'>0.01315 0.01316 ... 0.01495 0.01497</div><input id='attrs-48ddd4c1-1b12-422f-8dd9-56bbd51afbcf' class='xr-var-attrs-in' type='checkbox' ><label for='attrs-48ddd4c1-1b12-422f-8dd9-56bbd51afbcf' title='Show/Hide attributes'><svg class='icon xr-icon-file-text2'><use xlink:href='#icon-file-text2'></use></svg></label><input id='data-c279cbb6-1431-4890-b91b-3871eb20a633' class='xr-var-data-in' type='checkbox'><label for='data-c279cbb6-1431-4890-b91b-3871eb20a633' title='Show/Hide data repr'><svg class='icon xr-icon-database'><use xlink:href='#icon-database'></use></svg></label><div class='xr-var-attrs'><dl class='xr-attrs'><dt><span>actual_range :</span></dt><dd>[1.30724e-02 9.99990e+04]</dd><dt><span>casted :</span></dt><dd>1</dd></dl></div><div class='xr-var-data'><pre>array([0.01315359, 0.01315531, 0.01316616, 0.01318192, 0.01319336,\n",
       "       0.01321064, 0.0132392 , 0.01338046, 0.01345046, 0.01346491,\n",
       "       0.01358434, 0.01362374, 0.0136442 , 0.01371798, 0.01376035,\n",
       "       0.01378254, 0.01381618, 0.0138246 , 0.01385453, 0.01386036,\n",
       "       0.01389938, 0.01392746, 0.01393859, 0.01396251, 0.01396946,\n",
       "       0.01399047, 0.01400373, 0.01400783, 0.01401748, 0.01402604,\n",
       "       0.01404262, 0.01404891, 0.01405751, 0.01406229, 0.01406475,\n",
       "       0.01408533, 0.01410175, 0.01412011, 0.01413274, 0.0141411 ,\n",
       "       0.0141509 , 0.01416391, 0.01417684, 0.01418402, 0.014196  ,\n",
       "       0.01420806, 0.01422162, 0.014254  , 0.01432505, 0.01437708,\n",
       "       0.01441856, 0.01445968, 0.01450516, 0.01453381, 0.01457668,\n",
       "       0.01461518, 0.01464031, 0.0146671 , 0.01469344, 0.01471416,\n",
       "       0.01475594, 0.01478711, 0.01483121, 0.01486513, 0.01489098,\n",
       "       0.01490953, 0.01493613, 0.01495803, 0.01497656, 0.01499602,\n",
       "       0.0130724 , 0.01307527, 0.0131276 , 0.01315881, 0.01318512,\n",
       "       0.01323568, 0.01326722, 0.01339298, 0.01342584, 0.01350622,\n",
       "       0.01355163, 0.01359029, 0.01365724, 0.01371161, 0.01376599,\n",
       "       0.01380565, 0.01381303, 0.01381604, 0.01383795, 0.01384599,\n",
       "       0.01388988, 0.01391362, 0.01393351, 0.01395179, 0.01396294,\n",
       "       0.01398023, 0.01398819, 0.01400333, 0.01401833, 0.01402831,\n",
       "       0.01403571, 0.01405233, 0.01406134, 0.01407586, 0.01408394,\n",
       "       0.01409713, 0.01410098, 0.01411392, 0.01411739, 0.01412586,\n",
       "       0.01414213, 0.01415536, 0.01417035, 0.01419145, 0.01420645,\n",
       "       0.01422333, 0.01423841, 0.01426225, 0.0143261 , 0.01437125,\n",
       "       0.0144143 , 0.0144548 , 0.01450051, 0.01453906, 0.0145727 ,\n",
       "       0.01461032, 0.01464216, 0.01467205, 0.01470563, 0.0147202 ,\n",
       "       0.01476226, 0.01480243, 0.01483089, 0.01485845, 0.01488503,\n",
       "       0.01490473, 0.01492967, 0.01495413, 0.01497483], dtype=float32)</pre></div></li><li class='xr-var-item'><div class='xr-var-name'><span>PH_IN_SITU_TOTAL_ADJUSTED_QC</span></div><div class='xr-var-dims'>(N_POINTS)</div><div class='xr-var-dtype'>int64</div><div class='xr-var-preview xr-preview'>1 1 1 1 1 1 1 1 ... 1 1 1 1 1 1 1 1</div><input id='attrs-96f47492-2d23-4e7f-b401-68cee77ee73b' class='xr-var-attrs-in' type='checkbox' ><label for='attrs-96f47492-2d23-4e7f-b401-68cee77ee73b' title='Show/Hide attributes'><svg class='icon xr-icon-file-text2'><use xlink:href='#icon-file-text2'></use></svg></label><input id='data-b14ac5f0-cd5e-4667-a4e3-86ff3782010f' class='xr-var-data-in' type='checkbox'><label for='data-b14ac5f0-cd5e-4667-a4e3-86ff3782010f' title='Show/Hide data repr'><svg class='icon xr-icon-database'><use xlink:href='#icon-database'></use></svg></label><div class='xr-var-attrs'><dl class='xr-attrs'><dt><span>long_name :</span></dt><dd>Global quality flag of PH_IN_SITU_TOTAL_ADJUSTED_QC profile</dd><dt><span>conventions :</span></dt><dd>Argo reference table 2a</dd><dt><span>casted :</span></dt><dd>1</dd></dl></div><div class='xr-var-data'><pre>array([1, 1, 1, 1, 1, 1, 1, 1, 1, 1, 1, 1, 1, 1, 1, 1, 1, 1, 1, 1, 1, 1,\n",
       "       1, 1, 1, 1, 1, 1, 1, 1, 1, 1, 1, 1, 1, 1, 1, 1, 1, 1, 1, 1, 1, 1,\n",
       "       1, 1, 1, 1, 1, 1, 1, 1, 1, 1, 1, 1, 1, 1, 1, 1, 1, 1, 1, 1, 1, 1,\n",
       "       1, 1, 1, 1, 1, 1, 1, 1, 1, 1, 1, 1, 1, 1, 1, 1, 1, 1, 1, 1, 1, 1,\n",
       "       1, 1, 1, 1, 1, 1, 1, 1, 1, 1, 1, 1, 1, 1, 1, 1, 1, 1, 1, 1, 1, 1,\n",
       "       1, 1, 1, 1, 1, 1, 1, 1, 1, 1, 1, 1, 1, 1, 1, 1, 1, 1, 1, 1, 1, 1,\n",
       "       1, 1, 1, 1, 1, 1, 1])</pre></div></li><li class='xr-var-item'><div class='xr-var-name'><span>PH_IN_SITU_TOTAL_DATA_MODE</span></div><div class='xr-var-dims'>(N_POINTS)</div><div class='xr-var-dtype'>&lt;U1</div><div class='xr-var-preview xr-preview'>&#x27;D&#x27; &#x27;D&#x27; &#x27;D&#x27; &#x27;D&#x27; ... &#x27;D&#x27; &#x27;D&#x27; &#x27;D&#x27; &#x27;D&#x27;</div><input id='attrs-59b092b2-ecaf-4bb4-8ada-337123d4cdfa' class='xr-var-attrs-in' type='checkbox' ><label for='attrs-59b092b2-ecaf-4bb4-8ada-337123d4cdfa' title='Show/Hide attributes'><svg class='icon xr-icon-file-text2'><use xlink:href='#icon-file-text2'></use></svg></label><input id='data-2d9549a9-b80b-4c8c-b696-7b46bde995e2' class='xr-var-data-in' type='checkbox'><label for='data-2d9549a9-b80b-4c8c-b696-7b46bde995e2' title='Show/Hide data repr'><svg class='icon xr-icon-database'><use xlink:href='#icon-database'></use></svg></label><div class='xr-var-attrs'><dl class='xr-attrs'><dt><span>long_name :</span></dt><dd>Delayed mode or real time data</dd><dt><span>conventions :</span></dt><dd>R : real time; D : delayed mode; A : real time with adjustment</dd><dt><span>casted :</span></dt><dd>1</dd></dl></div><div class='xr-var-data'><pre>array([&#x27;D&#x27;, &#x27;D&#x27;, &#x27;D&#x27;, &#x27;D&#x27;, &#x27;D&#x27;, &#x27;D&#x27;, &#x27;D&#x27;, &#x27;D&#x27;, &#x27;D&#x27;, &#x27;D&#x27;, &#x27;D&#x27;, &#x27;D&#x27;, &#x27;D&#x27;,\n",
       "       &#x27;D&#x27;, &#x27;D&#x27;, &#x27;D&#x27;, &#x27;D&#x27;, &#x27;D&#x27;, &#x27;D&#x27;, &#x27;D&#x27;, &#x27;D&#x27;, &#x27;D&#x27;, &#x27;D&#x27;, &#x27;D&#x27;, &#x27;D&#x27;, &#x27;D&#x27;,\n",
       "       &#x27;D&#x27;, &#x27;D&#x27;, &#x27;D&#x27;, &#x27;D&#x27;, &#x27;D&#x27;, &#x27;D&#x27;, &#x27;D&#x27;, &#x27;D&#x27;, &#x27;D&#x27;, &#x27;D&#x27;, &#x27;D&#x27;, &#x27;D&#x27;, &#x27;D&#x27;,\n",
       "       &#x27;D&#x27;, &#x27;D&#x27;, &#x27;D&#x27;, &#x27;D&#x27;, &#x27;D&#x27;, &#x27;D&#x27;, &#x27;D&#x27;, &#x27;D&#x27;, &#x27;D&#x27;, &#x27;D&#x27;, &#x27;D&#x27;, &#x27;D&#x27;, &#x27;D&#x27;,\n",
       "       &#x27;D&#x27;, &#x27;D&#x27;, &#x27;D&#x27;, &#x27;D&#x27;, &#x27;D&#x27;, &#x27;D&#x27;, &#x27;D&#x27;, &#x27;D&#x27;, &#x27;D&#x27;, &#x27;D&#x27;, &#x27;D&#x27;, &#x27;D&#x27;, &#x27;D&#x27;,\n",
       "       &#x27;D&#x27;, &#x27;D&#x27;, &#x27;D&#x27;, &#x27;D&#x27;, &#x27;D&#x27;, &#x27;D&#x27;, &#x27;D&#x27;, &#x27;D&#x27;, &#x27;D&#x27;, &#x27;D&#x27;, &#x27;D&#x27;, &#x27;D&#x27;, &#x27;D&#x27;,\n",
       "       &#x27;D&#x27;, &#x27;D&#x27;, &#x27;D&#x27;, &#x27;D&#x27;, &#x27;D&#x27;, &#x27;D&#x27;, &#x27;D&#x27;, &#x27;D&#x27;, &#x27;D&#x27;, &#x27;D&#x27;, &#x27;D&#x27;, &#x27;D&#x27;, &#x27;D&#x27;,\n",
       "       &#x27;D&#x27;, &#x27;D&#x27;, &#x27;D&#x27;, &#x27;D&#x27;, &#x27;D&#x27;, &#x27;D&#x27;, &#x27;D&#x27;, &#x27;D&#x27;, &#x27;D&#x27;, &#x27;D&#x27;, &#x27;D&#x27;, &#x27;D&#x27;, &#x27;D&#x27;,\n",
       "       &#x27;D&#x27;, &#x27;D&#x27;, &#x27;D&#x27;, &#x27;D&#x27;, &#x27;D&#x27;, &#x27;D&#x27;, &#x27;D&#x27;, &#x27;D&#x27;, &#x27;D&#x27;, &#x27;D&#x27;, &#x27;D&#x27;, &#x27;D&#x27;, &#x27;D&#x27;,\n",
       "       &#x27;D&#x27;, &#x27;D&#x27;, &#x27;D&#x27;, &#x27;D&#x27;, &#x27;D&#x27;, &#x27;D&#x27;, &#x27;D&#x27;, &#x27;D&#x27;, &#x27;D&#x27;, &#x27;D&#x27;, &#x27;D&#x27;, &#x27;D&#x27;, &#x27;D&#x27;,\n",
       "       &#x27;D&#x27;, &#x27;D&#x27;, &#x27;D&#x27;, &#x27;D&#x27;, &#x27;D&#x27;, &#x27;D&#x27;, &#x27;D&#x27;, &#x27;D&#x27;, &#x27;D&#x27;], dtype=&#x27;&lt;U1&#x27;)</pre></div></li><li class='xr-var-item'><div class='xr-var-name'><span>PH_IN_SITU_TOTAL_QC</span></div><div class='xr-var-dims'>(N_POINTS)</div><div class='xr-var-dtype'>int64</div><div class='xr-var-preview xr-preview'>3 3 3 3 3 3 3 3 ... 3 3 3 3 3 3 3 3</div><input id='attrs-5c38b4a9-7b8f-4f7f-bd83-241c1dfcb1fb' class='xr-var-attrs-in' type='checkbox' ><label for='attrs-5c38b4a9-7b8f-4f7f-bd83-241c1dfcb1fb' title='Show/Hide attributes'><svg class='icon xr-icon-file-text2'><use xlink:href='#icon-file-text2'></use></svg></label><input id='data-c208f57b-3497-45d2-af6f-956023284efe' class='xr-var-data-in' type='checkbox'><label for='data-c208f57b-3497-45d2-af6f-956023284efe' title='Show/Hide data repr'><svg class='icon xr-icon-database'><use xlink:href='#icon-database'></use></svg></label><div class='xr-var-attrs'><dl class='xr-attrs'><dt><span>long_name :</span></dt><dd>Global quality flag of PH_IN_SITU_TOTAL_QC profile</dd><dt><span>conventions :</span></dt><dd>Argo reference table 2a</dd><dt><span>casted :</span></dt><dd>1</dd></dl></div><div class='xr-var-data'><pre>array([3, 3, 3, 3, 3, 3, 3, 3, 3, 3, 3, 3, 3, 3, 3, 3, 3, 3, 3, 3, 3, 3,\n",
       "       3, 3, 3, 3, 3, 3, 3, 3, 3, 3, 3, 3, 3, 3, 3, 3, 3, 3, 3, 3, 3, 3,\n",
       "       3, 3, 3, 3, 3, 3, 3, 3, 3, 3, 3, 3, 3, 3, 3, 3, 3, 3, 3, 3, 3, 3,\n",
       "       3, 3, 3, 3, 3, 3, 3, 3, 3, 3, 3, 3, 3, 3, 3, 3, 3, 3, 3, 3, 3, 3,\n",
       "       3, 3, 3, 3, 3, 3, 3, 3, 3, 3, 3, 3, 3, 3, 3, 3, 3, 3, 3, 3, 3, 3,\n",
       "       3, 3, 3, 3, 3, 3, 3, 3, 3, 3, 3, 3, 3, 3, 3, 3, 3, 3, 3, 3, 3, 3,\n",
       "       3, 3, 3, 3, 3, 3, 3])</pre></div></li><li class='xr-var-item'><div class='xr-var-name'><span>PLATFORM_NUMBER</span></div><div class='xr-var-dims'>(N_POINTS)</div><div class='xr-var-dtype'>int64</div><div class='xr-var-preview xr-preview'>5906484 5906484 ... 5906484 5906484</div><input id='attrs-7e8feea5-a619-4254-a3fe-3218b16baec9' class='xr-var-attrs-in' type='checkbox' ><label for='attrs-7e8feea5-a619-4254-a3fe-3218b16baec9' title='Show/Hide attributes'><svg class='icon xr-icon-file-text2'><use xlink:href='#icon-file-text2'></use></svg></label><input id='data-fd9b4504-8af4-47c8-89ff-cf7e147805d9' class='xr-var-data-in' type='checkbox'><label for='data-fd9b4504-8af4-47c8-89ff-cf7e147805d9' title='Show/Hide data repr'><svg class='icon xr-icon-database'><use xlink:href='#icon-database'></use></svg></label><div class='xr-var-attrs'><dl class='xr-attrs'><dt><span>long_name :</span></dt><dd>Float unique identifier</dd><dt><span>conventions :</span></dt><dd>WMO float identifier : A9IIIII</dd><dt><span>casted :</span></dt><dd>1</dd></dl></div><div class='xr-var-data'><pre>array([5906484, 5906484, 5906484, 5906484, 5906484, 5906484, 5906484,\n",
       "       5906484, 5906484, 5906484, 5906484, 5906484, 5906484, 5906484,\n",
       "       5906484, 5906484, 5906484, 5906484, 5906484, 5906484, 5906484,\n",
       "       5906484, 5906484, 5906484, 5906484, 5906484, 5906484, 5906484,\n",
       "       5906484, 5906484, 5906484, 5906484, 5906484, 5906484, 5906484,\n",
       "       5906484, 5906484, 5906484, 5906484, 5906484, 5906484, 5906484,\n",
       "       5906484, 5906484, 5906484, 5906484, 5906484, 5906484, 5906484,\n",
       "       5906484, 5906484, 5906484, 5906484, 5906484, 5906484, 5906484,\n",
       "       5906484, 5906484, 5906484, 5906484, 5906484, 5906484, 5906484,\n",
       "       5906484, 5906484, 5906484, 5906484, 5906484, 5906484, 5906484,\n",
       "       5906484, 5906484, 5906484, 5906484, 5906484, 5906484, 5906484,\n",
       "       5906484, 5906484, 5906484, 5906484, 5906484, 5906484, 5906484,\n",
       "       5906484, 5906484, 5906484, 5906484, 5906484, 5906484, 5906484,\n",
       "       5906484, 5906484, 5906484, 5906484, 5906484, 5906484, 5906484,\n",
       "       5906484, 5906484, 5906484, 5906484, 5906484, 5906484, 5906484,\n",
       "       5906484, 5906484, 5906484, 5906484, 5906484, 5906484, 5906484,\n",
       "       5906484, 5906484, 5906484, 5906484, 5906484, 5906484, 5906484,\n",
       "       5906484, 5906484, 5906484, 5906484, 5906484, 5906484, 5906484,\n",
       "       5906484, 5906484, 5906484, 5906484, 5906484, 5906484, 5906484,\n",
       "       5906484, 5906484, 5906484, 5906484, 5906484, 5906484])</pre></div></li><li class='xr-var-item'><div class='xr-var-name'><span>POSITION_QC</span></div><div class='xr-var-dims'>(N_POINTS)</div><div class='xr-var-dtype'>int64</div><div class='xr-var-preview xr-preview'>1 1 1 1 1 1 1 1 ... 1 1 1 1 1 1 1 1</div><input id='attrs-e12df17f-83ff-47c3-826a-71a250f7a070' class='xr-var-attrs-in' type='checkbox' ><label for='attrs-e12df17f-83ff-47c3-826a-71a250f7a070' title='Show/Hide attributes'><svg class='icon xr-icon-file-text2'><use xlink:href='#icon-file-text2'></use></svg></label><input id='data-78e9cf13-176a-4e88-8435-aebc7a09aa9b' class='xr-var-data-in' type='checkbox'><label for='data-78e9cf13-176a-4e88-8435-aebc7a09aa9b' title='Show/Hide data repr'><svg class='icon xr-icon-database'><use xlink:href='#icon-database'></use></svg></label><div class='xr-var-attrs'><dl class='xr-attrs'><dt><span>long_name :</span></dt><dd>Global quality flag of POSITION_QC profile</dd><dt><span>conventions :</span></dt><dd>Argo reference table 2a</dd><dt><span>casted :</span></dt><dd>1</dd></dl></div><div class='xr-var-data'><pre>array([1, 1, 1, 1, 1, 1, 1, 1, 1, 1, 1, 1, 1, 1, 1, 1, 1, 1, 1, 1, 1, 1,\n",
       "       1, 1, 1, 1, 1, 1, 1, 1, 1, 1, 1, 1, 1, 1, 1, 1, 1, 1, 1, 1, 1, 1,\n",
       "       1, 1, 1, 1, 1, 1, 1, 1, 1, 1, 1, 1, 1, 1, 1, 1, 1, 1, 1, 1, 1, 1,\n",
       "       1, 1, 1, 1, 1, 1, 1, 1, 1, 1, 1, 1, 1, 1, 1, 1, 1, 1, 1, 1, 1, 1,\n",
       "       1, 1, 1, 1, 1, 1, 1, 1, 1, 1, 1, 1, 1, 1, 1, 1, 1, 1, 1, 1, 1, 1,\n",
       "       1, 1, 1, 1, 1, 1, 1, 1, 1, 1, 1, 1, 1, 1, 1, 1, 1, 1, 1, 1, 1, 1,\n",
       "       1, 1, 1, 1, 1, 1, 1])</pre></div></li><li class='xr-var-item'><div class='xr-var-name'><span>PRES</span></div><div class='xr-var-dims'>(N_POINTS)</div><div class='xr-var-dtype'>float32</div><div class='xr-var-preview xr-preview'>7.63 11.7 16.85 ... 1.8e+03 1.9e+03</div><input id='attrs-31966f70-2beb-48b7-aeff-222ca710df51' class='xr-var-attrs-in' type='checkbox' ><label for='attrs-31966f70-2beb-48b7-aeff-222ca710df51' title='Show/Hide attributes'><svg class='icon xr-icon-file-text2'><use xlink:href='#icon-file-text2'></use></svg></label><input id='data-3c519127-8525-4db0-a126-2a1d49af6a70' class='xr-var-data-in' type='checkbox'><label for='data-3c519127-8525-4db0-a126-2a1d49af6a70' title='Show/Hide data repr'><svg class='icon xr-icon-database'><use xlink:href='#icon-database'></use></svg></label><div class='xr-var-attrs'><dl class='xr-attrs'><dt><span>long_name :</span></dt><dd>Sea Pressure</dd><dt><span>standard_name :</span></dt><dd>sea_water_pressure</dd><dt><span>units :</span></dt><dd>decibar</dd><dt><span>valid_min :</span></dt><dd>0.0</dd><dt><span>valid_max :</span></dt><dd>12000.0</dd><dt><span>resolution :</span></dt><dd>0.1</dd><dt><span>axis :</span></dt><dd>Z</dd><dt><span>casted :</span></dt><dd>1</dd></dl></div><div class='xr-var-data'><pre>array([   7.63,   11.7 ,   16.85,   21.96,   26.51,   31.87,   36.95,\n",
       "         41.86,   46.94,   51.65,   56.84,   61.85,   66.94,   71.67,\n",
       "         76.8 ,   81.91,   86.85,   91.9 ,   96.72,  101.51,  111.45,\n",
       "        121.36,  131.62,  141.32,  151.51,  161.47,  171.1 ,  181.15,\n",
       "        191.72,  201.47,  211.44,  221.48,  231.49,  241.4 ,  250.96,\n",
       "        261.28,  271.61,  281.84,  291.35,  301.53,  311.65,  321.25,\n",
       "        331.44,  340.82,  351.51,  361.01,  381.63,  401.78,  451.86,\n",
       "        500.91,  551.21,  601.54,  651.08,  701.5 ,  751.8 ,  799.61,\n",
       "        851.89,  901.38,  951.45,  999.36, 1099.81, 1199.24, 1300.09,\n",
       "       1399.09, 1499.79, 1599.46, 1699.68, 1799.56, 1899.99, 1998.85,\n",
       "          7.68,   11.87,   16.79,   21.9 ,   26.98,   31.97,   36.87,\n",
       "         41.92,   46.86,   51.92,   56.86,   61.93,   66.7 ,   71.44,\n",
       "         76.97,   81.61,   86.48,   91.97,   96.95,  101.51,  111.51,\n",
       "        121.73,  131.13,  141.02,  151.26,  161.41,  171.6 ,  181.63,\n",
       "        191.67,  200.97,  211.54,  219.87,  231.85,  241.9 ,  251.2 ,\n",
       "        261.74,  271.5 ,  281.46,  290.98,  301.22,  311.23,  321.01,\n",
       "        331.69,  341.5 ,  351.32,  361.85,  381.14,  401.33,  451.7 ,\n",
       "        501.41,  551.08,  601.48,  651.21,  701.13,  750.77,  801.59,\n",
       "        851.39,  901.62,  951.74,  999.52, 1099.  , 1199.49, 1298.93,\n",
       "       1399.57, 1500.03, 1598.95, 1699.04, 1800.12, 1899.87],\n",
       "      dtype=float32)</pre></div></li><li class='xr-var-item'><div class='xr-var-name'><span>PRES_ADJUSTED</span></div><div class='xr-var-dims'>(N_POINTS)</div><div class='xr-var-dtype'>float32</div><div class='xr-var-preview xr-preview'>7.79 11.86 ... 1.8e+03 1.9e+03</div><input id='attrs-3ad1ab1d-c770-4a23-bc73-53b4d08024bf' class='xr-var-attrs-in' type='checkbox' ><label for='attrs-3ad1ab1d-c770-4a23-bc73-53b4d08024bf' title='Show/Hide attributes'><svg class='icon xr-icon-file-text2'><use xlink:href='#icon-file-text2'></use></svg></label><input id='data-d3bfb721-0952-455b-bee8-7a0594e50930' class='xr-var-data-in' type='checkbox'><label for='data-d3bfb721-0952-455b-bee8-7a0594e50930' title='Show/Hide data repr'><svg class='icon xr-icon-database'><use xlink:href='#icon-database'></use></svg></label><div class='xr-var-attrs'><dl class='xr-attrs'><dt><span>long_name :</span></dt><dd>Sea Pressure</dd><dt><span>standard_name :</span></dt><dd>sea_water_pressure</dd><dt><span>units :</span></dt><dd>decibar</dd><dt><span>valid_min :</span></dt><dd>0.0</dd><dt><span>valid_max :</span></dt><dd>12000.0</dd><dt><span>resolution :</span></dt><dd>0.1</dd><dt><span>axis :</span></dt><dd>Z</dd><dt><span>casted :</span></dt><dd>1</dd></dl></div><div class='xr-var-data'><pre>array([   7.79    ,   11.86    ,   17.01    ,   22.119999,   26.67    ,\n",
       "         32.03    ,   37.11    ,   42.02    ,   47.1     ,   51.81    ,\n",
       "         57.      ,   62.010002,   67.100006,   71.83    ,   76.96001 ,\n",
       "         82.07    ,   87.01    ,   92.06    ,   96.880005,  101.670006,\n",
       "        111.61    ,  121.520004,  131.78    ,  141.48001 ,  151.67    ,\n",
       "        161.63    ,  171.26001 ,  181.31    ,  191.88    ,  201.63    ,\n",
       "        211.6     ,  221.64    ,  231.65001 ,  241.56    ,  251.12001 ,\n",
       "        261.44    ,  271.77    ,  282.      ,  291.51    ,  301.69    ,\n",
       "        311.81    ,  321.41    ,  331.6     ,  340.98    ,  351.67    ,\n",
       "        361.17    ,  381.79    ,  401.94    ,  452.02    ,  501.07    ,\n",
       "        551.36993 ,  601.69995 ,  651.24    ,  701.66    ,  751.95996 ,\n",
       "        799.76996 ,  852.05    ,  901.54    ,  951.61    ,  999.51996 ,\n",
       "       1099.9701  , 1199.4     , 1300.25    , 1399.25    , 1499.9501  ,\n",
       "       1599.62    , 1699.8401  , 1799.7201  , 1900.15    , 1999.01    ,\n",
       "          7.82    ,   12.01    ,   16.929998,   22.039999,   27.119999,\n",
       "         32.11    ,   37.01    ,   42.059998,   47.      ,   52.06    ,\n",
       "         57.      ,   62.07    ,   66.84    ,   71.58    ,   77.11    ,\n",
       "         81.75    ,   86.62    ,   92.11    ,   97.090004,  101.65    ,\n",
       "        111.65    ,  121.87    ,  131.27    ,  141.16    ,  151.4     ,\n",
       "        161.55    ,  171.74    ,  181.77    ,  191.81    ,  201.11    ,\n",
       "        211.68    ,  220.01    ,  231.99    ,  242.04    ,  251.34    ,\n",
       "        261.88    ,  271.64    ,  281.6     ,  291.12003 ,  301.36002 ,\n",
       "        311.37003 ,  321.15002 ,  331.83002 ,  341.64    ,  351.46002 ,\n",
       "        361.99002 ,  381.28003 ,  401.47    ,  451.84003 ,  501.55002 ,\n",
       "        551.22003 ,  601.62    ,  651.35004 ,  701.27    ,  750.91003 ,\n",
       "        801.73004 ,  851.53    ,  901.76    ,  951.88    ,  999.66003 ,\n",
       "       1099.14    , 1199.63    , 1299.0701  , 1399.71    , 1500.17    ,\n",
       "       1599.09    , 1699.18    , 1800.26    , 1900.01    ], dtype=float32)</pre></div></li><li class='xr-var-item'><div class='xr-var-name'><span>PRES_ADJUSTED_ERROR</span></div><div class='xr-var-dims'>(N_POINTS)</div><div class='xr-var-dtype'>float32</div><div class='xr-var-preview xr-preview'>2.4 2.4 2.4 2.4 ... 2.4 2.4 2.4 2.4</div><input id='attrs-59854f50-f8f2-4661-a7b8-8d0424358b8d' class='xr-var-attrs-in' type='checkbox' ><label for='attrs-59854f50-f8f2-4661-a7b8-8d0424358b8d' title='Show/Hide attributes'><svg class='icon xr-icon-file-text2'><use xlink:href='#icon-file-text2'></use></svg></label><input id='data-c1a825cf-92ff-4c09-b0c8-95f675c41641' class='xr-var-data-in' type='checkbox'><label for='data-c1a825cf-92ff-4c09-b0c8-95f675c41641' title='Show/Hide data repr'><svg class='icon xr-icon-database'><use xlink:href='#icon-database'></use></svg></label><div class='xr-var-attrs'><dl class='xr-attrs'><dt><span>long_name :</span></dt><dd>ERROR IN Sea Pressure</dd><dt><span>standard_name :</span></dt><dd>sea_water_pressure</dd><dt><span>units :</span></dt><dd>decibar</dd><dt><span>valid_min :</span></dt><dd>0.0</dd><dt><span>valid_max :</span></dt><dd>12000.0</dd><dt><span>resolution :</span></dt><dd>0.1</dd><dt><span>axis :</span></dt><dd>Z</dd><dt><span>casted :</span></dt><dd>1</dd></dl></div><div class='xr-var-data'><pre>array([2.4, 2.4, 2.4, 2.4, 2.4, 2.4, 2.4, 2.4, 2.4, 2.4, 2.4, 2.4, 2.4,\n",
       "       2.4, 2.4, 2.4, 2.4, 2.4, 2.4, 2.4, 2.4, 2.4, 2.4, 2.4, 2.4, 2.4,\n",
       "       2.4, 2.4, 2.4, 2.4, 2.4, 2.4, 2.4, 2.4, 2.4, 2.4, 2.4, 2.4, 2.4,\n",
       "       2.4, 2.4, 2.4, 2.4, 2.4, 2.4, 2.4, 2.4, 2.4, 2.4, 2.4, 2.4, 2.4,\n",
       "       2.4, 2.4, 2.4, 2.4, 2.4, 2.4, 2.4, 2.4, 2.4, 2.4, 2.4, 2.4, 2.4,\n",
       "       2.4, 2.4, 2.4, 2.4, 2.4, 2.4, 2.4, 2.4, 2.4, 2.4, 2.4, 2.4, 2.4,\n",
       "       2.4, 2.4, 2.4, 2.4, 2.4, 2.4, 2.4, 2.4, 2.4, 2.4, 2.4, 2.4, 2.4,\n",
       "       2.4, 2.4, 2.4, 2.4, 2.4, 2.4, 2.4, 2.4, 2.4, 2.4, 2.4, 2.4, 2.4,\n",
       "       2.4, 2.4, 2.4, 2.4, 2.4, 2.4, 2.4, 2.4, 2.4, 2.4, 2.4, 2.4, 2.4,\n",
       "       2.4, 2.4, 2.4, 2.4, 2.4, 2.4, 2.4, 2.4, 2.4, 2.4, 2.4, 2.4, 2.4,\n",
       "       2.4, 2.4, 2.4, 2.4, 2.4, 2.4, 2.4, 2.4, 2.4], dtype=float32)</pre></div></li><li class='xr-var-item'><div class='xr-var-name'><span>PRES_ADJUSTED_QC</span></div><div class='xr-var-dims'>(N_POINTS)</div><div class='xr-var-dtype'>int64</div><div class='xr-var-preview xr-preview'>1 1 1 1 1 1 1 1 ... 1 1 1 1 1 1 1 1</div><input id='attrs-313029a5-dc83-4894-991c-fe90d28fd898' class='xr-var-attrs-in' type='checkbox' ><label for='attrs-313029a5-dc83-4894-991c-fe90d28fd898' title='Show/Hide attributes'><svg class='icon xr-icon-file-text2'><use xlink:href='#icon-file-text2'></use></svg></label><input id='data-7475ebcd-a743-4981-aa81-0a0a9e7f2b84' class='xr-var-data-in' type='checkbox'><label for='data-7475ebcd-a743-4981-aa81-0a0a9e7f2b84' title='Show/Hide data repr'><svg class='icon xr-icon-database'><use xlink:href='#icon-database'></use></svg></label><div class='xr-var-attrs'><dl class='xr-attrs'><dt><span>long_name :</span></dt><dd>Global quality flag of PRES_ADJUSTED_QC profile</dd><dt><span>conventions :</span></dt><dd>Argo reference table 2a</dd><dt><span>casted :</span></dt><dd>1</dd></dl></div><div class='xr-var-data'><pre>array([1, 1, 1, 1, 1, 1, 1, 1, 1, 1, 1, 1, 1, 1, 1, 1, 1, 1, 1, 1, 1, 1,\n",
       "       1, 1, 1, 1, 1, 1, 1, 1, 1, 1, 1, 1, 1, 1, 1, 1, 1, 1, 1, 1, 1, 1,\n",
       "       1, 1, 1, 1, 1, 1, 1, 1, 1, 1, 1, 1, 1, 1, 1, 1, 1, 1, 1, 1, 1, 1,\n",
       "       1, 1, 1, 1, 1, 1, 1, 1, 1, 1, 1, 1, 1, 1, 1, 1, 1, 1, 1, 1, 1, 1,\n",
       "       1, 1, 1, 1, 1, 1, 1, 1, 1, 1, 1, 1, 1, 1, 1, 1, 1, 1, 1, 1, 1, 1,\n",
       "       1, 1, 1, 1, 1, 1, 1, 1, 1, 1, 1, 1, 1, 1, 1, 1, 1, 1, 1, 1, 1, 1,\n",
       "       1, 1, 1, 1, 1, 1, 1])</pre></div></li><li class='xr-var-item'><div class='xr-var-name'><span>PRES_DATA_MODE</span></div><div class='xr-var-dims'>(N_POINTS)</div><div class='xr-var-dtype'>&lt;U1</div><div class='xr-var-preview xr-preview'>&#x27;D&#x27; &#x27;D&#x27; &#x27;D&#x27; &#x27;D&#x27; ... &#x27;D&#x27; &#x27;D&#x27; &#x27;D&#x27; &#x27;D&#x27;</div><input id='attrs-89ce003e-77e5-420b-a29c-b9f951c8d2e3' class='xr-var-attrs-in' type='checkbox' ><label for='attrs-89ce003e-77e5-420b-a29c-b9f951c8d2e3' title='Show/Hide attributes'><svg class='icon xr-icon-file-text2'><use xlink:href='#icon-file-text2'></use></svg></label><input id='data-bc842246-53ae-4429-92eb-8d95eca1052f' class='xr-var-data-in' type='checkbox'><label for='data-bc842246-53ae-4429-92eb-8d95eca1052f' title='Show/Hide data repr'><svg class='icon xr-icon-database'><use xlink:href='#icon-database'></use></svg></label><div class='xr-var-attrs'><dl class='xr-attrs'><dt><span>long_name :</span></dt><dd>Delayed mode or real time data</dd><dt><span>conventions :</span></dt><dd>R : real time; D : delayed mode; A : real time with adjustment</dd><dt><span>casted :</span></dt><dd>1</dd></dl></div><div class='xr-var-data'><pre>array([&#x27;D&#x27;, &#x27;D&#x27;, &#x27;D&#x27;, &#x27;D&#x27;, &#x27;D&#x27;, &#x27;D&#x27;, &#x27;D&#x27;, &#x27;D&#x27;, &#x27;D&#x27;, &#x27;D&#x27;, &#x27;D&#x27;, &#x27;D&#x27;, &#x27;D&#x27;,\n",
       "       &#x27;D&#x27;, &#x27;D&#x27;, &#x27;D&#x27;, &#x27;D&#x27;, &#x27;D&#x27;, &#x27;D&#x27;, &#x27;D&#x27;, &#x27;D&#x27;, &#x27;D&#x27;, &#x27;D&#x27;, &#x27;D&#x27;, &#x27;D&#x27;, &#x27;D&#x27;,\n",
       "       &#x27;D&#x27;, &#x27;D&#x27;, &#x27;D&#x27;, &#x27;D&#x27;, &#x27;D&#x27;, &#x27;D&#x27;, &#x27;D&#x27;, &#x27;D&#x27;, &#x27;D&#x27;, &#x27;D&#x27;, &#x27;D&#x27;, &#x27;D&#x27;, &#x27;D&#x27;,\n",
       "       &#x27;D&#x27;, &#x27;D&#x27;, &#x27;D&#x27;, &#x27;D&#x27;, &#x27;D&#x27;, &#x27;D&#x27;, &#x27;D&#x27;, &#x27;D&#x27;, &#x27;D&#x27;, &#x27;D&#x27;, &#x27;D&#x27;, &#x27;D&#x27;, &#x27;D&#x27;,\n",
       "       &#x27;D&#x27;, &#x27;D&#x27;, &#x27;D&#x27;, &#x27;D&#x27;, &#x27;D&#x27;, &#x27;D&#x27;, &#x27;D&#x27;, &#x27;D&#x27;, &#x27;D&#x27;, &#x27;D&#x27;, &#x27;D&#x27;, &#x27;D&#x27;, &#x27;D&#x27;,\n",
       "       &#x27;D&#x27;, &#x27;D&#x27;, &#x27;D&#x27;, &#x27;D&#x27;, &#x27;D&#x27;, &#x27;D&#x27;, &#x27;D&#x27;, &#x27;D&#x27;, &#x27;D&#x27;, &#x27;D&#x27;, &#x27;D&#x27;, &#x27;D&#x27;, &#x27;D&#x27;,\n",
       "       &#x27;D&#x27;, &#x27;D&#x27;, &#x27;D&#x27;, &#x27;D&#x27;, &#x27;D&#x27;, &#x27;D&#x27;, &#x27;D&#x27;, &#x27;D&#x27;, &#x27;D&#x27;, &#x27;D&#x27;, &#x27;D&#x27;, &#x27;D&#x27;, &#x27;D&#x27;,\n",
       "       &#x27;D&#x27;, &#x27;D&#x27;, &#x27;D&#x27;, &#x27;D&#x27;, &#x27;D&#x27;, &#x27;D&#x27;, &#x27;D&#x27;, &#x27;D&#x27;, &#x27;D&#x27;, &#x27;D&#x27;, &#x27;D&#x27;, &#x27;D&#x27;, &#x27;D&#x27;,\n",
       "       &#x27;D&#x27;, &#x27;D&#x27;, &#x27;D&#x27;, &#x27;D&#x27;, &#x27;D&#x27;, &#x27;D&#x27;, &#x27;D&#x27;, &#x27;D&#x27;, &#x27;D&#x27;, &#x27;D&#x27;, &#x27;D&#x27;, &#x27;D&#x27;, &#x27;D&#x27;,\n",
       "       &#x27;D&#x27;, &#x27;D&#x27;, &#x27;D&#x27;, &#x27;D&#x27;, &#x27;D&#x27;, &#x27;D&#x27;, &#x27;D&#x27;, &#x27;D&#x27;, &#x27;D&#x27;, &#x27;D&#x27;, &#x27;D&#x27;, &#x27;D&#x27;, &#x27;D&#x27;,\n",
       "       &#x27;D&#x27;, &#x27;D&#x27;, &#x27;D&#x27;, &#x27;D&#x27;, &#x27;D&#x27;, &#x27;D&#x27;, &#x27;D&#x27;, &#x27;D&#x27;, &#x27;D&#x27;], dtype=&#x27;&lt;U1&#x27;)</pre></div></li><li class='xr-var-item'><div class='xr-var-name'><span>PRES_QC</span></div><div class='xr-var-dims'>(N_POINTS)</div><div class='xr-var-dtype'>int64</div><div class='xr-var-preview xr-preview'>1 1 1 1 1 1 1 1 ... 1 1 1 1 1 1 1 1</div><input id='attrs-449fc78a-c7dc-4718-a77a-cca9b30a54f6' class='xr-var-attrs-in' type='checkbox' ><label for='attrs-449fc78a-c7dc-4718-a77a-cca9b30a54f6' title='Show/Hide attributes'><svg class='icon xr-icon-file-text2'><use xlink:href='#icon-file-text2'></use></svg></label><input id='data-0f9c2aac-8469-4a06-9664-8994a8cdebbe' class='xr-var-data-in' type='checkbox'><label for='data-0f9c2aac-8469-4a06-9664-8994a8cdebbe' title='Show/Hide data repr'><svg class='icon xr-icon-database'><use xlink:href='#icon-database'></use></svg></label><div class='xr-var-attrs'><dl class='xr-attrs'><dt><span>long_name :</span></dt><dd>Global quality flag of PRES_QC profile</dd><dt><span>conventions :</span></dt><dd>Argo reference table 2a</dd><dt><span>casted :</span></dt><dd>1</dd></dl></div><div class='xr-var-data'><pre>array([1, 1, 1, 1, 1, 1, 1, 1, 1, 1, 1, 1, 1, 1, 1, 1, 1, 1, 1, 1, 1, 1,\n",
       "       1, 1, 1, 1, 1, 1, 1, 1, 1, 1, 1, 1, 1, 1, 1, 1, 1, 1, 1, 1, 1, 1,\n",
       "       1, 1, 1, 1, 1, 1, 1, 1, 1, 1, 1, 1, 1, 1, 1, 1, 1, 1, 1, 1, 1, 1,\n",
       "       1, 1, 1, 1, 1, 1, 1, 1, 1, 1, 1, 1, 1, 1, 1, 1, 1, 1, 1, 1, 1, 1,\n",
       "       1, 1, 1, 1, 1, 1, 1, 1, 1, 1, 1, 1, 1, 1, 1, 1, 1, 1, 1, 1, 1, 1,\n",
       "       1, 1, 1, 1, 1, 1, 1, 1, 1, 1, 1, 1, 1, 1, 1, 1, 1, 1, 1, 1, 1, 1,\n",
       "       1, 1, 1, 1, 1, 1, 1])</pre></div></li><li class='xr-var-item'><div class='xr-var-name'><span>PSAL</span></div><div class='xr-var-dims'>(N_POINTS)</div><div class='xr-var-dtype'>float32</div><div class='xr-var-preview xr-preview'>34.51 34.56 34.6 ... 34.61 34.62</div><input id='attrs-96cfd5ab-faf1-485c-bb18-b9ab2ab1a68b' class='xr-var-attrs-in' type='checkbox' ><label for='attrs-96cfd5ab-faf1-485c-bb18-b9ab2ab1a68b' title='Show/Hide attributes'><svg class='icon xr-icon-file-text2'><use xlink:href='#icon-file-text2'></use></svg></label><input id='data-66d22443-d651-4a0d-8e7b-97b90aedfdcc' class='xr-var-data-in' type='checkbox'><label for='data-66d22443-d651-4a0d-8e7b-97b90aedfdcc' title='Show/Hide data repr'><svg class='icon xr-icon-database'><use xlink:href='#icon-database'></use></svg></label><div class='xr-var-attrs'><dl class='xr-attrs'><dt><span>long_name :</span></dt><dd>PRACTICAL SALINITY</dd><dt><span>standard_name :</span></dt><dd>sea_water_salinity</dd><dt><span>units :</span></dt><dd>psu</dd><dt><span>valid_min :</span></dt><dd>0.0</dd><dt><span>valid_max :</span></dt><dd>43.0</dd><dt><span>resolution :</span></dt><dd>0.001</dd><dt><span>casted :</span></dt><dd>1</dd></dl></div><div class='xr-var-data'><pre>array([34.505306, 34.5562  , 34.603798, 34.67886 , 34.727844, 34.757072,\n",
       "       34.675957, 34.485474, 34.38525 , 34.361225, 34.331226, 34.396423,\n",
       "       34.55486 , 34.493587, 34.494286, 34.528152, 34.59495 , 34.63064 ,\n",
       "       34.74424 , 34.754   , 34.798347, 34.81372 , 34.814808, 34.80836 ,\n",
       "       34.804756, 34.79653 , 34.79435 , 34.791   , 34.78414 , 34.777264,\n",
       "       34.769   , 34.76452 , 34.75651 , 34.7503  , 34.74952 , 34.734722,\n",
       "       34.72239 , 34.70824 , 34.699974, 34.692238, 34.684174, 34.676125,\n",
       "       34.66756 , 34.66259 , 34.65549 , 34.648495, 34.639183, 34.623   ,\n",
       "       34.58907 , 34.56891 , 34.562424, 34.553   , 34.54654 , 34.542   ,\n",
       "       34.538   , 34.536   , 34.536   , 34.53669 , 34.539   , 34.5408  ,\n",
       "       34.5496  , 34.5569  , 34.569   , 34.5807  , 34.5898  , 34.5971  ,\n",
       "       34.6065  , 34.6148  , 34.6228  , 34.631   , 34.487   , 34.481472,\n",
       "       34.46191 , 34.535   , 34.608677, 34.580868, 34.523926, 34.4608  ,\n",
       "       34.405155, 34.37464 , 34.359505, 34.38387 , 34.436   , 34.477562,\n",
       "       34.507458, 34.600773, 34.60724 , 34.607014, 34.647625, 34.693768,\n",
       "       34.762775, 34.775   , 34.78413 , 34.79451 , 34.801   , 34.792706,\n",
       "       34.7922  , 34.786556, 34.778496, 34.77603 , 34.770462, 34.75726 ,\n",
       "       34.754   , 34.7432  , 34.7364  , 34.72752 , 34.72325 , 34.713272,\n",
       "       34.71    , 34.70239 , 34.689384, 34.68099 , 34.670464, 34.657753,\n",
       "       34.64836 , 34.63915 , 34.62886 , 34.617672, 34.58815 , 34.575   ,\n",
       "       34.562   , 34.553   , 34.545   , 34.541435, 34.538616, 34.536   ,\n",
       "       34.535   , 34.537   , 34.53987 , 34.5421  , 34.5508  , 34.5598  ,\n",
       "       34.5691  , 34.5777  , 34.5869  , 34.5939  , 34.6033  , 34.6127  ,\n",
       "       34.6214  ], dtype=float32)</pre></div></li><li class='xr-var-item'><div class='xr-var-name'><span>PSAL_ADJUSTED</span></div><div class='xr-var-dims'>(N_POINTS)</div><div class='xr-var-dtype'>float32</div><div class='xr-var-preview xr-preview'>34.51 34.56 34.61 ... 34.62 34.63</div><input id='attrs-e4b90495-bdaf-4453-a5ee-a676df74913a' class='xr-var-attrs-in' type='checkbox' ><label for='attrs-e4b90495-bdaf-4453-a5ee-a676df74913a' title='Show/Hide attributes'><svg class='icon xr-icon-file-text2'><use xlink:href='#icon-file-text2'></use></svg></label><input id='data-cc98cb0f-adfb-43dc-b412-69f765bc16d9' class='xr-var-data-in' type='checkbox'><label for='data-cc98cb0f-adfb-43dc-b412-69f765bc16d9' title='Show/Hide data repr'><svg class='icon xr-icon-database'><use xlink:href='#icon-database'></use></svg></label><div class='xr-var-attrs'><dl class='xr-attrs'><dt><span>long_name :</span></dt><dd>PRACTICAL SALINITY</dd><dt><span>standard_name :</span></dt><dd>sea_water_salinity</dd><dt><span>units :</span></dt><dd>psu</dd><dt><span>valid_min :</span></dt><dd>0.0</dd><dt><span>valid_max :</span></dt><dd>43.0</dd><dt><span>resolution :</span></dt><dd>0.001</dd><dt><span>casted :</span></dt><dd>1</dd></dl></div><div class='xr-var-data'><pre>array([34.511513, 34.562416, 34.610027, 34.6851  , 34.734093, 34.763325,\n",
       "       34.682186, 34.49166 , 34.391415, 34.367382, 34.33737 , 34.402573,\n",
       "       34.56104 , 34.499744, 34.500443, 34.534313, 34.601124, 34.636814,\n",
       "       34.750435, 34.7602  , 34.80455 , 34.819923, 34.82101 , 34.81456 ,\n",
       "       34.810955, 34.802727, 34.800545, 34.79719 , 34.790333, 34.78345 ,\n",
       "       34.77519 , 34.770702, 34.762695, 34.75648 , 34.7557  , 34.7409  ,\n",
       "       34.72856 , 34.71441 , 34.706142, 34.698402, 34.690334, 34.682285,\n",
       "       34.673717, 34.668747, 34.661644, 34.654644, 34.645332, 34.629143,\n",
       "       34.5952  , 34.57503 , 34.568542, 34.559116, 34.55265 , 34.548107,\n",
       "       34.5441  , 34.542103, 34.5421  , 34.54279 , 34.545097, 34.546894,\n",
       "       34.555695, 34.562996, 34.575096, 34.586796, 34.595898, 34.603195,\n",
       "       34.612595, 34.620895, 34.6289  , 34.6371  , 34.493217, 34.48769 ,\n",
       "       34.46812 , 34.54122 , 34.61491 , 34.58709 , 34.53014 , 34.466988,\n",
       "       34.41133 , 34.380802, 34.36566 , 34.390026, 34.442165, 34.483727,\n",
       "       34.513626, 34.606953, 34.613422, 34.613194, 34.653812, 34.699963,\n",
       "       34.768982, 34.781208, 34.790337, 34.800716, 34.807205, 34.79891 ,\n",
       "       34.7984  , 34.792755, 34.784695, 34.782227, 34.776657, 34.76345 ,\n",
       "       34.760193, 34.749386, 34.742584, 34.733704, 34.72943 , 34.71945 ,\n",
       "       34.71618 , 34.708565, 34.695557, 34.68716 , 34.676632, 34.663918,\n",
       "       34.654522, 34.645306, 34.635014, 34.62382 , 34.59429 , 34.581135,\n",
       "       34.56813 , 34.559128, 34.55112 , 34.547554, 34.54473 , 34.54211 ,\n",
       "       34.54111 , 34.543106, 34.54598 , 34.548206, 34.556908, 34.565903,\n",
       "       34.575203, 34.583805, 34.593006, 34.600006, 34.609406, 34.61881 ,\n",
       "       34.627506], dtype=float32)</pre></div></li><li class='xr-var-item'><div class='xr-var-name'><span>PSAL_ADJUSTED_ERROR</span></div><div class='xr-var-dims'>(N_POINTS)</div><div class='xr-var-dtype'>float32</div><div class='xr-var-preview xr-preview'>0.01 0.01 0.01 ... 0.01 0.01 0.01</div><input id='attrs-fe0cfeae-ba8d-47a9-97ec-31020ebf71e3' class='xr-var-attrs-in' type='checkbox' ><label for='attrs-fe0cfeae-ba8d-47a9-97ec-31020ebf71e3' title='Show/Hide attributes'><svg class='icon xr-icon-file-text2'><use xlink:href='#icon-file-text2'></use></svg></label><input id='data-d619a8ed-0299-4720-bdbe-6046764176ca' class='xr-var-data-in' type='checkbox'><label for='data-d619a8ed-0299-4720-bdbe-6046764176ca' title='Show/Hide data repr'><svg class='icon xr-icon-database'><use xlink:href='#icon-database'></use></svg></label><div class='xr-var-attrs'><dl class='xr-attrs'><dt><span>long_name :</span></dt><dd>ERROR IN PRACTICAL SALINITY</dd><dt><span>standard_name :</span></dt><dd>sea_water_salinity</dd><dt><span>units :</span></dt><dd>psu</dd><dt><span>valid_min :</span></dt><dd>0.0</dd><dt><span>valid_max :</span></dt><dd>43.0</dd><dt><span>resolution :</span></dt><dd>0.001</dd><dt><span>casted :</span></dt><dd>1</dd></dl></div><div class='xr-var-data'><pre>array([0.01, 0.01, 0.01, 0.01, 0.01, 0.01, 0.01, 0.01, 0.01, 0.01, 0.01,\n",
       "       0.01, 0.01, 0.01, 0.01, 0.01, 0.01, 0.01, 0.01, 0.01, 0.01, 0.01,\n",
       "       0.01, 0.01, 0.01, 0.01, 0.01, 0.01, 0.01, 0.01, 0.01, 0.01, 0.01,\n",
       "       0.01, 0.01, 0.01, 0.01, 0.01, 0.01, 0.01, 0.01, 0.01, 0.01, 0.01,\n",
       "       0.01, 0.01, 0.01, 0.01, 0.01, 0.01, 0.01, 0.01, 0.01, 0.01, 0.01,\n",
       "       0.01, 0.01, 0.01, 0.01, 0.01, 0.01, 0.01, 0.01, 0.01, 0.01, 0.01,\n",
       "       0.01, 0.01, 0.01, 0.01, 0.01, 0.01, 0.01, 0.01, 0.01, 0.01, 0.01,\n",
       "       0.01, 0.01, 0.01, 0.01, 0.01, 0.01, 0.01, 0.01, 0.01, 0.01, 0.01,\n",
       "       0.01, 0.01, 0.01, 0.01, 0.01, 0.01, 0.01, 0.01, 0.01, 0.01, 0.01,\n",
       "       0.01, 0.01, 0.01, 0.01, 0.01, 0.01, 0.01, 0.01, 0.01, 0.01, 0.01,\n",
       "       0.01, 0.01, 0.01, 0.01, 0.01, 0.01, 0.01, 0.01, 0.01, 0.01, 0.01,\n",
       "       0.01, 0.01, 0.01, 0.01, 0.01, 0.01, 0.01, 0.01, 0.01, 0.01, 0.01,\n",
       "       0.01, 0.01, 0.01, 0.01, 0.01, 0.01, 0.01], dtype=float32)</pre></div></li><li class='xr-var-item'><div class='xr-var-name'><span>PSAL_ADJUSTED_QC</span></div><div class='xr-var-dims'>(N_POINTS)</div><div class='xr-var-dtype'>int64</div><div class='xr-var-preview xr-preview'>8 8 8 8 8 8 8 8 ... 1 1 1 1 1 1 1 1</div><input id='attrs-cca5b913-238f-4a73-9751-694fe265c808' class='xr-var-attrs-in' type='checkbox' ><label for='attrs-cca5b913-238f-4a73-9751-694fe265c808' title='Show/Hide attributes'><svg class='icon xr-icon-file-text2'><use xlink:href='#icon-file-text2'></use></svg></label><input id='data-05355dc9-41c7-48d7-bf02-b046d174ecfa' class='xr-var-data-in' type='checkbox'><label for='data-05355dc9-41c7-48d7-bf02-b046d174ecfa' title='Show/Hide data repr'><svg class='icon xr-icon-database'><use xlink:href='#icon-database'></use></svg></label><div class='xr-var-attrs'><dl class='xr-attrs'><dt><span>long_name :</span></dt><dd>Global quality flag of PSAL_ADJUSTED_QC profile</dd><dt><span>conventions :</span></dt><dd>Argo reference table 2a</dd><dt><span>casted :</span></dt><dd>1</dd></dl></div><div class='xr-var-data'><pre>array([8, 8, 8, 8, 8, 8, 8, 8, 8, 8, 8, 8, 8, 8, 8, 8, 8, 8, 8, 8, 8, 8,\n",
       "       8, 8, 8, 8, 8, 8, 8, 8, 8, 8, 8, 8, 8, 8, 8, 8, 8, 8, 8, 8, 8, 8,\n",
       "       8, 8, 8, 8, 8, 8, 8, 8, 8, 8, 8, 8, 8, 8, 8, 1, 1, 1, 1, 1, 1, 1,\n",
       "       1, 1, 1, 1, 8, 8, 8, 1, 8, 8, 8, 8, 8, 8, 8, 8, 8, 8, 8, 8, 8, 8,\n",
       "       8, 8, 8, 8, 8, 8, 8, 8, 8, 8, 8, 8, 8, 8, 8, 8, 8, 8, 8, 8, 8, 8,\n",
       "       8, 8, 8, 8, 8, 8, 8, 8, 8, 8, 8, 8, 8, 8, 8, 8, 8, 8, 8, 1, 1, 1,\n",
       "       1, 1, 1, 1, 1, 1, 1])</pre></div></li><li class='xr-var-item'><div class='xr-var-name'><span>PSAL_DATA_MODE</span></div><div class='xr-var-dims'>(N_POINTS)</div><div class='xr-var-dtype'>&lt;U1</div><div class='xr-var-preview xr-preview'>&#x27;D&#x27; &#x27;D&#x27; &#x27;D&#x27; &#x27;D&#x27; ... &#x27;D&#x27; &#x27;D&#x27; &#x27;D&#x27; &#x27;D&#x27;</div><input id='attrs-74faa221-525a-4abe-9eac-a4ac226de9f0' class='xr-var-attrs-in' type='checkbox' ><label for='attrs-74faa221-525a-4abe-9eac-a4ac226de9f0' title='Show/Hide attributes'><svg class='icon xr-icon-file-text2'><use xlink:href='#icon-file-text2'></use></svg></label><input id='data-46e285cb-e17c-4bd0-990a-cd32d2a4a3fd' class='xr-var-data-in' type='checkbox'><label for='data-46e285cb-e17c-4bd0-990a-cd32d2a4a3fd' title='Show/Hide data repr'><svg class='icon xr-icon-database'><use xlink:href='#icon-database'></use></svg></label><div class='xr-var-attrs'><dl class='xr-attrs'><dt><span>long_name :</span></dt><dd>Delayed mode or real time data</dd><dt><span>conventions :</span></dt><dd>R : real time; D : delayed mode; A : real time with adjustment</dd><dt><span>casted :</span></dt><dd>1</dd></dl></div><div class='xr-var-data'><pre>array([&#x27;D&#x27;, &#x27;D&#x27;, &#x27;D&#x27;, &#x27;D&#x27;, &#x27;D&#x27;, &#x27;D&#x27;, &#x27;D&#x27;, &#x27;D&#x27;, &#x27;D&#x27;, &#x27;D&#x27;, &#x27;D&#x27;, &#x27;D&#x27;, &#x27;D&#x27;,\n",
       "       &#x27;D&#x27;, &#x27;D&#x27;, &#x27;D&#x27;, &#x27;D&#x27;, &#x27;D&#x27;, &#x27;D&#x27;, &#x27;D&#x27;, &#x27;D&#x27;, &#x27;D&#x27;, &#x27;D&#x27;, &#x27;D&#x27;, &#x27;D&#x27;, &#x27;D&#x27;,\n",
       "       &#x27;D&#x27;, &#x27;D&#x27;, &#x27;D&#x27;, &#x27;D&#x27;, &#x27;D&#x27;, &#x27;D&#x27;, &#x27;D&#x27;, &#x27;D&#x27;, &#x27;D&#x27;, &#x27;D&#x27;, &#x27;D&#x27;, &#x27;D&#x27;, &#x27;D&#x27;,\n",
       "       &#x27;D&#x27;, &#x27;D&#x27;, &#x27;D&#x27;, &#x27;D&#x27;, &#x27;D&#x27;, &#x27;D&#x27;, &#x27;D&#x27;, &#x27;D&#x27;, &#x27;D&#x27;, &#x27;D&#x27;, &#x27;D&#x27;, &#x27;D&#x27;, &#x27;D&#x27;,\n",
       "       &#x27;D&#x27;, &#x27;D&#x27;, &#x27;D&#x27;, &#x27;D&#x27;, &#x27;D&#x27;, &#x27;D&#x27;, &#x27;D&#x27;, &#x27;D&#x27;, &#x27;D&#x27;, &#x27;D&#x27;, &#x27;D&#x27;, &#x27;D&#x27;, &#x27;D&#x27;,\n",
       "       &#x27;D&#x27;, &#x27;D&#x27;, &#x27;D&#x27;, &#x27;D&#x27;, &#x27;D&#x27;, &#x27;D&#x27;, &#x27;D&#x27;, &#x27;D&#x27;, &#x27;D&#x27;, &#x27;D&#x27;, &#x27;D&#x27;, &#x27;D&#x27;, &#x27;D&#x27;,\n",
       "       &#x27;D&#x27;, &#x27;D&#x27;, &#x27;D&#x27;, &#x27;D&#x27;, &#x27;D&#x27;, &#x27;D&#x27;, &#x27;D&#x27;, &#x27;D&#x27;, &#x27;D&#x27;, &#x27;D&#x27;, &#x27;D&#x27;, &#x27;D&#x27;, &#x27;D&#x27;,\n",
       "       &#x27;D&#x27;, &#x27;D&#x27;, &#x27;D&#x27;, &#x27;D&#x27;, &#x27;D&#x27;, &#x27;D&#x27;, &#x27;D&#x27;, &#x27;D&#x27;, &#x27;D&#x27;, &#x27;D&#x27;, &#x27;D&#x27;, &#x27;D&#x27;, &#x27;D&#x27;,\n",
       "       &#x27;D&#x27;, &#x27;D&#x27;, &#x27;D&#x27;, &#x27;D&#x27;, &#x27;D&#x27;, &#x27;D&#x27;, &#x27;D&#x27;, &#x27;D&#x27;, &#x27;D&#x27;, &#x27;D&#x27;, &#x27;D&#x27;, &#x27;D&#x27;, &#x27;D&#x27;,\n",
       "       &#x27;D&#x27;, &#x27;D&#x27;, &#x27;D&#x27;, &#x27;D&#x27;, &#x27;D&#x27;, &#x27;D&#x27;, &#x27;D&#x27;, &#x27;D&#x27;, &#x27;D&#x27;, &#x27;D&#x27;, &#x27;D&#x27;, &#x27;D&#x27;, &#x27;D&#x27;,\n",
       "       &#x27;D&#x27;, &#x27;D&#x27;, &#x27;D&#x27;, &#x27;D&#x27;, &#x27;D&#x27;, &#x27;D&#x27;, &#x27;D&#x27;, &#x27;D&#x27;, &#x27;D&#x27;], dtype=&#x27;&lt;U1&#x27;)</pre></div></li><li class='xr-var-item'><div class='xr-var-name'><span>PSAL_QC</span></div><div class='xr-var-dims'>(N_POINTS)</div><div class='xr-var-dtype'>int64</div><div class='xr-var-preview xr-preview'>8 8 8 8 8 8 8 8 ... 1 1 1 1 1 1 1 1</div><input id='attrs-057280b8-7ca9-408b-829a-2023b145ae79' class='xr-var-attrs-in' type='checkbox' ><label for='attrs-057280b8-7ca9-408b-829a-2023b145ae79' title='Show/Hide attributes'><svg class='icon xr-icon-file-text2'><use xlink:href='#icon-file-text2'></use></svg></label><input id='data-6a7e01f0-d4d6-474f-b0f5-c4f2953a0889' class='xr-var-data-in' type='checkbox'><label for='data-6a7e01f0-d4d6-474f-b0f5-c4f2953a0889' title='Show/Hide data repr'><svg class='icon xr-icon-database'><use xlink:href='#icon-database'></use></svg></label><div class='xr-var-attrs'><dl class='xr-attrs'><dt><span>long_name :</span></dt><dd>Global quality flag of PSAL_QC profile</dd><dt><span>conventions :</span></dt><dd>Argo reference table 2a</dd><dt><span>casted :</span></dt><dd>1</dd></dl></div><div class='xr-var-data'><pre>array([8, 8, 8, 8, 8, 8, 8, 8, 8, 8, 8, 8, 8, 8, 8, 8, 8, 8, 8, 8, 8, 8,\n",
       "       8, 8, 8, 8, 8, 8, 8, 8, 8, 8, 8, 8, 8, 8, 8, 8, 8, 8, 8, 8, 8, 8,\n",
       "       8, 8, 8, 8, 8, 8, 8, 8, 8, 8, 8, 8, 8, 8, 8, 1, 1, 1, 1, 1, 1, 1,\n",
       "       1, 1, 1, 1, 8, 8, 8, 1, 8, 8, 8, 8, 8, 8, 8, 8, 8, 8, 8, 8, 8, 8,\n",
       "       8, 8, 8, 8, 8, 8, 8, 8, 8, 8, 8, 8, 8, 8, 8, 8, 8, 8, 8, 8, 8, 8,\n",
       "       8, 8, 8, 8, 8, 8, 8, 8, 8, 8, 8, 8, 8, 8, 8, 8, 8, 8, 8, 1, 1, 1,\n",
       "       1, 1, 1, 1, 1, 1, 1])</pre></div></li><li class='xr-var-item'><div class='xr-var-name'><span>TEMP</span></div><div class='xr-var-dims'>(N_POINTS)</div><div class='xr-var-dtype'>float32</div><div class='xr-var-preview xr-preview'>26.63 26.56 26.33 ... 2.663 2.488</div><input id='attrs-6795aa69-19be-4021-9a35-dc000da2c3ff' class='xr-var-attrs-in' type='checkbox' ><label for='attrs-6795aa69-19be-4021-9a35-dc000da2c3ff' title='Show/Hide attributes'><svg class='icon xr-icon-file-text2'><use xlink:href='#icon-file-text2'></use></svg></label><input id='data-8ce63053-04d3-442f-8d69-c603d2a35e13' class='xr-var-data-in' type='checkbox'><label for='data-8ce63053-04d3-442f-8d69-c603d2a35e13' title='Show/Hide data repr'><svg class='icon xr-icon-database'><use xlink:href='#icon-database'></use></svg></label><div class='xr-var-attrs'><dl class='xr-attrs'><dt><span>long_name :</span></dt><dd>SEA TEMPERATURE IN SITU ITS-90 SCALE</dd><dt><span>standard_name :</span></dt><dd>sea_water_temperature</dd><dt><span>units :</span></dt><dd>degree_Celsius</dd><dt><span>valid_min :</span></dt><dd>-2.0</dd><dt><span>valid_max :</span></dt><dd>40.0</dd><dt><span>resolution :</span></dt><dd>0.001</dd><dt><span>casted :</span></dt><dd>1</dd></dl></div><div class='xr-var-data'><pre>array([26.626041 , 26.557001 , 26.32515  , 25.9612   , 25.62361  ,\n",
       "       25.259745 , 24.182348 , 22.069065 , 20.79808  , 20.521624 ,\n",
       "       18.860628 , 17.90815  , 17.48439  , 16.46367  , 15.773143 ,\n",
       "       15.414223 , 14.9466   , 14.760728 , 14.36376  , 14.25578  ,\n",
       "       13.711375 , 13.363319 , 13.1805105, 12.87888  , 12.755435 ,\n",
       "       12.494395 , 12.3597   , 12.288125 , 12.17274  , 12.064855 ,\n",
       "       11.865171 , 11.79016  , 11.684335 , 11.6259   , 11.59204  ,\n",
       "       11.36468  , 11.15663  , 10.941401 , 10.807125 , 10.692699 ,\n",
       "       10.5841   , 10.447    , 10.2882   , 10.2064905, 10.067575 ,\n",
       "        9.926869 ,  9.775105 ,  9.41928  ,  8.6481   ,  8.08871  ,\n",
       "        7.661119 ,  7.24298  ,  6.7803597,  6.49475  ,  6.0766997,\n",
       "        5.71251  ,  5.472945 ,  5.21306  ,  4.9762   ,  4.7837   ,\n",
       "        4.4011   ,  4.1196   ,  3.7265   ,  3.428    ,  3.2031   ,\n",
       "        3.0428   ,  2.8152   ,  2.6294   ,  2.4731   ,  2.3101   ,\n",
       "       28.50632  , 28.32236  , 27.242794 , 26.446    , 25.85525  ,\n",
       "       24.7929   , 24.125168 , 21.829138 , 21.14     , 19.892757 ,\n",
       "       19.003088 , 18.431322 , 17.246    , 16.49292  , 16.037756 ,\n",
       "       15.091443 , 14.96668  , 14.92518  , 14.634375 , 14.467826 ,\n",
       "       13.855725 , 13.51951  , 13.2548   , 13.01029  , 12.85232  ,\n",
       "       12.644425 , 12.5416   , 12.344359 , 12.16795  , 12.048875 ,\n",
       "       11.95128  , 11.750575 , 11.63765  , 11.46325  , 11.3646   ,\n",
       "       11.215671 , 11.1515   , 11.01262  , 10.96863  , 10.87436  ,\n",
       "       10.672395 , 10.53384  , 10.36065  , 10.12175  ,  9.952681 ,\n",
       "        9.76965  ,  9.594319 ,  9.329705 ,  8.6356   ,  8.15559  ,\n",
       "        7.70522  ,  7.2943797,  6.8318996,  6.44583  ,  6.123305 ,\n",
       "        5.75682  ,  5.45544  ,  5.1749   ,  4.86647  ,  4.728    ,\n",
       "        4.3438   ,  3.9827   ,  3.7293   ,  3.4867   ,  3.2549   ,\n",
       "        3.0846   ,  2.8706   ,  2.6626   ,  2.4878   ], dtype=float32)</pre></div></li><li class='xr-var-item'><div class='xr-var-name'><span>TEMP_ADJUSTED</span></div><div class='xr-var-dims'>(N_POINTS)</div><div class='xr-var-dtype'>float32</div><div class='xr-var-preview xr-preview'>26.63 26.56 26.33 ... 2.663 2.488</div><input id='attrs-dabda208-43e9-4b7f-8ecc-5ed1d3df07ac' class='xr-var-attrs-in' type='checkbox' ><label for='attrs-dabda208-43e9-4b7f-8ecc-5ed1d3df07ac' title='Show/Hide attributes'><svg class='icon xr-icon-file-text2'><use xlink:href='#icon-file-text2'></use></svg></label><input id='data-e19007e7-96b8-48f6-afa5-2616f367dde8' class='xr-var-data-in' type='checkbox'><label for='data-e19007e7-96b8-48f6-afa5-2616f367dde8' title='Show/Hide data repr'><svg class='icon xr-icon-database'><use xlink:href='#icon-database'></use></svg></label><div class='xr-var-attrs'><dl class='xr-attrs'><dt><span>long_name :</span></dt><dd>SEA TEMPERATURE IN SITU ITS-90 SCALE</dd><dt><span>standard_name :</span></dt><dd>sea_water_temperature</dd><dt><span>units :</span></dt><dd>degree_Celsius</dd><dt><span>valid_min :</span></dt><dd>-2.0</dd><dt><span>valid_max :</span></dt><dd>40.0</dd><dt><span>resolution :</span></dt><dd>0.001</dd><dt><span>casted :</span></dt><dd>1</dd></dl></div><div class='xr-var-data'><pre>array([26.626041 , 26.557001 , 26.32515  , 25.9612   , 25.62361  ,\n",
       "       25.259745 , 24.182348 , 22.069065 , 20.79808  , 20.521624 ,\n",
       "       18.860628 , 17.90815  , 17.48439  , 16.46367  , 15.773143 ,\n",
       "       15.414223 , 14.9466   , 14.760728 , 14.36376  , 14.25578  ,\n",
       "       13.711375 , 13.363319 , 13.1805105, 12.87888  , 12.755435 ,\n",
       "       12.494395 , 12.3597   , 12.288125 , 12.17274  , 12.064855 ,\n",
       "       11.865171 , 11.79016  , 11.684335 , 11.6259   , 11.59204  ,\n",
       "       11.36468  , 11.15663  , 10.941401 , 10.807125 , 10.692699 ,\n",
       "       10.5841   , 10.447    , 10.2882   , 10.2064905, 10.067575 ,\n",
       "        9.926869 ,  9.775105 ,  9.41928  ,  8.6481   ,  8.08871  ,\n",
       "        7.661119 ,  7.24298  ,  6.7803597,  6.49475  ,  6.0766997,\n",
       "        5.71251  ,  5.472945 ,  5.21306  ,  4.9762   ,  4.7837   ,\n",
       "        4.4011   ,  4.1196   ,  3.7265   ,  3.428    ,  3.2031   ,\n",
       "        3.0428   ,  2.8152   ,  2.6294   ,  2.4731   ,  2.3101   ,\n",
       "       28.50632  , 28.32236  , 27.242794 , 26.446    , 25.85525  ,\n",
       "       24.7929   , 24.125168 , 21.829138 , 21.14     , 19.892757 ,\n",
       "       19.003088 , 18.431322 , 17.246    , 16.49292  , 16.037756 ,\n",
       "       15.091443 , 14.96668  , 14.92518  , 14.634375 , 14.467826 ,\n",
       "       13.855725 , 13.51951  , 13.2548   , 13.01029  , 12.85232  ,\n",
       "       12.644425 , 12.5416   , 12.344359 , 12.16795  , 12.048875 ,\n",
       "       11.95128  , 11.750575 , 11.63765  , 11.46325  , 11.3646   ,\n",
       "       11.215671 , 11.1515   , 11.01262  , 10.96863  , 10.87436  ,\n",
       "       10.672395 , 10.53384  , 10.36065  , 10.12175  ,  9.952681 ,\n",
       "        9.76965  ,  9.594319 ,  9.329705 ,  8.6356   ,  8.15559  ,\n",
       "        7.70522  ,  7.2943797,  6.8318996,  6.44583  ,  6.123305 ,\n",
       "        5.75682  ,  5.45544  ,  5.1749   ,  4.86647  ,  4.728    ,\n",
       "        4.3438   ,  3.9827   ,  3.7293   ,  3.4867   ,  3.2549   ,\n",
       "        3.0846   ,  2.8706   ,  2.6626   ,  2.4878   ], dtype=float32)</pre></div></li><li class='xr-var-item'><div class='xr-var-name'><span>TEMP_ADJUSTED_ERROR</span></div><div class='xr-var-dims'>(N_POINTS)</div><div class='xr-var-dtype'>float32</div><div class='xr-var-preview xr-preview'>0.002 0.002 0.002 ... 0.002 0.002</div><input id='attrs-ea2c176b-6f9f-49c7-a7d7-0e5bca2873c1' class='xr-var-attrs-in' type='checkbox' ><label for='attrs-ea2c176b-6f9f-49c7-a7d7-0e5bca2873c1' title='Show/Hide attributes'><svg class='icon xr-icon-file-text2'><use xlink:href='#icon-file-text2'></use></svg></label><input id='data-733b806a-c759-4cba-af42-21b79b11d210' class='xr-var-data-in' type='checkbox'><label for='data-733b806a-c759-4cba-af42-21b79b11d210' title='Show/Hide data repr'><svg class='icon xr-icon-database'><use xlink:href='#icon-database'></use></svg></label><div class='xr-var-attrs'><dl class='xr-attrs'><dt><span>long_name :</span></dt><dd>ERROR IN SEA TEMPERATURE IN SITU ITS-90 SCALE</dd><dt><span>standard_name :</span></dt><dd>sea_water_temperature</dd><dt><span>units :</span></dt><dd>degree_Celsius</dd><dt><span>valid_min :</span></dt><dd>-2.0</dd><dt><span>valid_max :</span></dt><dd>40.0</dd><dt><span>resolution :</span></dt><dd>0.001</dd><dt><span>casted :</span></dt><dd>1</dd></dl></div><div class='xr-var-data'><pre>array([0.002, 0.002, 0.002, 0.002, 0.002, 0.002, 0.002, 0.002, 0.002,\n",
       "       0.002, 0.002, 0.002, 0.002, 0.002, 0.002, 0.002, 0.002, 0.002,\n",
       "       0.002, 0.002, 0.002, 0.002, 0.002, 0.002, 0.002, 0.002, 0.002,\n",
       "       0.002, 0.002, 0.002, 0.002, 0.002, 0.002, 0.002, 0.002, 0.002,\n",
       "       0.002, 0.002, 0.002, 0.002, 0.002, 0.002, 0.002, 0.002, 0.002,\n",
       "       0.002, 0.002, 0.002, 0.002, 0.002, 0.002, 0.002, 0.002, 0.002,\n",
       "       0.002, 0.002, 0.002, 0.002, 0.002, 0.002, 0.002, 0.002, 0.002,\n",
       "       0.002, 0.002, 0.002, 0.002, 0.002, 0.002, 0.002, 0.002, 0.002,\n",
       "       0.002, 0.002, 0.002, 0.002, 0.002, 0.002, 0.002, 0.002, 0.002,\n",
       "       0.002, 0.002, 0.002, 0.002, 0.002, 0.002, 0.002, 0.002, 0.002,\n",
       "       0.002, 0.002, 0.002, 0.002, 0.002, 0.002, 0.002, 0.002, 0.002,\n",
       "       0.002, 0.002, 0.002, 0.002, 0.002, 0.002, 0.002, 0.002, 0.002,\n",
       "       0.002, 0.002, 0.002, 0.002, 0.002, 0.002, 0.002, 0.002, 0.002,\n",
       "       0.002, 0.002, 0.002, 0.002, 0.002, 0.002, 0.002, 0.002, 0.002,\n",
       "       0.002, 0.002, 0.002, 0.002, 0.002, 0.002, 0.002, 0.002, 0.002,\n",
       "       0.002, 0.002, 0.002, 0.002], dtype=float32)</pre></div></li><li class='xr-var-item'><div class='xr-var-name'><span>TEMP_ADJUSTED_QC</span></div><div class='xr-var-dims'>(N_POINTS)</div><div class='xr-var-dtype'>int64</div><div class='xr-var-preview xr-preview'>8 8 8 8 8 8 8 8 ... 1 1 1 1 1 1 1 1</div><input id='attrs-7434ea2d-1d9f-4b66-94dc-8e5f1e4bf323' class='xr-var-attrs-in' type='checkbox' ><label for='attrs-7434ea2d-1d9f-4b66-94dc-8e5f1e4bf323' title='Show/Hide attributes'><svg class='icon xr-icon-file-text2'><use xlink:href='#icon-file-text2'></use></svg></label><input id='data-cd122d1e-fe42-491f-944f-8fb5ea4bdffa' class='xr-var-data-in' type='checkbox'><label for='data-cd122d1e-fe42-491f-944f-8fb5ea4bdffa' title='Show/Hide data repr'><svg class='icon xr-icon-database'><use xlink:href='#icon-database'></use></svg></label><div class='xr-var-attrs'><dl class='xr-attrs'><dt><span>long_name :</span></dt><dd>Global quality flag of TEMP_ADJUSTED_QC profile</dd><dt><span>conventions :</span></dt><dd>Argo reference table 2a</dd><dt><span>casted :</span></dt><dd>1</dd></dl></div><div class='xr-var-data'><pre>array([8, 8, 8, 8, 8, 8, 8, 8, 8, 8, 8, 8, 8, 8, 8, 8, 8, 8, 8, 8, 8, 8,\n",
       "       8, 8, 8, 8, 8, 8, 8, 8, 8, 8, 8, 8, 8, 8, 8, 8, 8, 8, 8, 8, 8, 8,\n",
       "       8, 8, 8, 8, 8, 8, 8, 8, 8, 8, 8, 8, 8, 8, 8, 1, 1, 1, 1, 1, 1, 1,\n",
       "       1, 1, 1, 1, 8, 8, 8, 1, 8, 8, 8, 8, 8, 8, 8, 8, 8, 8, 8, 8, 8, 8,\n",
       "       8, 8, 8, 8, 8, 8, 8, 8, 8, 8, 8, 8, 8, 8, 8, 8, 8, 8, 8, 8, 8, 8,\n",
       "       8, 8, 8, 8, 8, 8, 8, 8, 8, 8, 8, 8, 8, 8, 8, 8, 8, 8, 8, 1, 1, 1,\n",
       "       1, 1, 1, 1, 1, 1, 1])</pre></div></li><li class='xr-var-item'><div class='xr-var-name'><span>TEMP_DATA_MODE</span></div><div class='xr-var-dims'>(N_POINTS)</div><div class='xr-var-dtype'>&lt;U1</div><div class='xr-var-preview xr-preview'>&#x27;D&#x27; &#x27;D&#x27; &#x27;D&#x27; &#x27;D&#x27; ... &#x27;D&#x27; &#x27;D&#x27; &#x27;D&#x27; &#x27;D&#x27;</div><input id='attrs-fbee7b64-a83f-4354-8873-37d6732d4f45' class='xr-var-attrs-in' type='checkbox' ><label for='attrs-fbee7b64-a83f-4354-8873-37d6732d4f45' title='Show/Hide attributes'><svg class='icon xr-icon-file-text2'><use xlink:href='#icon-file-text2'></use></svg></label><input id='data-6f524878-f759-4be7-9369-c73d4ce55431' class='xr-var-data-in' type='checkbox'><label for='data-6f524878-f759-4be7-9369-c73d4ce55431' title='Show/Hide data repr'><svg class='icon xr-icon-database'><use xlink:href='#icon-database'></use></svg></label><div class='xr-var-attrs'><dl class='xr-attrs'><dt><span>long_name :</span></dt><dd>Delayed mode or real time data</dd><dt><span>conventions :</span></dt><dd>R : real time; D : delayed mode; A : real time with adjustment</dd><dt><span>casted :</span></dt><dd>1</dd></dl></div><div class='xr-var-data'><pre>array([&#x27;D&#x27;, &#x27;D&#x27;, &#x27;D&#x27;, &#x27;D&#x27;, &#x27;D&#x27;, &#x27;D&#x27;, &#x27;D&#x27;, &#x27;D&#x27;, &#x27;D&#x27;, &#x27;D&#x27;, &#x27;D&#x27;, &#x27;D&#x27;, &#x27;D&#x27;,\n",
       "       &#x27;D&#x27;, &#x27;D&#x27;, &#x27;D&#x27;, &#x27;D&#x27;, &#x27;D&#x27;, &#x27;D&#x27;, &#x27;D&#x27;, &#x27;D&#x27;, &#x27;D&#x27;, &#x27;D&#x27;, &#x27;D&#x27;, &#x27;D&#x27;, &#x27;D&#x27;,\n",
       "       &#x27;D&#x27;, &#x27;D&#x27;, &#x27;D&#x27;, &#x27;D&#x27;, &#x27;D&#x27;, &#x27;D&#x27;, &#x27;D&#x27;, &#x27;D&#x27;, &#x27;D&#x27;, &#x27;D&#x27;, &#x27;D&#x27;, &#x27;D&#x27;, &#x27;D&#x27;,\n",
       "       &#x27;D&#x27;, &#x27;D&#x27;, &#x27;D&#x27;, &#x27;D&#x27;, &#x27;D&#x27;, &#x27;D&#x27;, &#x27;D&#x27;, &#x27;D&#x27;, &#x27;D&#x27;, &#x27;D&#x27;, &#x27;D&#x27;, &#x27;D&#x27;, &#x27;D&#x27;,\n",
       "       &#x27;D&#x27;, &#x27;D&#x27;, &#x27;D&#x27;, &#x27;D&#x27;, &#x27;D&#x27;, &#x27;D&#x27;, &#x27;D&#x27;, &#x27;D&#x27;, &#x27;D&#x27;, &#x27;D&#x27;, &#x27;D&#x27;, &#x27;D&#x27;, &#x27;D&#x27;,\n",
       "       &#x27;D&#x27;, &#x27;D&#x27;, &#x27;D&#x27;, &#x27;D&#x27;, &#x27;D&#x27;, &#x27;D&#x27;, &#x27;D&#x27;, &#x27;D&#x27;, &#x27;D&#x27;, &#x27;D&#x27;, &#x27;D&#x27;, &#x27;D&#x27;, &#x27;D&#x27;,\n",
       "       &#x27;D&#x27;, &#x27;D&#x27;, &#x27;D&#x27;, &#x27;D&#x27;, &#x27;D&#x27;, &#x27;D&#x27;, &#x27;D&#x27;, &#x27;D&#x27;, &#x27;D&#x27;, &#x27;D&#x27;, &#x27;D&#x27;, &#x27;D&#x27;, &#x27;D&#x27;,\n",
       "       &#x27;D&#x27;, &#x27;D&#x27;, &#x27;D&#x27;, &#x27;D&#x27;, &#x27;D&#x27;, &#x27;D&#x27;, &#x27;D&#x27;, &#x27;D&#x27;, &#x27;D&#x27;, &#x27;D&#x27;, &#x27;D&#x27;, &#x27;D&#x27;, &#x27;D&#x27;,\n",
       "       &#x27;D&#x27;, &#x27;D&#x27;, &#x27;D&#x27;, &#x27;D&#x27;, &#x27;D&#x27;, &#x27;D&#x27;, &#x27;D&#x27;, &#x27;D&#x27;, &#x27;D&#x27;, &#x27;D&#x27;, &#x27;D&#x27;, &#x27;D&#x27;, &#x27;D&#x27;,\n",
       "       &#x27;D&#x27;, &#x27;D&#x27;, &#x27;D&#x27;, &#x27;D&#x27;, &#x27;D&#x27;, &#x27;D&#x27;, &#x27;D&#x27;, &#x27;D&#x27;, &#x27;D&#x27;, &#x27;D&#x27;, &#x27;D&#x27;, &#x27;D&#x27;, &#x27;D&#x27;,\n",
       "       &#x27;D&#x27;, &#x27;D&#x27;, &#x27;D&#x27;, &#x27;D&#x27;, &#x27;D&#x27;, &#x27;D&#x27;, &#x27;D&#x27;, &#x27;D&#x27;, &#x27;D&#x27;], dtype=&#x27;&lt;U1&#x27;)</pre></div></li><li class='xr-var-item'><div class='xr-var-name'><span>TEMP_QC</span></div><div class='xr-var-dims'>(N_POINTS)</div><div class='xr-var-dtype'>int64</div><div class='xr-var-preview xr-preview'>8 8 8 8 8 8 8 8 ... 1 1 1 1 1 1 1 1</div><input id='attrs-382ba7cf-eafd-4561-a03e-39024aef202d' class='xr-var-attrs-in' type='checkbox' ><label for='attrs-382ba7cf-eafd-4561-a03e-39024aef202d' title='Show/Hide attributes'><svg class='icon xr-icon-file-text2'><use xlink:href='#icon-file-text2'></use></svg></label><input id='data-5f6cb268-fa19-4453-b529-141054ee53fc' class='xr-var-data-in' type='checkbox'><label for='data-5f6cb268-fa19-4453-b529-141054ee53fc' title='Show/Hide data repr'><svg class='icon xr-icon-database'><use xlink:href='#icon-database'></use></svg></label><div class='xr-var-attrs'><dl class='xr-attrs'><dt><span>long_name :</span></dt><dd>Global quality flag of TEMP_QC profile</dd><dt><span>conventions :</span></dt><dd>Argo reference table 2a</dd><dt><span>casted :</span></dt><dd>1</dd></dl></div><div class='xr-var-data'><pre>array([8, 8, 8, 8, 8, 8, 8, 8, 8, 8, 8, 8, 8, 8, 8, 8, 8, 8, 8, 8, 8, 8,\n",
       "       8, 8, 8, 8, 8, 8, 8, 8, 8, 8, 8, 8, 8, 8, 8, 8, 8, 8, 8, 8, 8, 8,\n",
       "       8, 8, 8, 8, 8, 8, 8, 8, 8, 8, 8, 8, 8, 8, 8, 1, 1, 1, 1, 1, 1, 1,\n",
       "       1, 1, 1, 1, 8, 8, 8, 1, 8, 8, 8, 8, 8, 8, 8, 8, 8, 8, 8, 8, 8, 8,\n",
       "       8, 8, 8, 8, 8, 8, 8, 8, 8, 8, 8, 8, 8, 8, 8, 8, 8, 8, 8, 8, 8, 8,\n",
       "       8, 8, 8, 8, 8, 8, 8, 8, 8, 8, 8, 8, 8, 8, 8, 8, 8, 8, 8, 1, 1, 1,\n",
       "       1, 1, 1, 1, 1, 1, 1])</pre></div></li><li class='xr-var-item'><div class='xr-var-name'><span>TIME_QC</span></div><div class='xr-var-dims'>(N_POINTS)</div><div class='xr-var-dtype'>int64</div><div class='xr-var-preview xr-preview'>1 1 1 1 1 1 1 1 ... 1 1 1 1 1 1 1 1</div><input id='attrs-8da0f3fe-1eb7-425d-9061-dafd736d4265' class='xr-var-attrs-in' type='checkbox' ><label for='attrs-8da0f3fe-1eb7-425d-9061-dafd736d4265' title='Show/Hide attributes'><svg class='icon xr-icon-file-text2'><use xlink:href='#icon-file-text2'></use></svg></label><input id='data-94516cd8-ddd2-433d-9ce0-53c56162d1ea' class='xr-var-data-in' type='checkbox'><label for='data-94516cd8-ddd2-433d-9ce0-53c56162d1ea' title='Show/Hide data repr'><svg class='icon xr-icon-database'><use xlink:href='#icon-database'></use></svg></label><div class='xr-var-attrs'><dl class='xr-attrs'><dt><span>long_name :</span></dt><dd>Global quality flag of TIME_QC profile</dd><dt><span>conventions :</span></dt><dd>Argo reference table 2a</dd><dt><span>casted :</span></dt><dd>1</dd></dl></div><div class='xr-var-data'><pre>array([1, 1, 1, 1, 1, 1, 1, 1, 1, 1, 1, 1, 1, 1, 1, 1, 1, 1, 1, 1, 1, 1,\n",
       "       1, 1, 1, 1, 1, 1, 1, 1, 1, 1, 1, 1, 1, 1, 1, 1, 1, 1, 1, 1, 1, 1,\n",
       "       1, 1, 1, 1, 1, 1, 1, 1, 1, 1, 1, 1, 1, 1, 1, 1, 1, 1, 1, 1, 1, 1,\n",
       "       1, 1, 1, 1, 1, 1, 1, 1, 1, 1, 1, 1, 1, 1, 1, 1, 1, 1, 1, 1, 1, 1,\n",
       "       1, 1, 1, 1, 1, 1, 1, 1, 1, 1, 1, 1, 1, 1, 1, 1, 1, 1, 1, 1, 1, 1,\n",
       "       1, 1, 1, 1, 1, 1, 1, 1, 1, 1, 1, 1, 1, 1, 1, 1, 1, 1, 1, 1, 1, 1,\n",
       "       1, 1, 1, 1, 1, 1, 1])</pre></div></li></ul></div></li><li class='xr-section-item'><input id='section-d59d775e-a132-4a5d-8650-6e5e84877d52' class='xr-section-summary-in' type='checkbox'  ><label for='section-d59d775e-a132-4a5d-8650-6e5e84877d52' class='xr-section-summary' >Indexes: <span>(1)</span></label><div class='xr-section-inline-details'></div><div class='xr-section-details'><ul class='xr-var-list'><li class='xr-var-item'><div class='xr-index-name'><div>N_POINTS</div></div><div class='xr-index-preview'>PandasIndex</div><input type='checkbox' disabled/><label></label><input id='index-10e14ce4-6775-4326-b5cb-16a9e0272f77' class='xr-index-data-in' type='checkbox'/><label for='index-10e14ce4-6775-4326-b5cb-16a9e0272f77' title='Show/Hide index repr'><svg class='icon xr-icon-database'><use xlink:href='#icon-database'></use></svg></label><div class='xr-index-data'><pre>PandasIndex(Index([   2,    5,    9,   13,   16,   19,   23,   27,   30,   33,\n",
       "       ...\n",
       "       1800, 1801, 1802, 1803, 1804, 1805, 1806, 1807, 1808, 1809],\n",
       "      dtype=&#x27;int64&#x27;, name=&#x27;N_POINTS&#x27;, length=139))</pre></div></li></ul></div></li><li class='xr-section-item'><input id='section-7d89d6e1-efc6-4551-af2b-fc1bd71f573c' class='xr-section-summary-in' type='checkbox'  ><label for='section-7d89d6e1-efc6-4551-af2b-fc1bd71f573c' class='xr-section-summary' >Attributes: <span>(8)</span></label><div class='xr-section-inline-details'></div><div class='xr-section-details'><dl class='xr-attrs'><dt><span>DATA_ID :</span></dt><dd>ARGO-BGC</dd><dt><span>DOI :</span></dt><dd>http://doi.org/10.17882/42182</dd><dt><span>Fetched_from :</span></dt><dd>https://erddap.ifremer.fr/erddap</dd><dt><span>Fetched_by :</span></dt><dd>jovyan</dd><dt><span>Fetched_date :</span></dt><dd>2025/08/21</dd><dt><span>Fetched_constraints :</span></dt><dd>[x=-108.50/-100.50; y=11.20/19.20; z=0.0/2000.0; t=2023-06-13/2023-07-11]</dd><dt><span>Fetched_uri :</span></dt><dd>[&#x27;https://erddap.ifremer.fr/erddap/tabledap/ArgoFloats-synthetic-BGC.nc?latitude,longitude,position_qc,time,time_qc,direction,platform_number,cycle_number,config_mission_number,bbp700,bbp700_qc,bbp700_adjusted,bbp700_adjusted_qc,bbp700_adjusted_error,chla,chla_qc,chla_adjusted,chla_adjusted_qc,chla_adjusted_error,doxy,doxy_qc,doxy_adjusted,doxy_adjusted_qc,doxy_adjusted_error,nitrate,nitrate_qc,nitrate_adjusted,nitrate_adjusted_qc,nitrate_adjusted_error,ph_in_situ_total,ph_in_situ_total_qc,ph_in_situ_total_adjusted,ph_in_situ_total_adjusted_qc,ph_in_situ_total_adjusted_error,pres,pres_qc,pres_adjusted,pres_adjusted_qc,pres_adjusted_error,psal,psal_qc,psal_adjusted,psal_adjusted_qc,psal_adjusted_error,temp,temp_qc,temp_adjusted,temp_adjusted_qc,temp_adjusted_error&amp;longitude&gt;=-108.5&amp;longitude&lt;=-100.5&amp;latitude&gt;=11.2&amp;latitude&lt;=19.2&amp;pres&gt;=0&amp;pres&lt;=2000&amp;time&gt;=1686614400.0&amp;time&lt;=1689033600.0&amp;latitude!=NaN&amp;longitude!=NaN&amp;distinct()&amp;orderBy(&quot;time,pres&quot;)&#x27;]</dd><dt><span>history :</span></dt><dd>Variables selected according to QC</dd></dl></div></li></ul></div></div>"
      ],
      "text/plain": [
       "<xarray.Dataset> Size: 47kB\n",
       "Dimensions:                          (N_POINTS: 139)\n",
       "Coordinates:\n",
       "    LATITUDE                         (N_POINTS) float64 1kB 17.12 ... 17.24\n",
       "    LONGITUDE                        (N_POINTS) float64 1kB -108.1 ... -108.4\n",
       "    TIME                             (N_POINTS) datetime64[ns] 1kB 2023-06-16...\n",
       "  * N_POINTS                         (N_POINTS) int64 1kB 2 5 9 ... 1808 1809\n",
       "Data variables: (12/54)\n",
       "    BBP700                           (N_POINTS) float32 556B 0.0007788 ... 0....\n",
       "    BBP700_ADJUSTED                  (N_POINTS) float32 556B 0.0007788 ... 0....\n",
       "    BBP700_ADJUSTED_ERROR            (N_POINTS) float32 556B 1e+05 ... 1e+05\n",
       "    BBP700_ADJUSTED_QC               (N_POINTS) int64 1kB 1 1 1 1 1 ... 1 1 1 1\n",
       "    BBP700_DATA_MODE                 (N_POINTS) <U1 556B 'A' 'A' 'A' ... 'A' 'A'\n",
       "    BBP700_QC                        (N_POINTS) int64 1kB 1 1 1 1 1 ... 1 1 1 1\n",
       "    ...                               ...\n",
       "    TEMP_ADJUSTED                    (N_POINTS) float32 556B 26.63 ... 2.488\n",
       "    TEMP_ADJUSTED_ERROR              (N_POINTS) float32 556B 0.002 ... 0.002\n",
       "    TEMP_ADJUSTED_QC                 (N_POINTS) int64 1kB 8 8 8 8 8 ... 1 1 1 1\n",
       "    TEMP_DATA_MODE                   (N_POINTS) <U1 556B 'D' 'D' 'D' ... 'D' 'D'\n",
       "    TEMP_QC                          (N_POINTS) int64 1kB 8 8 8 8 8 ... 1 1 1 1\n",
       "    TIME_QC                          (N_POINTS) int64 1kB 1 1 1 1 1 ... 1 1 1 1\n",
       "Attributes: (8)"
      ]
     },
     "execution_count": 108,
     "metadata": {},
     "output_type": "execute_result"
    }
   ],
   "source": [
    "ds"
   ]
  },
  {
   "cell_type": "code",
   "execution_count": 98,
   "id": "c3d8b352-db50-4338-bcb9-c5ba25845552",
   "metadata": {},
   "outputs": [],
   "source": [
    "# define floats within hurricane radius (subset from box)\n",
    "hurricane_center = [hur_center_lat, hur_center_lon]\n",
    "hurricane_rad = 12900. #change this to Joohyeun's defined radius\n",
    "\n",
    "hurricane_dist = (gsw.distance([ds_pr.LONGITUDE, np.ones(len(ds_pr.LONGITUDE))*hurricane_center[0]], [ds_pr.LATITUDE, np.ones(len(ds_pr.LATITUDE))*hurricane_center[1]], 0, axis = 0)/1000) #convert m to km\n",
    "\n",
    "ds_pr_subset = ds_pr.assign(hurricane_dist=(['N_PROF'],hurricane_dist[0]))\n",
    "\n",
    "#subset for profiles within circle\n",
    "in_dist = (ds_pr_subset.hurricane_dist <= hurricane_rad)\n",
    "ds_pr_in = ds_pr_subset.where(in_dist, drop=True)\n"
   ]
  },
  {
   "cell_type": "code",
   "execution_count": 99,
   "id": "bbfd84ad-112d-4474-bd6e-41e5dec93f95",
   "metadata": {},
   "outputs": [
    {
     "data": {
      "text/html": [
       "<div><svg style=\"position: absolute; width: 0; height: 0; overflow: hidden\">\n",
       "<defs>\n",
       "<symbol id=\"icon-database\" viewBox=\"0 0 32 32\">\n",
       "<path d=\"M16 0c-8.837 0-16 2.239-16 5v4c0 2.761 7.163 5 16 5s16-2.239 16-5v-4c0-2.761-7.163-5-16-5z\"></path>\n",
       "<path d=\"M16 17c-8.837 0-16-2.239-16-5v6c0 2.761 7.163 5 16 5s16-2.239 16-5v-6c0 2.761-7.163 5-16 5z\"></path>\n",
       "<path d=\"M16 26c-8.837 0-16-2.239-16-5v6c0 2.761 7.163 5 16 5s16-2.239 16-5v-6c0 2.761-7.163 5-16 5z\"></path>\n",
       "</symbol>\n",
       "<symbol id=\"icon-file-text2\" viewBox=\"0 0 32 32\">\n",
       "<path d=\"M28.681 7.159c-0.694-0.947-1.662-2.053-2.724-3.116s-2.169-2.030-3.116-2.724c-1.612-1.182-2.393-1.319-2.841-1.319h-15.5c-1.378 0-2.5 1.121-2.5 2.5v27c0 1.378 1.122 2.5 2.5 2.5h23c1.378 0 2.5-1.122 2.5-2.5v-19.5c0-0.448-0.137-1.23-1.319-2.841zM24.543 5.457c0.959 0.959 1.712 1.825 2.268 2.543h-4.811v-4.811c0.718 0.556 1.584 1.309 2.543 2.268zM28 29.5c0 0.271-0.229 0.5-0.5 0.5h-23c-0.271 0-0.5-0.229-0.5-0.5v-27c0-0.271 0.229-0.5 0.5-0.5 0 0 15.499-0 15.5 0v7c0 0.552 0.448 1 1 1h7v19.5z\"></path>\n",
       "<path d=\"M23 26h-14c-0.552 0-1-0.448-1-1s0.448-1 1-1h14c0.552 0 1 0.448 1 1s-0.448 1-1 1z\"></path>\n",
       "<path d=\"M23 22h-14c-0.552 0-1-0.448-1-1s0.448-1 1-1h14c0.552 0 1 0.448 1 1s-0.448 1-1 1z\"></path>\n",
       "<path d=\"M23 18h-14c-0.552 0-1-0.448-1-1s0.448-1 1-1h14c0.552 0 1 0.448 1 1s-0.448 1-1 1z\"></path>\n",
       "</symbol>\n",
       "</defs>\n",
       "</svg>\n",
       "<style>/* CSS stylesheet for displaying xarray objects in jupyterlab.\n",
       " *\n",
       " */\n",
       "\n",
       ":root {\n",
       "  --xr-font-color0: var(--jp-content-font-color0, rgba(0, 0, 0, 1));\n",
       "  --xr-font-color2: var(--jp-content-font-color2, rgba(0, 0, 0, 0.54));\n",
       "  --xr-font-color3: var(--jp-content-font-color3, rgba(0, 0, 0, 0.38));\n",
       "  --xr-border-color: var(--jp-border-color2, #e0e0e0);\n",
       "  --xr-disabled-color: var(--jp-layout-color3, #bdbdbd);\n",
       "  --xr-background-color: var(--jp-layout-color0, white);\n",
       "  --xr-background-color-row-even: var(--jp-layout-color1, white);\n",
       "  --xr-background-color-row-odd: var(--jp-layout-color2, #eeeeee);\n",
       "}\n",
       "\n",
       "html[theme=\"dark\"],\n",
       "html[data-theme=\"dark\"],\n",
       "body[data-theme=\"dark\"],\n",
       "body.vscode-dark {\n",
       "  --xr-font-color0: rgba(255, 255, 255, 1);\n",
       "  --xr-font-color2: rgba(255, 255, 255, 0.54);\n",
       "  --xr-font-color3: rgba(255, 255, 255, 0.38);\n",
       "  --xr-border-color: #1f1f1f;\n",
       "  --xr-disabled-color: #515151;\n",
       "  --xr-background-color: #111111;\n",
       "  --xr-background-color-row-even: #111111;\n",
       "  --xr-background-color-row-odd: #313131;\n",
       "}\n",
       "\n",
       ".xr-wrap {\n",
       "  display: block !important;\n",
       "  min-width: 300px;\n",
       "  max-width: 700px;\n",
       "}\n",
       "\n",
       ".xr-text-repr-fallback {\n",
       "  /* fallback to plain text repr when CSS is not injected (untrusted notebook) */\n",
       "  display: none;\n",
       "}\n",
       "\n",
       ".xr-header {\n",
       "  padding-top: 6px;\n",
       "  padding-bottom: 6px;\n",
       "  margin-bottom: 4px;\n",
       "  border-bottom: solid 1px var(--xr-border-color);\n",
       "}\n",
       "\n",
       ".xr-header > div,\n",
       ".xr-header > ul {\n",
       "  display: inline;\n",
       "  margin-top: 0;\n",
       "  margin-bottom: 0;\n",
       "}\n",
       "\n",
       ".xr-obj-type,\n",
       ".xr-array-name {\n",
       "  margin-left: 2px;\n",
       "  margin-right: 10px;\n",
       "}\n",
       "\n",
       ".xr-obj-type {\n",
       "  color: var(--xr-font-color2);\n",
       "}\n",
       "\n",
       ".xr-sections {\n",
       "  padding-left: 0 !important;\n",
       "  display: grid;\n",
       "  grid-template-columns: 150px auto auto 1fr 0 20px 0 20px;\n",
       "}\n",
       "\n",
       ".xr-section-item {\n",
       "  display: contents;\n",
       "}\n",
       "\n",
       ".xr-section-item input {\n",
       "  display: inline-block;\n",
       "  opacity: 0;\n",
       "  height: 0;\n",
       "}\n",
       "\n",
       ".xr-section-item input + label {\n",
       "  color: var(--xr-disabled-color);\n",
       "}\n",
       "\n",
       ".xr-section-item input:enabled + label {\n",
       "  cursor: pointer;\n",
       "  color: var(--xr-font-color2);\n",
       "}\n",
       "\n",
       ".xr-section-item input:focus + label {\n",
       "  border: 2px solid var(--xr-font-color0);\n",
       "}\n",
       "\n",
       ".xr-section-item input:enabled + label:hover {\n",
       "  color: var(--xr-font-color0);\n",
       "}\n",
       "\n",
       ".xr-section-summary {\n",
       "  grid-column: 1;\n",
       "  color: var(--xr-font-color2);\n",
       "  font-weight: 500;\n",
       "}\n",
       "\n",
       ".xr-section-summary > span {\n",
       "  display: inline-block;\n",
       "  padding-left: 0.5em;\n",
       "}\n",
       "\n",
       ".xr-section-summary-in:disabled + label {\n",
       "  color: var(--xr-font-color2);\n",
       "}\n",
       "\n",
       ".xr-section-summary-in + label:before {\n",
       "  display: inline-block;\n",
       "  content: \"►\";\n",
       "  font-size: 11px;\n",
       "  width: 15px;\n",
       "  text-align: center;\n",
       "}\n",
       "\n",
       ".xr-section-summary-in:disabled + label:before {\n",
       "  color: var(--xr-disabled-color);\n",
       "}\n",
       "\n",
       ".xr-section-summary-in:checked + label:before {\n",
       "  content: \"▼\";\n",
       "}\n",
       "\n",
       ".xr-section-summary-in:checked + label > span {\n",
       "  display: none;\n",
       "}\n",
       "\n",
       ".xr-section-summary,\n",
       ".xr-section-inline-details {\n",
       "  padding-top: 4px;\n",
       "  padding-bottom: 4px;\n",
       "}\n",
       "\n",
       ".xr-section-inline-details {\n",
       "  grid-column: 2 / -1;\n",
       "}\n",
       "\n",
       ".xr-section-details {\n",
       "  display: none;\n",
       "  grid-column: 1 / -1;\n",
       "  margin-bottom: 5px;\n",
       "}\n",
       "\n",
       ".xr-section-summary-in:checked ~ .xr-section-details {\n",
       "  display: contents;\n",
       "}\n",
       "\n",
       ".xr-array-wrap {\n",
       "  grid-column: 1 / -1;\n",
       "  display: grid;\n",
       "  grid-template-columns: 20px auto;\n",
       "}\n",
       "\n",
       ".xr-array-wrap > label {\n",
       "  grid-column: 1;\n",
       "  vertical-align: top;\n",
       "}\n",
       "\n",
       ".xr-preview {\n",
       "  color: var(--xr-font-color3);\n",
       "}\n",
       "\n",
       ".xr-array-preview,\n",
       ".xr-array-data {\n",
       "  padding: 0 5px !important;\n",
       "  grid-column: 2;\n",
       "}\n",
       "\n",
       ".xr-array-data,\n",
       ".xr-array-in:checked ~ .xr-array-preview {\n",
       "  display: none;\n",
       "}\n",
       "\n",
       ".xr-array-in:checked ~ .xr-array-data,\n",
       ".xr-array-preview {\n",
       "  display: inline-block;\n",
       "}\n",
       "\n",
       ".xr-dim-list {\n",
       "  display: inline-block !important;\n",
       "  list-style: none;\n",
       "  padding: 0 !important;\n",
       "  margin: 0;\n",
       "}\n",
       "\n",
       ".xr-dim-list li {\n",
       "  display: inline-block;\n",
       "  padding: 0;\n",
       "  margin: 0;\n",
       "}\n",
       "\n",
       ".xr-dim-list:before {\n",
       "  content: \"(\";\n",
       "}\n",
       "\n",
       ".xr-dim-list:after {\n",
       "  content: \")\";\n",
       "}\n",
       "\n",
       ".xr-dim-list li:not(:last-child):after {\n",
       "  content: \",\";\n",
       "  padding-right: 5px;\n",
       "}\n",
       "\n",
       ".xr-has-index {\n",
       "  font-weight: bold;\n",
       "}\n",
       "\n",
       ".xr-var-list,\n",
       ".xr-var-item {\n",
       "  display: contents;\n",
       "}\n",
       "\n",
       ".xr-var-item > div,\n",
       ".xr-var-item label,\n",
       ".xr-var-item > .xr-var-name span {\n",
       "  background-color: var(--xr-background-color-row-even);\n",
       "  margin-bottom: 0;\n",
       "}\n",
       "\n",
       ".xr-var-item > .xr-var-name:hover span {\n",
       "  padding-right: 5px;\n",
       "}\n",
       "\n",
       ".xr-var-list > li:nth-child(odd) > div,\n",
       ".xr-var-list > li:nth-child(odd) > label,\n",
       ".xr-var-list > li:nth-child(odd) > .xr-var-name span {\n",
       "  background-color: var(--xr-background-color-row-odd);\n",
       "}\n",
       "\n",
       ".xr-var-name {\n",
       "  grid-column: 1;\n",
       "}\n",
       "\n",
       ".xr-var-dims {\n",
       "  grid-column: 2;\n",
       "}\n",
       "\n",
       ".xr-var-dtype {\n",
       "  grid-column: 3;\n",
       "  text-align: right;\n",
       "  color: var(--xr-font-color2);\n",
       "}\n",
       "\n",
       ".xr-var-preview {\n",
       "  grid-column: 4;\n",
       "}\n",
       "\n",
       ".xr-index-preview {\n",
       "  grid-column: 2 / 5;\n",
       "  color: var(--xr-font-color2);\n",
       "}\n",
       "\n",
       ".xr-var-name,\n",
       ".xr-var-dims,\n",
       ".xr-var-dtype,\n",
       ".xr-preview,\n",
       ".xr-attrs dt {\n",
       "  white-space: nowrap;\n",
       "  overflow: hidden;\n",
       "  text-overflow: ellipsis;\n",
       "  padding-right: 10px;\n",
       "}\n",
       "\n",
       ".xr-var-name:hover,\n",
       ".xr-var-dims:hover,\n",
       ".xr-var-dtype:hover,\n",
       ".xr-attrs dt:hover {\n",
       "  overflow: visible;\n",
       "  width: auto;\n",
       "  z-index: 1;\n",
       "}\n",
       "\n",
       ".xr-var-attrs,\n",
       ".xr-var-data,\n",
       ".xr-index-data {\n",
       "  display: none;\n",
       "  background-color: var(--xr-background-color) !important;\n",
       "  padding-bottom: 5px !important;\n",
       "}\n",
       "\n",
       ".xr-var-attrs-in:checked ~ .xr-var-attrs,\n",
       ".xr-var-data-in:checked ~ .xr-var-data,\n",
       ".xr-index-data-in:checked ~ .xr-index-data {\n",
       "  display: block;\n",
       "}\n",
       "\n",
       ".xr-var-data > table {\n",
       "  float: right;\n",
       "}\n",
       "\n",
       ".xr-var-name span,\n",
       ".xr-var-data,\n",
       ".xr-index-name div,\n",
       ".xr-index-data,\n",
       ".xr-attrs {\n",
       "  padding-left: 25px !important;\n",
       "}\n",
       "\n",
       ".xr-attrs,\n",
       ".xr-var-attrs,\n",
       ".xr-var-data,\n",
       ".xr-index-data {\n",
       "  grid-column: 1 / -1;\n",
       "}\n",
       "\n",
       "dl.xr-attrs {\n",
       "  padding: 0;\n",
       "  margin: 0;\n",
       "  display: grid;\n",
       "  grid-template-columns: 125px auto;\n",
       "}\n",
       "\n",
       ".xr-attrs dt,\n",
       ".xr-attrs dd {\n",
       "  padding: 0;\n",
       "  margin: 0;\n",
       "  float: left;\n",
       "  padding-right: 10px;\n",
       "  width: auto;\n",
       "}\n",
       "\n",
       ".xr-attrs dt {\n",
       "  font-weight: normal;\n",
       "  grid-column: 1;\n",
       "}\n",
       "\n",
       ".xr-attrs dt:hover span {\n",
       "  display: inline-block;\n",
       "  background: var(--xr-background-color);\n",
       "  padding-right: 10px;\n",
       "}\n",
       "\n",
       ".xr-attrs dd {\n",
       "  grid-column: 2;\n",
       "  white-space: pre-wrap;\n",
       "  word-break: break-all;\n",
       "}\n",
       "\n",
       ".xr-icon-database,\n",
       ".xr-icon-file-text2,\n",
       ".xr-no-icon {\n",
       "  display: inline-block;\n",
       "  vertical-align: middle;\n",
       "  width: 1em;\n",
       "  height: 1.5em !important;\n",
       "  stroke-width: 0;\n",
       "  stroke: currentColor;\n",
       "  fill: currentColor;\n",
       "}\n",
       "</style><pre class='xr-text-repr-fallback'>&lt;xarray.DataArray &#x27;hurricane_dist&#x27; (N_PROF: 2)&gt; Size: 2B\n",
       "array([ True,  True])\n",
       "Coordinates:\n",
       "  * N_PROF     (N_PROF) int64 16B 0 1\n",
       "    LATITUDE   (N_PROF) float64 16B 17.12 17.24\n",
       "    LONGITUDE  (N_PROF) float64 16B -108.1 -108.4\n",
       "    TIME       (N_PROF) datetime64[ns] 16B 2023-06-16T21:45:47.002000128 2023...</pre><div class='xr-wrap' style='display:none'><div class='xr-header'><div class='xr-obj-type'>xarray.DataArray</div><div class='xr-array-name'>'hurricane_dist'</div><ul class='xr-dim-list'><li><span class='xr-has-index'>N_PROF</span>: 2</li></ul></div><ul class='xr-sections'><li class='xr-section-item'><div class='xr-array-wrap'><input id='section-fff7e0a5-8054-42e6-9fba-a471ae1c6fb8' class='xr-array-in' type='checkbox' checked><label for='section-fff7e0a5-8054-42e6-9fba-a471ae1c6fb8' title='Show/hide data repr'><svg class='icon xr-icon-database'><use xlink:href='#icon-database'></use></svg></label><div class='xr-array-preview xr-preview'><span>True True</span></div><div class='xr-array-data'><pre>array([ True,  True])</pre></div></div></li><li class='xr-section-item'><input id='section-15bf2882-4c5d-40b7-8bc2-f1c1afb9567c' class='xr-section-summary-in' type='checkbox'  checked><label for='section-15bf2882-4c5d-40b7-8bc2-f1c1afb9567c' class='xr-section-summary' >Coordinates: <span>(4)</span></label><div class='xr-section-inline-details'></div><div class='xr-section-details'><ul class='xr-var-list'><li class='xr-var-item'><div class='xr-var-name'><span class='xr-has-index'>N_PROF</span></div><div class='xr-var-dims'>(N_PROF)</div><div class='xr-var-dtype'>int64</div><div class='xr-var-preview xr-preview'>0 1</div><input id='attrs-a704b5da-7762-40ee-a823-3b1fb021ddab' class='xr-var-attrs-in' type='checkbox' ><label for='attrs-a704b5da-7762-40ee-a823-3b1fb021ddab' title='Show/Hide attributes'><svg class='icon xr-icon-file-text2'><use xlink:href='#icon-file-text2'></use></svg></label><input id='data-107cf9b6-b970-462f-b71c-5c0e8bd169de' class='xr-var-data-in' type='checkbox'><label for='data-107cf9b6-b970-462f-b71c-5c0e8bd169de' title='Show/Hide data repr'><svg class='icon xr-icon-database'><use xlink:href='#icon-database'></use></svg></label><div class='xr-var-attrs'><dl class='xr-attrs'><dt><span>casted :</span></dt><dd>1</dd></dl></div><div class='xr-var-data'><pre>array([0, 1])</pre></div></li><li class='xr-var-item'><div class='xr-var-name'><span>LATITUDE</span></div><div class='xr-var-dims'>(N_PROF)</div><div class='xr-var-dtype'>float64</div><div class='xr-var-preview xr-preview'>17.12 17.24</div><input id='attrs-89268853-3df4-4ee4-8420-755772820382' class='xr-var-attrs-in' type='checkbox' ><label for='attrs-89268853-3df4-4ee4-8420-755772820382' title='Show/Hide attributes'><svg class='icon xr-icon-file-text2'><use xlink:href='#icon-file-text2'></use></svg></label><input id='data-f4dda3c3-82bf-419e-8fc6-58cc77947115' class='xr-var-data-in' type='checkbox'><label for='data-f4dda3c3-82bf-419e-8fc6-58cc77947115' title='Show/Hide data repr'><svg class='icon xr-icon-database'><use xlink:href='#icon-database'></use></svg></label><div class='xr-var-attrs'><dl class='xr-attrs'><dt><span>_CoordinateAxisType :</span></dt><dd>Lat</dd><dt><span>actual_range :</span></dt><dd>[17.123 17.679]</dd><dt><span>axis :</span></dt><dd>Y</dd><dt><span>colorBarMaximum :</span></dt><dd>90.0</dd><dt><span>colorBarMinimum :</span></dt><dd>-90.0</dd><dt><span>ioos_category :</span></dt><dd>Location</dd><dt><span>long_name :</span></dt><dd>Latitude of the station, best estimate</dd><dt><span>standard_name :</span></dt><dd>latitude</dd><dt><span>units :</span></dt><dd>degrees_north</dd><dt><span>valid_max :</span></dt><dd>90.0</dd><dt><span>valid_min :</span></dt><dd>-90.0</dd><dt><span>casted :</span></dt><dd>1</dd></dl></div><div class='xr-var-data'><pre>array([17.123, 17.242])</pre></div></li><li class='xr-var-item'><div class='xr-var-name'><span>LONGITUDE</span></div><div class='xr-var-dims'>(N_PROF)</div><div class='xr-var-dtype'>float64</div><div class='xr-var-preview xr-preview'>-108.1 -108.4</div><input id='attrs-4e695661-8911-400a-b1f4-bb1a98febfe0' class='xr-var-attrs-in' type='checkbox' ><label for='attrs-4e695661-8911-400a-b1f4-bb1a98febfe0' title='Show/Hide attributes'><svg class='icon xr-icon-file-text2'><use xlink:href='#icon-file-text2'></use></svg></label><input id='data-c23ab9bf-bea6-4efa-871a-7b78c8699c13' class='xr-var-data-in' type='checkbox'><label for='data-c23ab9bf-bea6-4efa-871a-7b78c8699c13' title='Show/Hide data repr'><svg class='icon xr-icon-database'><use xlink:href='#icon-database'></use></svg></label><div class='xr-var-attrs'><dl class='xr-attrs'><dt><span>_CoordinateAxisType :</span></dt><dd>Lon</dd><dt><span>actual_range :</span></dt><dd>[-108.404 -106.422]</dd><dt><span>axis :</span></dt><dd>X</dd><dt><span>colorBarMaximum :</span></dt><dd>180.0</dd><dt><span>colorBarMinimum :</span></dt><dd>-180.0</dd><dt><span>ioos_category :</span></dt><dd>Location</dd><dt><span>long_name :</span></dt><dd>Longitude of the station, best estimate</dd><dt><span>standard_name :</span></dt><dd>longitude</dd><dt><span>units :</span></dt><dd>degrees_east</dd><dt><span>valid_max :</span></dt><dd>180.0</dd><dt><span>valid_min :</span></dt><dd>-180.0</dd><dt><span>casted :</span></dt><dd>1</dd></dl></div><div class='xr-var-data'><pre>array([-108.148, -108.404])</pre></div></li><li class='xr-var-item'><div class='xr-var-name'><span>TIME</span></div><div class='xr-var-dims'>(N_PROF)</div><div class='xr-var-dtype'>datetime64[ns]</div><div class='xr-var-preview xr-preview'>2023-06-16T21:45:47.002000128 20...</div><input id='attrs-4c64a3b3-6975-4abf-86fd-b41b7abfff82' class='xr-var-attrs-in' type='checkbox' ><label for='attrs-4c64a3b3-6975-4abf-86fd-b41b7abfff82' title='Show/Hide attributes'><svg class='icon xr-icon-file-text2'><use xlink:href='#icon-file-text2'></use></svg></label><input id='data-bec780aa-5159-40d4-84e8-30d45925123e' class='xr-var-data-in' type='checkbox'><label for='data-bec780aa-5159-40d4-84e8-30d45925123e' title='Show/Hide data repr'><svg class='icon xr-icon-database'><use xlink:href='#icon-database'></use></svg></label><div class='xr-var-attrs'><dl class='xr-attrs'><dt><span>_CoordinateAxisType :</span></dt><dd>Time</dd><dt><span>actual_range :</span></dt><dd>[1.68695195e+09 1.68893203e+09]</dd><dt><span>axis :</span></dt><dd>T</dd><dt><span>conventions :</span></dt><dd>Relative julian days with decimal part (as parts of day)</dd><dt><span>ioos_category :</span></dt><dd>Time</dd><dt><span>long_name :</span></dt><dd>Julian day (UTC) of the station relative to REFERENCE_DATE_TIME</dd><dt><span>source_name :</span></dt><dd>JULD</dd><dt><span>standard_name :</span></dt><dd>time</dd><dt><span>time_origin :</span></dt><dd>01-JAN-1970 00:00:00</dd><dt><span>casted :</span></dt><dd>1</dd></dl></div><div class='xr-var-data'><pre>array([&#x27;2023-06-16T21:45:47.002000128&#x27;, &#x27;2023-06-27T06:07:06.000999936&#x27;],\n",
       "      dtype=&#x27;datetime64[ns]&#x27;)</pre></div></li></ul></div></li><li class='xr-section-item'><input id='section-87453cdc-d274-4ffa-987d-71f7742e4899' class='xr-section-summary-in' type='checkbox'  ><label for='section-87453cdc-d274-4ffa-987d-71f7742e4899' class='xr-section-summary' >Indexes: <span>(1)</span></label><div class='xr-section-inline-details'></div><div class='xr-section-details'><ul class='xr-var-list'><li class='xr-var-item'><div class='xr-index-name'><div>N_PROF</div></div><div class='xr-index-preview'>PandasIndex</div><input type='checkbox' disabled/><label></label><input id='index-e446f94d-deef-4bc8-a7da-a19ce1a8a081' class='xr-index-data-in' type='checkbox'/><label for='index-e446f94d-deef-4bc8-a7da-a19ce1a8a081' title='Show/Hide index repr'><svg class='icon xr-icon-database'><use xlink:href='#icon-database'></use></svg></label><div class='xr-index-data'><pre>PandasIndex(Index([0, 1], dtype=&#x27;int64&#x27;, name=&#x27;N_PROF&#x27;))</pre></div></li></ul></div></li><li class='xr-section-item'><input id='section-be56da3b-deb9-4e4e-b486-93f3efae9c70' class='xr-section-summary-in' type='checkbox' disabled ><label for='section-be56da3b-deb9-4e4e-b486-93f3efae9c70' class='xr-section-summary'  title='Expand/collapse section'>Attributes: <span>(0)</span></label><div class='xr-section-inline-details'></div><div class='xr-section-details'><dl class='xr-attrs'></dl></div></li></ul></div></div>"
      ],
      "text/plain": [
       "<xarray.DataArray 'hurricane_dist' (N_PROF: 2)> Size: 2B\n",
       "array([ True,  True])\n",
       "Coordinates:\n",
       "  * N_PROF     (N_PROF) int64 16B 0 1\n",
       "    LATITUDE   (N_PROF) float64 16B 17.12 17.24\n",
       "    LONGITUDE  (N_PROF) float64 16B -108.1 -108.4\n",
       "    TIME       (N_PROF) datetime64[ns] 16B 2023-06-16T21:45:47.002000128 2023..."
      ]
     },
     "execution_count": 99,
     "metadata": {},
     "output_type": "execute_result"
    }
   ],
   "source": [
    "in_dist"
   ]
  },
  {
   "cell_type": "code",
   "execution_count": 101,
   "id": "2dab2b93-76cb-4d00-9a7e-3af29b304284",
   "metadata": {},
   "outputs": [
    {
     "data": {
      "image/png": "[encoded data removed]",
      "text/plain": [
       "<Figure size 1400x600 with 2 Axes>"
      ]
     },
     "metadata": {},
     "output_type": "display_data"
    }
   ],
   "source": [
    "#Plot profile locations\n",
    "\n",
    "# Figure Attributes\n",
    "title_size = 16\n",
    "ax_size = 14\n",
    "\n",
    "# World Map - where is our data located?\n",
    "import cartopy.crs as ccrs\n",
    "import cartopy.feature as cfeature\n",
    "\n",
    "plt.figure(figsize=(14,6))\n",
    "# Projections\n",
    "ax = plt.axes(projection=ccrs.PlateCarree())\n",
    "ax.set_ylim(ilat-3,flat+3)\n",
    "ax.set_xlim(ilon-2,flon+7)\n",
    "ax.plot(\n",
    "    hur_center_lon, hur_center_lat,\n",
    "    marker='o', color='red', markersize=10,\n",
    "    transform=ccrs.PlateCarree(),\n",
    "    label=\"Hurricane Center\"\n",
    ")\n",
    "\n",
    "# Plot\n",
    "ds_int.plot.scatter(x='LONGITUDE', y='LATITUDE', hue='TEMP_ADJUSTED', cmap = cmocean.cm.thermal, \n",
    "                         transform = ccrs.PlateCarree())\n",
    "\n",
    "\n",
    "# Coastlines\n",
    "coast_50m = cfeature.NaturalEarthFeature('physical', 'land', '50m', edgecolor='k', facecolor='0.7')\n",
    "ax.add_feature(coast_50m)\n",
    "\n",
    "# Gridlines\n",
    "gl = ax.gridlines(crs=ccrs.PlateCarree(), draw_labels=True, #x_inline=False, y_inline=False,\n",
    "                  linewidth=1.5, color='black', alpha=0.6, linestyle='--')\n",
    "gl.right_labels = False\n",
    "gl.top_labels = False\n",
    "\n",
    "plt.title('Location of Argo Floats', size = title_size)\n",
    "plt.show()"
   ]
  },
  {
   "cell_type": "code",
   "execution_count": null,
   "id": "f0e4bb50-c62a-4f61-9640-2ab489efc556",
   "metadata": {},
   "outputs": [],
   "source": []
  },
  {
   "cell_type": "code",
   "execution_count": 80,
   "id": "a82c21a5-783c-4270-92ec-7eb8a0e35cbe",
   "metadata": {},
   "outputs": [
    {
     "data": {
      "text/plain": [
       "(1000.0, 0.0)"
      ]
     },
     "execution_count": 80,
     "metadata": {},
     "output_type": "execute_result"
    },
    {
     "data": {
      "image/png": "[encoded data removed]",
      "text/plain": [
       "<Figure size 640x480 with 1 Axes>"
      ]
     },
     "metadata": {},
     "output_type": "display_data"
    }
   ],
   "source": [
    "before = 8\n",
    "during = 9\n",
    "after = 10\n",
    "\n",
    "plt.figure()\n",
    "plt.plot(ds_int['DOXY_ADJUSTED'].sel(N_PROF=before), ds_int['PRES_ADJUSTED'].sel(N_PROF=14), c='black', label = 'Before')\n",
    "plt.plot(ds_int['DOXY_ADJUSTED'].sel(N_PROF=during), ds_int['PRES_ADJUSTED'].sel(N_PROF=14), c='red', label = 'During')\n",
    "plt.plot(ds_int['DOXY_ADJUSTED'].sel(N_PROF=after), ds_int['PRES_ADJUSTED'].sel(N_PROF=14), c='blue', label = 'After')\n",
    "plt.legend()\n",
    "plt.gca().invert_yaxis()\n",
    "plt.title(\"Oxygen Profile from Float \"+ str(ds_int['PLATFORM_NUMBER'].sel(N_PROF=14).values))\n",
    "plt.xlabel('Oxygen (µmol/kg)')\n",
    "plt.ylabel('Pressure (dbar)')\n",
    "plt.ylim(1000,0)\n"
   ]
  },
  {
   "cell_type": "code",
   "execution_count": null,
   "id": "d545dc4f-3140-4bb1-b79d-4c2b16a36552",
   "metadata": {},
   "outputs": [],
   "source": []
  },
  {
   "cell_type": "markdown",
   "id": "1ac9c5c5-5bde-429a-af43-8f1695bbf5f5",
   "metadata": {},
   "source": [
    "# Plot data from one float"
   ]
  },
  {
   "cell_type": "code",
   "execution_count": 13,
   "id": "16bece2c-6c8d-45f6-be0f-c5273e579a4a",
   "metadata": {},
   "outputs": [],
   "source": [
    "ds = xr.open_dataset(\"/home/jovyan/shared-public/OHW25/ArBu_proj_shared/float/WMO4903625_data.nc\")"
   ]
  },
  {
   "cell_type": "code",
   "execution_count": 10,
   "id": "89d43d46-ad01-4aa3-9351-63ba88ffcc4f",
   "metadata": {},
   "outputs": [
    {
     "name": "stderr",
     "output_type": "stream",
     "text": [
      "/srv/conda/envs/notebook/lib/python3.12/site-packages/argopy/xarray.py:70: FutureWarning: The return type of `Dataset.dims` will be changed to return a set of dimension names in future, in order to be more consistent with `DataArray.dims`. To access a mapping from dimension names to lengths, please use `Dataset.sizes`.\n",
      "  self._dims = list(xarray_obj.dims.keys())\n",
      "/srv/conda/envs/notebook/lib/python3.12/site-packages/argopy/xarray.py:70: FutureWarning: The return type of `Dataset.dims` will be changed to return a set of dimension names in future, in order to be more consistent with `DataArray.dims`. To access a mapping from dimension names to lengths, please use `Dataset.sizes`.\n",
      "  self._dims = list(xarray_obj.dims.keys())\n"
     ]
    }
   ],
   "source": [
    "ds = xr.load_dataset(\"/home/jovyan/shared-public/OHW25/ArBu_proj_shared/float/WMO4903625_data.nc\")\n",
    "# ds = ds.argo.filter_qc(QC_list=[1, 2, 8], QC_fields=['DOXY_ADJUSTED_QC', 'CHLA_ADJUSTED_QC', 'NITRATE_ADJUSTED_QC'], drop=True, mode='all', mask=False)\n",
    "ds = ds.argo.filter_qc(QC_list=[1, 2, 8], QC_fields=['TEMP_ADJUSTED_QC', 'PSAL_ADJUSTED_QC', 'DOXY_ADJUSTED_QC', 'CHLA_ADJUSTED_QC', 'NITRATE_ADJUSTED_QC'], drop=True, mode='all', mask=False)\n",
    "\n",
    "# # # calculate AOU\n",
    "# ds['SA'] = sw.conversions.SA_from_SP(ds.PSAL_ADJUSTED, ds.PRES_ADJUSTED, ds.LONGITUDE, ds.LATITUDE)\n",
    "# ds['CT'] = sw.conversions.CT_from_t(ds.SA, ds.TEMP_ADJUSTED, ds.PRES_ADJUSTED)\n",
    "\n",
    "# # sw.o2sol returns umol/kg\n",
    "# ds['DOXY_SAT'] = sw.O2sol(ds.SA , ds.CT, ds.PRES_ADJUSTED, ds.LONGITUDE, ds.LATITUDE)\n",
    "# ds['AOU'] = (ds.DOXY_SAT - ds.DOXY_ADJUSTED)\n",
    "\n",
    "# # convert to profiles and then interploate onto regular depth grid\n",
    "# ds_pr = ds.argo.point2profile()\n",
    "# ds_int = ds_pr.argo.interp_std_levels(np.arange(0,1010, 10))"
   ]
  },
  {
   "cell_type": "code",
   "execution_count": 15,
   "id": "12fbf425-3489-4e75-b52b-a33004cab71c",
   "metadata": {},
   "outputs": [
    {
     "name": "stderr",
     "output_type": "stream",
     "text": [
      "/srv/conda/envs/notebook/lib/python3.12/site-packages/argopy/xarray.py:70: FutureWarning: The return type of `Dataset.dims` will be changed to return a set of dimension names in future, in order to be more consistent with `DataArray.dims`. To access a mapping from dimension names to lengths, please use `Dataset.sizes`.\n",
      "  self._dims = list(xarray_obj.dims.keys())\n"
     ]
    },
    {
     "ename": "DTypePromotionError",
     "evalue": "The DType <class 'numpy.dtypes._PyLongDType'> could not be promoted by <class 'numpy.dtypes.StrDType'>. This means that no common DType exists for the given inputs. For example they cannot be stored in a single array unless the dtype is `object`. The full list of DTypes is: (<class 'numpy.dtypes._PyLongDType'>, <class 'numpy.dtypes.StrDType'>)",
     "output_type": "error",
     "traceback": [
      "\u001b[0;31m---------------------------------------------------------------------------\u001b[0m",
      "\u001b[0;31mDTypePromotionError\u001b[0m                       Traceback (most recent call last)",
      "Cell \u001b[0;32mIn[15], line 2\u001b[0m\n\u001b[1;32m      1\u001b[0m ds \u001b[38;5;241m=\u001b[39m ds\u001b[38;5;241m.\u001b[39margo\u001b[38;5;241m.\u001b[39mfilter_qc(QC_list\u001b[38;5;241m=\u001b[39m[\u001b[38;5;241m1\u001b[39m, \u001b[38;5;241m2\u001b[39m, \u001b[38;5;241m8\u001b[39m], QC_fields\u001b[38;5;241m=\u001b[39m[\u001b[38;5;124m'\u001b[39m\u001b[38;5;124mTEMP_ADJUSTED_QC\u001b[39m\u001b[38;5;124m'\u001b[39m, \u001b[38;5;124m'\u001b[39m\u001b[38;5;124mPSAL_ADJUSTED_QC\u001b[39m\u001b[38;5;124m'\u001b[39m, \u001b[38;5;124m'\u001b[39m\u001b[38;5;124mDOXY_ADJUSTED_QC\u001b[39m\u001b[38;5;124m'\u001b[39m, \u001b[38;5;124m'\u001b[39m\u001b[38;5;124mCHLA_ADJUSTED_QC\u001b[39m\u001b[38;5;124m'\u001b[39m, \u001b[38;5;124m'\u001b[39m\u001b[38;5;124mNITRATE_ADJUSTED_QC\u001b[39m\u001b[38;5;124m'\u001b[39m], drop\u001b[38;5;241m=\u001b[39m\u001b[38;5;28;01mTrue\u001b[39;00m, mode\u001b[38;5;241m=\u001b[39m\u001b[38;5;124m'\u001b[39m\u001b[38;5;124mall\u001b[39m\u001b[38;5;124m'\u001b[39m, mask\u001b[38;5;241m=\u001b[39m\u001b[38;5;28;01mFalse\u001b[39;00m)\n\u001b[0;32m----> 2\u001b[0m ds_pr \u001b[38;5;241m=\u001b[39m \u001b[43mds\u001b[49m\u001b[38;5;241;43m.\u001b[39;49m\u001b[43margo\u001b[49m\u001b[38;5;241;43m.\u001b[39;49m\u001b[43mpoint2profile\u001b[49m\u001b[43m(\u001b[49m\u001b[43m)\u001b[49m\n",
      "File \u001b[0;32m/srv/conda/envs/notebook/lib/python3.12/site-packages/argopy/xarray.py:374\u001b[0m, in \u001b[0;36mArgoAccessor.point2profile\u001b[0;34m(self, drop)\u001b[0m\n\u001b[1;32m    371\u001b[0m     \u001b[38;5;28;01mreturn\u001b[39;00m fillvalue\n\u001b[1;32m    373\u001b[0m \u001b[38;5;66;03m# Find the number of profiles (N_PROF) and vertical levels (N_LEVELS):\u001b[39;00m\n\u001b[0;32m--> 374\u001b[0m dummy_argo_uid \u001b[38;5;241m=\u001b[39m \u001b[38;5;28;43mself\u001b[39;49m\u001b[38;5;241;43m.\u001b[39;49m\u001b[43m_dummy_argo_uid\u001b[49m\n\u001b[1;32m    375\u001b[0m N_PROF \u001b[38;5;241m=\u001b[39m \u001b[38;5;28mlen\u001b[39m(np\u001b[38;5;241m.\u001b[39munique(dummy_argo_uid))\n\u001b[1;32m    377\u001b[0m N_LEVELS \u001b[38;5;241m=\u001b[39m \u001b[38;5;28mint\u001b[39m(\n\u001b[1;32m    378\u001b[0m     xr\u001b[38;5;241m.\u001b[39mDataArray(\n\u001b[1;32m    379\u001b[0m         np\u001b[38;5;241m.\u001b[39mones_like(this[\u001b[38;5;124m\"\u001b[39m\u001b[38;5;124mN_POINTS\u001b[39m\u001b[38;5;124m\"\u001b[39m]\u001b[38;5;241m.\u001b[39mvalues),\n\u001b[0;32m   (...)\u001b[0m\n\u001b[1;32m    386\u001b[0m     \u001b[38;5;241m.\u001b[39mvalues\n\u001b[1;32m    387\u001b[0m )\n",
      "File \u001b[0;32m/srv/conda/envs/notebook/lib/python3.12/site-packages/argopy/xarray.py:209\u001b[0m, in \u001b[0;36mArgoAccessor._dummy_argo_uid\u001b[0;34m(self)\u001b[0m\n\u001b[1;32m    205\u001b[0m \u001b[38;5;129m@property\u001b[39m\n\u001b[1;32m    206\u001b[0m \u001b[38;5;28;01mdef\u001b[39;00m\u001b[38;5;250m \u001b[39m\u001b[38;5;21m_dummy_argo_uid\u001b[39m(\u001b[38;5;28mself\u001b[39m):\n\u001b[1;32m    207\u001b[0m     \u001b[38;5;28;01mif\u001b[39;00m \u001b[38;5;28mself\u001b[39m\u001b[38;5;241m.\u001b[39m_type \u001b[38;5;241m==\u001b[39m \u001b[38;5;124m\"\u001b[39m\u001b[38;5;124mpoint\u001b[39m\u001b[38;5;124m\"\u001b[39m:\n\u001b[1;32m    208\u001b[0m         \u001b[38;5;28;01mreturn\u001b[39;00m xr\u001b[38;5;241m.\u001b[39mDataArray(\n\u001b[0;32m--> 209\u001b[0m                             \u001b[38;5;28;43mself\u001b[39;49m\u001b[38;5;241;43m.\u001b[39;49m\u001b[43muid\u001b[49m\u001b[43m(\u001b[49m\n\u001b[1;32m    210\u001b[0m \u001b[43m                                    \u001b[49m\u001b[38;5;28;43mself\u001b[39;49m\u001b[38;5;241;43m.\u001b[39;49m\u001b[43m_obj\u001b[49m\u001b[43m[\u001b[49m\u001b[38;5;124;43m\"\u001b[39;49m\u001b[38;5;124;43mPLATFORM_NUMBER\u001b[39;49m\u001b[38;5;124;43m\"\u001b[39;49m\u001b[43m]\u001b[49m\u001b[38;5;241;43m.\u001b[39;49m\u001b[43mvalues\u001b[49m\u001b[43m,\u001b[49m\n\u001b[1;32m    211\u001b[0m \u001b[43m                                    \u001b[49m\u001b[38;5;28;43mself\u001b[39;49m\u001b[38;5;241;43m.\u001b[39;49m\u001b[43m_obj\u001b[49m\u001b[43m[\u001b[49m\u001b[38;5;124;43m\"\u001b[39;49m\u001b[38;5;124;43mCYCLE_NUMBER\u001b[39;49m\u001b[38;5;124;43m\"\u001b[39;49m\u001b[43m]\u001b[49m\u001b[38;5;241;43m.\u001b[39;49m\u001b[43mvalues\u001b[49m\u001b[43m,\u001b[49m\n\u001b[1;32m    212\u001b[0m \u001b[43m                                    \u001b[49m\u001b[38;5;28;43mself\u001b[39;49m\u001b[38;5;241;43m.\u001b[39;49m\u001b[43m_obj\u001b[49m\u001b[43m[\u001b[49m\u001b[38;5;124;43m\"\u001b[39;49m\u001b[38;5;124;43mDIRECTION\u001b[39;49m\u001b[38;5;124;43m\"\u001b[39;49m\u001b[43m]\u001b[49m\u001b[38;5;241;43m.\u001b[39;49m\u001b[43mvalues\u001b[49m\u001b[43m,\u001b[49m\n\u001b[1;32m    213\u001b[0m \u001b[43m                            \u001b[49m\u001b[43m)\u001b[49m,\n\u001b[1;32m    214\u001b[0m                             dims\u001b[38;5;241m=\u001b[39m\u001b[38;5;124m\"\u001b[39m\u001b[38;5;124mN_POINTS\u001b[39m\u001b[38;5;124m\"\u001b[39m,\n\u001b[1;32m    215\u001b[0m                             coords\u001b[38;5;241m=\u001b[39m{\u001b[38;5;124m\"\u001b[39m\u001b[38;5;124mN_POINTS\u001b[39m\u001b[38;5;124m\"\u001b[39m: \u001b[38;5;28mself\u001b[39m\u001b[38;5;241m.\u001b[39m_obj[\u001b[38;5;124m\"\u001b[39m\u001b[38;5;124mN_POINTS\u001b[39m\u001b[38;5;124m\"\u001b[39m]},\n\u001b[1;32m    216\u001b[0m                             name\u001b[38;5;241m=\u001b[39m\u001b[38;5;124m\"\u001b[39m\u001b[38;5;124mdummy_argo_uid\u001b[39m\u001b[38;5;124m\"\u001b[39m,\n\u001b[1;32m    217\u001b[0m         )\n\u001b[1;32m    218\u001b[0m     \u001b[38;5;28;01melse\u001b[39;00m:\n\u001b[1;32m    219\u001b[0m         \u001b[38;5;28;01mraise\u001b[39;00m InvalidDatasetStructure(\n\u001b[1;32m    220\u001b[0m             \u001b[38;5;124m\"\u001b[39m\u001b[38;5;124mProperty only available for a collection of points\u001b[39m\u001b[38;5;124m\"\u001b[39m\n\u001b[1;32m    221\u001b[0m         )\n",
      "File \u001b[0;32m/srv/conda/envs/notebook/lib/python3.12/site-packages/argopy/xarray.py:267\u001b[0m, in \u001b[0;36mArgoAccessor.uid\u001b[0;34m(self, wmo_or_uid, cyc, direction)\u001b[0m\n\u001b[1;32m    263\u001b[0m \u001b[38;5;28;01mif\u001b[39;00m cyc \u001b[38;5;129;01mis\u001b[39;00m \u001b[38;5;129;01mnot\u001b[39;00m \u001b[38;5;28;01mNone\u001b[39;00m:\n\u001b[1;32m    264\u001b[0m     \u001b[38;5;66;03m# ENCODER\u001b[39;00m\n\u001b[1;32m    265\u001b[0m     \u001b[38;5;28;01mif\u001b[39;00m direction \u001b[38;5;129;01mis\u001b[39;00m \u001b[38;5;129;01mnot\u001b[39;00m \u001b[38;5;28;01mNone\u001b[39;00m:\n\u001b[1;32m    266\u001b[0m         \u001b[38;5;28;01mreturn\u001b[39;00m (\n\u001b[0;32m--> 267\u001b[0m             \u001b[43mencode_direction\u001b[49m\u001b[43m(\u001b[49m\u001b[43mdirection\u001b[49m\u001b[43m)\u001b[49m\n\u001b[1;32m    268\u001b[0m             \u001b[38;5;241m*\u001b[39m np\u001b[38;5;241m.\u001b[39mvectorize(\u001b[38;5;28mint\u001b[39m)(offset \u001b[38;5;241m*\u001b[39m wmo_or_uid \u001b[38;5;241m+\u001b[39m cyc)\u001b[38;5;241m.\u001b[39mravel()\n\u001b[1;32m    269\u001b[0m         )\n\u001b[1;32m    270\u001b[0m     \u001b[38;5;28;01melse\u001b[39;00m:\n\u001b[1;32m    271\u001b[0m         \u001b[38;5;28;01mreturn\u001b[39;00m np\u001b[38;5;241m.\u001b[39mvectorize(\u001b[38;5;28mint\u001b[39m)(offset \u001b[38;5;241m*\u001b[39m wmo_or_uid \u001b[38;5;241m+\u001b[39m cyc)\u001b[38;5;241m.\u001b[39mravel()\n",
      "File \u001b[0;32m/srv/conda/envs/notebook/lib/python3.12/site-packages/argopy/xarray.py:246\u001b[0m, in \u001b[0;36mArgoAccessor.uid.<locals>.encode_direction\u001b[0;34m(x)\u001b[0m\n\u001b[1;32m    245\u001b[0m \u001b[38;5;28;01mdef\u001b[39;00m\u001b[38;5;250m \u001b[39m\u001b[38;5;21mencode_direction\u001b[39m(x):\n\u001b[0;32m--> 246\u001b[0m     y \u001b[38;5;241m=\u001b[39m \u001b[43mnp\u001b[49m\u001b[38;5;241;43m.\u001b[39;49m\u001b[43mwhere\u001b[49m\u001b[43m(\u001b[49m\u001b[43mx\u001b[49m\u001b[43m \u001b[49m\u001b[38;5;241;43m==\u001b[39;49m\u001b[43m \u001b[49m\u001b[38;5;124;43m'\u001b[39;49m\u001b[38;5;124;43mA\u001b[39;49m\u001b[38;5;124;43m'\u001b[39;49m\u001b[43m,\u001b[49m\u001b[43m \u001b[49m\u001b[38;5;241;43m1\u001b[39;49m\u001b[43m,\u001b[49m\u001b[43m \u001b[49m\u001b[43mx\u001b[49m\u001b[43m)\u001b[49m\n\u001b[1;32m    247\u001b[0m     y \u001b[38;5;241m=\u001b[39m np\u001b[38;5;241m.\u001b[39mwhere(y \u001b[38;5;241m==\u001b[39m \u001b[38;5;124m'\u001b[39m\u001b[38;5;124mD\u001b[39m\u001b[38;5;124m'\u001b[39m, \u001b[38;5;241m-\u001b[39m\u001b[38;5;241m1\u001b[39m, y)\n\u001b[1;32m    248\u001b[0m     \u001b[38;5;28;01mtry\u001b[39;00m:\n",
      "\u001b[0;31mDTypePromotionError\u001b[0m: The DType <class 'numpy.dtypes._PyLongDType'> could not be promoted by <class 'numpy.dtypes.StrDType'>. This means that no common DType exists for the given inputs. For example they cannot be stored in a single array unless the dtype is `object`. The full list of DTypes is: (<class 'numpy.dtypes._PyLongDType'>, <class 'numpy.dtypes.StrDType'>)"
     ]
    }
   ],
   "source": [
    "ds = ds.argo.filter_qc(QC_list=[1, 2, 8], QC_fields=['TEMP_ADJUSTED_QC', 'PSAL_ADJUSTED_QC', 'DOXY_ADJUSTED_QC', 'CHLA_ADJUSTED_QC', 'NITRATE_ADJUSTED_QC'], drop=True, mode='all', mask=False)\n",
    "ds_pr = ds.argo.point2profile()"
   ]
  },
  {
   "cell_type": "code",
   "execution_count": null,
   "id": "e22d70f6-21b0-47ba-81cd-a4c91847fe90",
   "metadata": {},
   "outputs": [],
   "source": [
    "plt.figure(figsize=(10, 6))\n",
    "ax = plt.axes(projection=ccrs.PlateCarree())\n",
    "ax.set_extent([lon_min - 5, lon_max + 5, lat_min - 5, lat_max + 5])\n",
    "ax.add_feature(cfeature.COASTLINE)\n",
    "ax.add_feature(cfeature.BORDERS)\n",
    "ax.gridlines(draw_labels=True)\n",
    "\n",
    "# Plot hurricane path\n",
    "ax.plot(lons, lats, 'r-', label=f\"{name} path\")\n",
    "ax.scatter(lons, lats, color='red', s=10)\n",
    "\n",
    "# Plot Argo profiles\n",
    "ax.scatter(ds['LONGITUDE'], ds['LATITUDE'], color='blue', s=10, label='Argo profiles')\n",
    "\n",
    "plt.title(f\"{name} (2023) Hurricane Path & Argo Profiles\")\n",
    "plt.legend()\n",
    "output_file = f\"hurricane_argo_{name.lower().replace(' ', '_')}.png\"\n",
    "plt.savefig(output_file)\n",
    "plt.close()\n",
    "print(f\"Map saved to: {output_file}\")\n"
   ]
  }
 ],
 "metadata": {
  "kernelspec": {
   "display_name": "Python 3 (ipykernel)",
   "language": "python",
   "name": "python3"
  },
  "language_info": {
   "codemirror_mode": {
    "name": "ipython",
    "version": 3
   },
   "file_extension": ".py",
   "mimetype": "text/x-python",
   "name": "python",
   "nbconvert_exporter": "python",
   "pygments_lexer": "ipython3",
   "version": "3.12.10"
  }
 },
 "nbformat": 4,
 "nbformat_minor": 5
}
